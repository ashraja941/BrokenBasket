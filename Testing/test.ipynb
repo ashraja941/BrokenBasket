{
 "cells": [
  {
   "cell_type": "code",
   "execution_count": 4,
   "metadata": {},
   "outputs": [],
   "source": [
    "import pandas as pd\n",
    "import numpy as np\n",
    "from transformers import BertTokenizer\n",
    "import ast\n",
    "import torch\n",
    "import pickle as pkl\n",
    "\n",
    "ingredients_db = pkl.load(open('../Dataset/calories_embedded.pkl', 'rb'))"
   ]
  },
  {
   "cell_type": "code",
   "execution_count": 8,
   "metadata": {},
   "outputs": [
    {
     "name": "stdout",
     "output_type": "stream",
     "text": [
      "62\n"
     ]
    }
   ],
   "source": [
    "print(ingredients_db['Cals_per100grams'][0][:-4])"
   ]
  },
  {
   "cell_type": "code",
   "execution_count": 2,
   "metadata": {},
   "outputs": [],
   "source": [
    "temp_mp = {'Simple White Cake': [[280, 'all purpose flour'], [200, 'granulated sugar'], [100, 'unsalted butter'], [120, 'large eggs'], [10, 'vanilla extract']], 'Best Soft Chocolate Chip Cookies': [[225, 'all purpose flour'], [100, 'white sugar'], [50, 'light brown sugar'], [115, 'salted butter'], [60, 'large egg'], [40, 'vanilla'], [115, 'chocolate chips']], 'Best Homemade Brownies': [[190, 'all purpose flour'], [225, 'granulated sugar'], [80, 'cocoa powder'], [60, 'powdered sugar'], [115, 'dark chocolate chips'], [120, 'large eggs'], [60, 'canola oil'], [15, 'vanilla extract']]}"
   ]
  },
  {
   "cell_type": "code",
   "execution_count": 8,
   "metadata": {},
   "outputs": [],
   "source": [
    "def cosine(a,b):\n",
    "    print(type(a))\n",
    "    print(type(b))\n",
    "    # if a == 0 or b == 0:\n",
    "    #     return 0\n",
    "    return np.dot(a,b)/(np.linalg.norm(a)*np.linalg.norm(b))"
   ]
  },
  {
   "cell_type": "code",
   "execution_count": null,
   "metadata": {},
   "outputs": [
    {
     "name": "stdout",
     "output_type": "stream",
     "text": [
      "---CREATE MEAL PLAN---\n",
      "all purpose flour\n",
      "{'input_ids': tensor([[  101,  2035,  3800, 13724,   102]]), 'token_type_ids': tensor([[0, 0, 0, 0, 0]]), 'attention_mask': tensor([[1, 1, 1, 1, 1]])}\n",
      "<class 'numpy.ndarray'>\n",
      "<class 'pandas.core.series.Series'>\n"
     ]
    },
    {
     "ename": "ValueError",
     "evalue": "shapes (1,768) and (3,) not aligned: 768 (dim 1) != 3 (dim 0)",
     "output_type": "error",
     "traceback": [
      "\u001b[31m---------------------------------------------------------------------------\u001b[39m",
      "\u001b[31mValueError\u001b[39m                                Traceback (most recent call last)",
      "\u001b[36mCell\u001b[39m\u001b[36m \u001b[39m\u001b[32mIn[13]\u001b[39m\u001b[32m, line 31\u001b[39m\n\u001b[32m     28\u001b[39m     \u001b[38;5;28;01melse\u001b[39;00m: \n\u001b[32m     29\u001b[39m         \u001b[38;5;28;01mreturn\u001b[39;00m {\u001b[33m\"\u001b[39m\u001b[33mredo\u001b[39m\u001b[33m\"\u001b[39m: \u001b[38;5;28;01mFalse\u001b[39;00m, \u001b[33m\"\u001b[39m\u001b[33mcurrent_calories\u001b[39m\u001b[33m\"\u001b[39m: current_calories} \n\u001b[32m---> \u001b[39m\u001b[32m31\u001b[39m \u001b[43mcheck_meal_plan\u001b[49m\u001b[43m(\u001b[49m\u001b[43m)\u001b[49m\n",
      "\u001b[36mCell\u001b[39m\u001b[36m \u001b[39m\u001b[32mIn[13]\u001b[39m\u001b[32m, line 20\u001b[39m, in \u001b[36mcheck_meal_plan\u001b[39m\u001b[34m()\u001b[39m\n\u001b[32m     18\u001b[39m most_similar = (\u001b[32m0\u001b[39m,\u001b[33m\"\u001b[39m\u001b[33m\"\u001b[39m)\n\u001b[32m     19\u001b[39m \u001b[38;5;28;01mfor\u001b[39;00m index,item \u001b[38;5;129;01min\u001b[39;00m \u001b[38;5;28menumerate\u001b[39m(ingredients_db[\u001b[33m'\u001b[39m\u001b[33membedding\u001b[39m\u001b[33m'\u001b[39m]):\n\u001b[32m---> \u001b[39m\u001b[32m20\u001b[39m     \u001b[38;5;28;01mif\u001b[39;00m \u001b[43mcosine\u001b[49m\u001b[43m(\u001b[49m\u001b[43mitem\u001b[49m\u001b[43m,\u001b[49m\u001b[43mencoded_input\u001b[49m\u001b[43m)\u001b[49m > most_similar[\u001b[32m0\u001b[39m]:\n\u001b[32m     21\u001b[39m         most_similar = (cosine(item,encoded_input),index)\n\u001b[32m     23\u001b[39m \u001b[38;5;66;03m# calculate calories\u001b[39;00m\n",
      "\u001b[36mCell\u001b[39m\u001b[36m \u001b[39m\u001b[32mIn[8]\u001b[39m\u001b[32m, line 6\u001b[39m, in \u001b[36mcosine\u001b[39m\u001b[34m(a, b)\u001b[39m\n\u001b[32m      3\u001b[39m \u001b[38;5;28mprint\u001b[39m(\u001b[38;5;28mtype\u001b[39m(b))\n\u001b[32m      4\u001b[39m \u001b[38;5;66;03m# if a == 0 or b == 0:\u001b[39;00m\n\u001b[32m      5\u001b[39m \u001b[38;5;66;03m#     return 0\u001b[39;00m\n\u001b[32m----> \u001b[39m\u001b[32m6\u001b[39m \u001b[38;5;28;01mreturn\u001b[39;00m \u001b[43mnp\u001b[49m\u001b[43m.\u001b[49m\u001b[43mdot\u001b[49m\u001b[43m(\u001b[49m\u001b[43ma\u001b[49m\u001b[43m,\u001b[49m\u001b[43mb\u001b[49m\u001b[43m)\u001b[49m/(np.linalg.norm(a)*np.linalg.norm(b))\n",
      "\u001b[31mValueError\u001b[39m: shapes (1,768) and (3,) not aligned: 768 (dim 1) != 3 (dim 0)"
     ]
    }
   ],
   "source": [
    "def check_meal_plan():\n",
    "    print(\"---CREATE MEAL PLAN---\")\n",
    "    meal_plan = temp_mp\n",
    "    current_calories = 0\n",
    "    calorie_goal = 2000\n",
    "\n",
    "    # encoder\n",
    "    tokenizer = BertTokenizer.from_pretrained('bert-base-uncased')\n",
    "\n",
    "    for dish in meal_plan:\n",
    "        for grams, ingredient in meal_plan[dish]:\n",
    "            # vectorize ingredient\n",
    "            print(ingredient)\n",
    "            encoded_input = tokenizer(ingredient, max_length = 50, truncation=False, return_tensors='pt')\n",
    "            print(encoded_input)\n",
    "            encoded_input = pd.Series(encoded_input)\n",
    "            # compare to db\n",
    "            most_similar = (0,\"\")\n",
    "            for index,item in enumerate(ingredients_db['embedding']):\n",
    "                if cosine(item,encoded_input) > most_similar[0]:\n",
    "                    most_similar = (cosine(item,encoded_input),index)\n",
    "\n",
    "            # calculate calories\n",
    "            current_calories += grams * ingredients_db['Data.Carbohydrate'][most_similar[1]]\n",
    "\n",
    "    if current_calories > calorie_goal:\n",
    "        return {\"redo\": True}\n",
    "    else: \n",
    "        return {\"redo\": False, \"current_calories\": current_calories} \n",
    "\n",
    "check_meal_plan()"
   ]
  },
  {
   "cell_type": "code",
   "execution_count": null,
   "metadata": {},
   "outputs": [],
   "source": []
  }
 ],
 "metadata": {
  "kernelspec": {
   "display_name": ".venv",
   "language": "python",
   "name": "python3"
  },
  "language_info": {
   "codemirror_mode": {
    "name": "ipython",
    "version": 3
   },
   "file_extension": ".py",
   "mimetype": "text/x-python",
   "name": "python",
   "nbconvert_exporter": "python",
   "pygments_lexer": "ipython3",
   "version": "3.11.7"
  }
 },
 "nbformat": 4,
 "nbformat_minor": 2
}
