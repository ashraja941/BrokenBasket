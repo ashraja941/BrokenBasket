{
 "cells": [
  {
   "cell_type": "markdown",
   "metadata": {},
   "source": [
    "# setup langsmith "
   ]
  },
  {
   "cell_type": "code",
   "execution_count": 1,
   "metadata": {},
   "outputs": [],
   "source": [
    "from uuid import uuid4\n",
    "import os\n",
    "\n",
    "unique_id = uuid4().hex[0:8]\n",
    "os.environ[\"LANGCHAIN_TRACING_V2\"] = \"true\"\n",
    "os.environ[\"LANGCHAIN_PROJECT\"] = f\"Tracing Walkthrough - {unique_id}\"\n",
    "os.environ[\"LANGCHAIN_ENDPOINT\"] = \"https://api.smith.langchain.com\"\n",
    "os.environ[\"LANGCHAIN_API_KEY\"] = os.getenv('LANGCHAIN_API_KEY') # Update to your API key"
   ]
  },
  {
   "cell_type": "code",
   "execution_count": 2,
   "metadata": {},
   "outputs": [],
   "source": [
    "from langsmith import Client\n",
    "client = Client()"
   ]
  },
  {
   "cell_type": "markdown",
   "metadata": {},
   "source": [
    "# Load the database\n"
   ]
  },
  {
   "cell_type": "code",
   "execution_count": 3,
   "metadata": {},
   "outputs": [
    {
     "data": {
      "text/plain": [
       "True"
      ]
     },
     "execution_count": 3,
     "metadata": {},
     "output_type": "execute_result"
    }
   ],
   "source": [
    "from dotenv import load_dotenv\n",
    "import os\n",
    "load_dotenv()"
   ]
  },
  {
   "cell_type": "code",
   "execution_count": 4,
   "metadata": {},
   "outputs": [],
   "source": [
    "import cassio\n",
    "# connection of Astra DB\n",
    "ASTRA_DB_APPLICATION_TOKEN = os.getenv(\"ASTRA_DB_APPLICATION_TOKEN\")\n",
    "ASTRA_DB_ID = os.getenv(\"ASTRA_DB_ID\")\n",
    "\n",
    "cassio.init(\n",
    "    token = ASTRA_DB_APPLICATION_TOKEN,\n",
    "    database_id = ASTRA_DB_ID\n",
    ")"
   ]
  },
  {
   "cell_type": "code",
   "execution_count": 5,
   "metadata": {},
   "outputs": [
    {
     "name": "stderr",
     "output_type": "stream",
     "text": [
      "d:\\TAMU\\SEM 4\\CNM\\BrokenBasket\\.venv\\Lib\\site-packages\\tqdm\\auto.py:21: TqdmWarning: IProgress not found. Please update jupyter and ipywidgets. See https://ipywidgets.readthedocs.io/en/stable/user_install.html\n",
      "  from .autonotebook import tqdm as notebook_tqdm\n"
     ]
    }
   ],
   "source": [
    "from langchain_huggingface import HuggingFaceEmbeddings\n",
    "embeddings = HuggingFaceEmbeddings(model_name = \"all-MiniLM-L6-v2\")"
   ]
  },
  {
   "cell_type": "code",
   "execution_count": 6,
   "metadata": {},
   "outputs": [],
   "source": [
    "from langchain.vectorstores import Cassandra\n",
    "astra_vector_store = Cassandra(embedding=embeddings,\n",
    "                               table_name = \"CNM_test_table\",\n",
    "                               session=None,\n",
    "                               keyspace=None)"
   ]
  },
  {
   "cell_type": "code",
   "execution_count": 7,
   "metadata": {},
   "outputs": [
    {
     "data": {
      "text/plain": [
       "[Document(id='f221c87e5852447eaca5168f2e4349be', metadata={'description': 'These are THE BEST soft chocolate chip cookies! No chilling required. Just ultra thick, soft, classic chocolate chip cookies!', 'language': 'en-US', 'source': 'https://pinchofyum.com/the-best-soft-chocolate-chip-cookies/print/39213', 'title': 'The Best Soft Chocolate Chip Cookies Recipe - Pinch of Yum'}, page_content='Keywords: chocolate chip cookies, best chocolate chip cookies, soft chocolate chip cookies, easy cookie recipe, small batch cookies\\n\\n\\n\\n\\n\\nDid you make this recipe?\\nTag\\xa0@pinchofyum\\xa0on Instagram so we can admire your masterpiece!\\xa0🌟\\n\\n\\n\\n\\n\\n\\nFind it online: https://pinchofyum.com/the-best-soft-chocolate-chip-cookies'),\n",
       " Document(id='3af43e5c1fe84cd6a2ed6f96cd82bb7b', metadata={'description': 'These are THE BEST soft chocolate chip cookies! No chilling required. Just ultra thick, soft, classic chocolate chip cookies!', 'language': 'en-US', 'source': 'https://pinchofyum.com/the-best-soft-chocolate-chip-cookies/print/39213', 'title': 'The Best Soft Chocolate Chip Cookies Recipe - Pinch of Yum'}, page_content='The Best Soft Chocolate Chip Cookies Recipe - Pinch of Yum\\n\\n\\n\\n\\n\\n\\n\\n\\n\\n\\n\\n\\nThe Best Soft Chocolate Chip Cookies Recipe - Pinch of Yum\\n\\n\\n\\n\\n\\n\\n\\n\\n\\n\\n\\n\\n\\n\\n\\n\\n\\n\\n\\n\\n\\n\\n\\n\\n\\n\\n\\n\\n\\n\\n\\n\\n\\n\\n\\n\\n\\n\\n\\n\\n\\n\\n \\n\\n\\n\\n\\n\\n\\n\\n\\n\\n\\n\\n\\n\\n\\n\\n\\n\\n\\n\\n\\n\\n\\n\\n\\n\\n\\n\\n\\n\\n\\n\\n\\n\\n\\n\\n\\n\\n\\n\\n\\n\\n\\n\\n\\n\\n\\n\\n\\n\\n\\n\\n\\nPrint\\nclock clock iconcutlery cutlery iconflag flag iconfolder folder iconinstagram instagram iconpinterest pinterest iconfacebook facebook iconprint print iconsquares squares iconheart heart iconheart solid heart solid icon\\n\\n\\n \\nThe Best Soft Chocolate Chip Cookies\\n\\n\\n                                                 \\t\\t\\t\\t5 Stars\\t\\t\\t        \\t\\t\\t\\t4 Stars\\t\\t\\t        \\t\\t\\t\\t3 Stars\\t\\t\\t        \\t\\t\\t\\t2 Stars\\t\\t\\t        \\t\\t\\t\\t1 Star\\t\\t\\t  \\n4.5 from 1863 reviews\\n\\n\\n\\n\\n\\t\\t\\t\\t\\t\\t\\t\\t\\t\\t\\t\\t\\t\\tAuthor: Pinch of Yum \\n\\n\\n\\t\\t\\t\\t\\t\\t\\t\\t\\t\\t\\t\\t\\t\\t\\t\\tTotal Time: 20 minutes \\n\\n\\n\\t\\t\\t\\t\\t\\t\\t\\t\\t\\t\\t\\t\\t\\t\\t\\tYield: 12 cookies 1x \\n\\n\\n\\n\\n\\nDescription\\n\\nThese are THE BEST soft chocolate chip cookies! No chilling required. Just ultra thick, soft, classic chocolate chip cookies!\\n\\n\\n\\n\\n\\n\\nIngredients\\n\\n\\n\\nUnits\\nUSM \\n\\nScale\\n1/2x1x2x \\n\\n\\n\\n\\n8 tablespoons of salted butter\\n1/2 cup white sugar (I like to use raw cane sugar with a coarser texture)\\n1/4 cup packed light brown sugar\\n1 teaspoon vanilla\\n1 egg\\n1 1/2 cups all purpose flour (6.75 ounces)\\n1/2 teaspoon baking soda\\n1/4 teaspoon salt (but I always add a little extra)\\n3/4 cup chocolate chips (I use a combination of chocolate chips and chocolate chunks)\\n\\n \\n\\n\\n\\n\\n\\n\\n\\nCook Mode\\n\\n\\t\\t\\t\\tPrevent your screen from going dark\\t\\t\\t\\n\\n\\n\\n\\n\\n\\n\\nInstructions\\n\\n\\n\\nPreheat the oven to 350 degrees. Microwave the butter for about 40 seconds to just barely melt it. It shouldn’t be hot – but it should be almost entirely in liquid form.\\nUsing a stand mixer or electric beaters, beat the butter with the sugars until creamy. Add the vanilla and the egg; beat on low speed until just incorporated – 10-15 seconds or so (if you beat the egg for too long, the cookies will be stiff).\\nAdd the flour, baking soda, and salt. Mix until crumbles form. Use your hands to press the crumbles together into a dough. It should form one large ball that is easy to handle (right at the stage between “wet” dough and “dry” dough). Add the chocolate chips and incorporate with your hands.\\nRoll the dough into 12 large balls (or 9 for HUGELY awesome cookies) and place on a cookie sheet. Bake for 9-11 minutes until the cookies look puffy and dry and just barely golden. Warning, friends: DO NOT OVERBAKE. This advice is probably written on every cookie recipe everywhere, but this is essential for keeping the cookies soft. Take them out even if they look like they’re not done yet (see picture in the post). They’ll be pale and puffy.\\nLet them cool on the pan for a good 30 minutes or so (I mean, okay, eat four or five but then let the rest of them cool). They will sink down and turn into these dense, buttery, soft cookies that are the best in all the land. These should stay soft for many days if kept in an airtight container. I also like to freeze them.\\n\\n\\n\\n\\nEquipment\\n\\nSpatula\\nBuy Now → \\n\\nNonstick Sheet Pan\\nBuy Now → \\n\\nMixing Bowl\\nBuy Now → \\nThe equipment section may contain affiliate links to products we know and love. \\n\\n\\nPrep Time: 10 minsCook Time: 10 minsCategory: DessertMethod: BakeCuisine: American'),\n",
       " Document(id='0a5a899762784e62804702b8cc9a6b95', metadata={'description': \"This easy cake recipe requires just 7 ingredients and tastes like you spent hours making it, even though it's out of the oven in under an hour.\", 'language': 'en', 'source': 'https://www.allrecipes.com/recipe/17481/simple-white-cake/?print', 'title': 'Simple White Cake Recipe'}, page_content=\"Worth the effort\\nVery light, very great. This is my second time trying this recipe and it turned out just as amazing as the first time. Very beginner friendly, today I added some nuts on top. \\n\\n \\n05\\nof 663\\n\\n\\n\\n\\n\\n\\n\\n\\n\\n\\n\\nPhoto by\\xa0\\nSayeh Majzoob\\n\\n\\n\\n\\n\\n\\n\\n\\n\\n\\n\\n\\n\\n\\n\\n\\n\\n04/24/2024\\nSince I was short of time, I swapped butter with high quality sun flower oil, and also reduced the sugar a tiny bit. I made it in less than 10 minutes and baked it for 40 mins. It turned out amazing, served with blueberry jam and some fresh strawberries. Since it is simple bake its taste will surely highly depend on the quality of the ingredients. Use tasty starting materials. I creamed the egg and sugar thourougly. \\n\\n \\n06\\nof 663\\n\\n\\n\\n\\n\\n\\n\\n\\n\\n\\n\\nPhoto by\\xa0\\nPerkyBao1282\\n\\n\\n\\n\\n\\n\\n\\n\\n\\n\\n\\n\\n\\n\\n\\n\\n\\n04/13/2024\\n\\n\\n\\nEasy to follow\\n\\n\\n\\nWorth the effort\\n\\n\\n\\nCrowd-pleaser\\nThis is the third time I'm making this recipe. I love it \\n\\n \\n07\\nof 663\\n\\n\\n\\n\\n\\n\\n\\n\\n\\n\\n\\nPhoto by\\xa0\\nEagerFlour9876\\n\\n\\n\\n\\n\\n\\n\\n\\n\\n\\n\\n\\n\\n\\n\\n\\n\\n02/29/2024\\n\\n\\n\\nA keeper!\\n\\n\\n\\nCrowd-pleaser\\n\\n\\n\\nEasy to follow\\n\\n\\n\\nWorth the effort\\nI LOVED this recipe. It was quick easy and it was just overall great. I loved the flavor and so did my family. The texture and consistency was perfect. We used it for the Leap Day Party cake. I will definitely make this again. \\n\\n \\n08\\nof 663\\n\\n\\n\\n\\n\\n\\n\\n\\n\\n\\n\\nPhoto by\\xa0\\ncatzrule1990\\n\\n\\n\\n\\n\\n\\n\\n\\n\\n\\n\\n\\n\\n\\n\\n\\n\\n02/25/2024\\n\\n\\n\\nWorth the effort\\n\\n\\n\\nEasy to follow\\n\\n\\n\\nGreat flavors\\n\\n\\n\\nA keeper!\\n\\n\\n\\nCrowd-pleaser\\n\\n\\n\\nFamily favorite\\nBeen trying to find a simple vanilla/white cake for a long time that didn't involve egg whites/whipping egg whites. This cake fits the bill! it has a wonderful flavor and texture. Not fragile, but not too dense. Stands up just fine with two layers. It is lovely with or without frosting! I decided to make a buttercream frosting with very subtle strawberry flavor and both the frosting and cake compliment each other very well. I would also imagine that this cake would be perfect to use for strawberry shortcake!Definitely a new keeper recipe for me! Dad and I love it very much. 10/10 \\n\\n \\n09\\nof 663\\n\\n\\n\\n\\n\\n\\n\\n\\n\\n\\n\\nPhoto by\\xa0\\nMintPulp1911\\n\\n\\n\\n\\n\\n\\n\\n\\n\\n\\n\\n\\n\\n\\n\\n\\n\\n01/07/2024\\nI made this cake for my family and they loved it so much. Would definitely recommend \\n\\n \\n10\\nof 663\\n\\n\\n\\n\\n\\n\\n\\n\\n\\n\\n\\nPhoto by\\xa0\\nGoldenParm7351\\n\\n\\n\\n\\n\\n\\n\\n\\n\\n\\n\\n\\n\\n\\n\\n\\n\\n01/02/2024\\nWas very delicious and fluffy. Totally recommend using this recipe. \\n\\n\\n1\\n\\n\\n2\\n\\n\\n3\\n\\n\\n4\\n\\n\\n5\\n\\n\\n\\nNext\\n\\n\\n\\n\\n\\n\\n \\n\\n\\n\\n\\n\\nYou’ll Also Love\\n\\n\\n\\n\\n\\n\\n\\n\\n\\n \\n\\n\\n\\n\\n\\n\\n\\n\\nWedding Cake\\n\\n\\n\\n\\n\\n\\n\\n\\n\\n\\n\\n\\n\\n\\n\\n\\n\\n\\n\\n161\\n\\nRatings\\n\\n\\n \\n\\n\\n\\n\\n\\n\\n\\n\\n\\n\\n \\n\\n\\n\\n\\n\\n\\n\\n\\nEasy Birthday Cake\\n\\n \\n\\n\\n\\n\\n\\n\\n\\n\\n\\n\\n \\n\\n\\n\\n\\n\\n\\n\\n\\nCream Cake\\n\\n\\n\\n\\n\\n\\n\\n\\n\\n\\n\\n\\n\\n\\n\\n\\n\\n\\n\\n177\\n\\nRatings\\n\\n\\n \\n\\n\\n\\n\\n\\n\\n\\n\\n\\n\\n \\n\\n\\n\\n\\n\\n\\n\\n\\nSmash Cake\\n\\n\\n\\n\\n\\n\\n\\n\\n\\n\\n\\n\\n\\n\\n\\n\\n\\n\\n\\n2\\n\\nRatings\\n\\n\\n \\n\\n\\n\\n\\n\\n\\n\\n\\n\\n\\n \\n\\n\\n\\n\\n\\n\\n\\n\\nHeavenly White Cake\\n\\n\\n\\n\\n\\n\\n\\n\\n\\n\\n\\n\\n\\n\\n\\n\\n\\n\\n\\n973\\n\\nRatings\\n\\n\\n \\n\\n\\n\\n\\n\\n\\n\\n\\n\\n\\n \\n\\n\\n\\n\\n\\n\\n\\n\\nNany's White Cake\\n\\n\\n\\n\\n\\n\\n\\n\\n\\n\\n\\n\\n\\n\\n\\n\\n\\n\\n\\n136\\n\\nRatings\\n\\n\\n \\n\\n\\n\\n\\n\\n\\n\\n\\n\\n\\n \\n\\n\\n\\n\\n\\n\\n\\n\\nLori's White Cake\\n\\n\\n\\n\\n\\n\\n\\n\\n\\n\\n\\n\\n\\n\\n\\n\\n\\n\\n\\n28\\n\\nRatings\\n\\n\\n \\n\\n\\n\\n\\n\\n\\n\\n\\n\\n\\n \\n\\n\\n\\n\\n\\n\\n\\n\\nMock Angel Food Cake\\n\\n\\n\\n\\n\\n\\n\\n\\n\\n\\n\\n\\n\\n\\n\\n\\n\\n\\n\\n55\\n\\nRatings\"),\n",
       " Document(id='d61c2d48df544d9ab1ec4f56b13f4aaa', metadata={'language': 'en-US', 'source': 'https://www.loveandlemons.com/wprm_print/best-homemade-brownies', 'title': 'Best Homemade Brownies - Love and Lemons'}, page_content=\"Best Homemade Brownies - Love and Lemons     \\nGo Back\\nPrintRecipe ImageNotes–+\\xa0servingsSmallerNormalLargerBest Homemade BrowniesPrep Time: 5 minutes minsCook Time: 45 minutes minsServes 16 browniesThe ultimate recipe for brownies! They're fudgy, moist, and super chocolaty, with perfect crispy edges. From Weeknight Baking by Michelle Lopez.Equipment8x8 Baking Dish (this is the one I use so they don't overcook)Cooking Spray (I love this avocado oil one from Chosen Foods)Parchment Paper (this makes it so much easier to remove the brownies from the pan)Ingredients1 1/2 cups granulated sugar*3/4 cup all-purpose flour2/3 cup cocoa powder, sifted if lumpy1/2 cup powdered sugar, sifted if lumpy1/2 cup dark chocolate chips3/4 teaspoons sea salt2 large eggs1/2 cup canola oil or extra-virgin olive oil**2 tablespoons water1/2 teaspoon vanillaInstructionsPreheat the oven to 325°F. Lightly spray an 8x8 baking dish (not a 9x9 dish or your brownies will overcook) with cooking spray and line it with parchment paper. Spray the parchment paper.In a medium bowl, combine the sugar, flour, cocoa powder, powdered sugar, chocolate chips, and salt.In a large bowl, whisk together the eggs, olive oil, water, and vanilla.Sprinkle the dry mix over the wet mix and stir until just combined.Pour the batter into the prepared pan (it'll be thick - that's ok) and use a spatula to smooth the top. Bake for 40 to 48 minutes, or until a toothpick comes out with only a few crumbs attached (note: it's better to pull the brownies out early than to leave them in too long). Cool completely before slicing.*** Store in an airtight container at room temperature for up to 3 days. These also freeze well!Notes*If you'd like to reduce the sugar, I've had success with 1 cup granulated sugar instead of 1 1/2 cups.\\n**I like to use olive oil because it's what I keep on hand and I enjoy the pairing of olive oil with chocolate. Keep in mind that you will taste it here. For a more neutral flavor, use canola oil.\\n***When these brownies come out of the oven, they'll be super gooey in the middle. Allow them to cool completely, about 2 hours, before you slice into them to give them a chance to set up. They'll continue to firm up the longer they're out of the oven. If you still prefer a firmer brownie, store them in the fridge.Find it online at https://www.loveandlemons.com/brownies-recipe/\")]"
      ]
     },
     "execution_count": 7,
     "metadata": {},
     "output_type": "execute_result"
    }
   ],
   "source": [
    "retriever = astra_vector_store.as_retriever()\n",
    "retriever.invoke(\"Give me a cookie recipe\")"
   ]
  },
  {
   "cell_type": "markdown",
   "metadata": {},
   "source": [
    "# Langgraph "
   ]
  },
  {
   "cell_type": "code",
   "execution_count": 8,
   "metadata": {},
   "outputs": [
    {
     "name": "stderr",
     "output_type": "stream",
     "text": [
      "d:\\TAMU\\SEM 4\\CNM\\BrokenBasket\\.venv\\Lib\\site-packages\\IPython\\core\\interactiveshell.py:3549: LangChainDeprecationWarning: As of langchain-core 0.3.0, LangChain uses pydantic v2 internally. The langchain_core.pydantic_v1 module was a compatibility shim for pydantic v1, and should no longer be used. Please update the code to import from Pydantic directly.\n",
      "\n",
      "For example, replace imports like: `from langchain_core.pydantic_v1 import BaseModel`\n",
      "with: `from pydantic import BaseModel`\n",
      "or the v1 compatibility namespace if you are working in a code base that has not been fully upgraded to pydantic 2 yet. \tfrom pydantic.v1 import BaseModel\n",
      "\n",
      "  exec(code_obj, self.user_global_ns, self.user_ns)\n"
     ]
    }
   ],
   "source": [
    "# langgraph application\n",
    "from typing import Literal\n",
    "\n",
    "from langchain_core.prompts import ChatPromptTemplate,PromptTemplate\n",
    "from langchain_core.pydantic_v1 import BaseModel, Field\n",
    "from langchain_core.output_parsers import StrOutputParser\n"
   ]
  },
  {
   "cell_type": "code",
   "execution_count": 9,
   "metadata": {},
   "outputs": [],
   "source": [
    "# Data model\n",
    "class RouteQuery(BaseModel):\n",
    "  \"\"\"Route a user query to the most relevant datasource\"\"\"\n",
    "  datasource: Literal[\"vectorstore\",\"chat\"] = Field(\n",
    "      ...,\n",
    "      description=\"Given a user question choose to route it to chat or a vectorstore\"\n",
    "  )"
   ]
  },
  {
   "cell_type": "code",
   "execution_count": 10,
   "metadata": {},
   "outputs": [],
   "source": [
    "from langchain_groq import ChatGroq\n",
    "import os\n",
    "groq_api_key = os.getenv('groq_api_key')\n",
    "# print(groq_api_key)"
   ]
  },
  {
   "cell_type": "code",
   "execution_count": 11,
   "metadata": {},
   "outputs": [],
   "source": [
    "llm=ChatGroq(groq_api_key=groq_api_key,model_name='Llama-3.3-70b-Versatile')\n",
    "structured_llm_router=llm.with_structured_output(RouteQuery)"
   ]
  },
  {
   "cell_type": "code",
   "execution_count": 12,
   "metadata": {},
   "outputs": [
    {
     "name": "stdout",
     "output_type": "stream",
     "text": [
      "datasource='chat'\n",
      "datasource='vectorstore'\n"
     ]
    }
   ],
   "source": [
    "# Prompt\n",
    "system = \"\"\"You are an expert at routing a user question to a vectorstore or chat.\n",
    "The vectorstore contains documents related to baking recipes.\n",
    "Use the vectorstore for questions on these topics. Otherwise, use chat.\"\"\"\n",
    "route_prompt = ChatPromptTemplate.from_messages(\n",
    "    [\n",
    "        (\"system\", system),\n",
    "        (\"human\", \"{message}\"),\n",
    "    ]\n",
    ")\n",
    "\n",
    "question_router = route_prompt | structured_llm_router\n",
    "print(\n",
    "    question_router.invoke(\n",
    "        {\"message\": \"what is stardew Valley\"}\n",
    "    )\n",
    ")\n",
    "print(question_router.invoke({\"message\": \"How to make a sweet dessert\"}))"
   ]
  },
  {
   "cell_type": "code",
   "execution_count": 13,
   "metadata": {},
   "outputs": [],
   "source": [
    "chat_llm = ChatGroq(groq_api_key=groq_api_key,model_name='Llama-3.3-70b-Versatile')"
   ]
  },
  {
   "cell_type": "code",
   "execution_count": 14,
   "metadata": {},
   "outputs": [],
   "source": [
    "## Graph\n",
    "\n",
    "from typing import List,Annotated\n",
    "from langchain_core.messages import AnyMessage\n",
    "from langgraph.graph import add_messages\n",
    "from typing_extensions import TypedDict\n",
    "\n",
    "\n",
    "class GraphState(TypedDict):\n",
    "    \"\"\"\n",
    "    Represents the state of our graph.\n",
    "\n",
    "    Attributes:\n",
    "        question: question\n",
    "        generation: LLM generation\n",
    "        documents: list of documents\n",
    "    \"\"\"\n",
    "    messages: Annotated[list[AnyMessage], add_messages]\n",
    "    documents: List[str]"
   ]
  },
  {
   "cell_type": "code",
   "execution_count": 15,
   "metadata": {},
   "outputs": [],
   "source": [
    "from langchain_core.messages import trim_messages\n",
    "\n",
    "def trim(state):\n",
    "    response = trim_messages(\n",
    "        state[\"messages\"],\n",
    "        # Keep the last <= n_count tokens of the messages.\n",
    "        strategy=\"last\",\n",
    "        token_counter=len,\n",
    "        # When token_counter=len, each message\n",
    "        # will be counted as a single token.\n",
    "        # Remember to adjust for your use case\n",
    "        max_tokens=4,\n",
    "        # Most chat models expect that chat history starts with either:\n",
    "        # (1) a HumanMessage or\n",
    "        # (2) a SystemMessage followed by a HumanMessage\n",
    "        start_on=\"human\",\n",
    "        # Most chat models expect that chat history ends with either:\n",
    "        # (1) a HumanMessage or\n",
    "        # (2) a ToolMessage\n",
    "        end_on=(\"human\", \"tool\"),\n",
    "        # Usually, we want to keep the SystemMessage\n",
    "        # if it's present in the original history.\n",
    "        # The SystemMessage has special instructions for the model.\n",
    "        include_system=True,\n",
    "    )\n",
    "    return {\"messages\": response}"
   ]
  },
  {
   "cell_type": "code",
   "execution_count": 16,
   "metadata": {},
   "outputs": [],
   "source": [
    "def chat_bot(state):\n",
    "    response = chat_llm.invoke(state[\"messages\"])\n",
    "    return {\"messages\": response}"
   ]
  },
  {
   "cell_type": "code",
   "execution_count": 17,
   "metadata": {},
   "outputs": [],
   "source": [
    "\n",
    "from langgraph.graph import END, START, StateGraph\n",
    "from langgraph.checkpoint.memory import MemorySaver\n",
    "from langchain_core.messages import AIMessage,HumanMessage\n",
    "\n",
    "\n",
    "workflow = StateGraph(GraphState)\n",
    "\n",
    "workflow.add_node(\"chat\", chat_bot)\n",
    "workflow.add_node(\"trim\", trim)\n",
    "\n",
    "workflow.add_edge(START, \"trim\")\n",
    "workflow.add_edge(\"trim\", \"chat\")\n",
    "workflow.add_edge(\"chat\", END)\n",
    "\n",
    "memory = MemorySaver()\n",
    "app = workflow.compile(checkpointer = memory)"
   ]
  },
  {
   "cell_type": "code",
   "execution_count": 18,
   "metadata": {},
   "outputs": [
    {
     "name": "stdout",
     "output_type": "stream",
     "text": [
      "==================================\u001b[1m Ai Message \u001b[0m==================================\n",
      "\n",
      "I don't know your name. I'm a large language model, I don't have the ability to know your personal information, including your name, unless you tell me. If you'd like to share your name, I'd be happy to chat with you and use it in our conversation.\n"
     ]
    }
   ],
   "source": [
    "config = {\"configurable\": {\"thread_id\": \"1\"}}\n",
    "\n",
    "input_message = [HumanMessage(content=\"What is my name?\")]\n",
    "output = app.invoke({\"messages\":input_message},config=config)\n",
    "output[\"messages\"][-1].pretty_print()"
   ]
  },
  {
   "cell_type": "code",
   "execution_count": 19,
   "metadata": {},
   "outputs": [
    {
     "name": "stdout",
     "output_type": "stream",
     "text": [
      "==================================\u001b[1m Ai Message \u001b[0m==================================\n",
      "\n",
      "1 + 1 = 2\n"
     ]
    }
   ],
   "source": [
    "input_message = [HumanMessage(content=\"what is 1 + 1\")]\n",
    "output = app.invoke({\"messages\":input_message},config=config)\n",
    "output[\"messages\"][-1].pretty_print()"
   ]
  },
  {
   "cell_type": "code",
   "execution_count": 21,
   "metadata": {},
   "outputs": [
    {
     "name": "stdout",
     "output_type": "stream",
     "text": [
      "==================================\u001b[1m Ai Message \u001b[0m==================================\n",
      "\n",
      "2 + 3 = 5\n"
     ]
    }
   ],
   "source": [
    "input_message = [HumanMessage(content=\"What is 2 + 3\")]\n",
    "output = app.invoke({\"messages\":input_message},config=config)\n",
    "output[\"messages\"][-1].pretty_print()"
   ]
  },
  {
   "cell_type": "code",
   "execution_count": null,
   "metadata": {},
   "outputs": [],
   "source": []
  }
 ],
 "metadata": {
  "kernelspec": {
   "display_name": ".venv",
   "language": "python",
   "name": "python3"
  },
  "language_info": {
   "codemirror_mode": {
    "name": "ipython",
    "version": 3
   },
   "file_extension": ".py",
   "mimetype": "text/x-python",
   "name": "python",
   "nbconvert_exporter": "python",
   "pygments_lexer": "ipython3",
   "version": "3.11.7"
  }
 },
 "nbformat": 4,
 "nbformat_minor": 2
}
