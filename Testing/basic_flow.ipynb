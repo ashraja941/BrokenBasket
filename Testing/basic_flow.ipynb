{
 "cells": [
  {
   "cell_type": "markdown",
   "metadata": {},
   "source": [
    "# Handle imports"
   ]
  },
  {
   "cell_type": "code",
   "execution_count": 1,
   "metadata": {},
   "outputs": [
    {
     "name": "stderr",
     "output_type": "stream",
     "text": [
      "d:\\TAMU\\SEM 4\\CNM\\BrokenBasket\\.venv\\Lib\\site-packages\\IPython\\core\\interactiveshell.py:3549: LangChainDeprecationWarning: As of langchain-core 0.3.0, LangChain uses pydantic v2 internally. The langchain_core.pydantic_v1 module was a compatibility shim for pydantic v1, and should no longer be used. Please update the code to import from Pydantic directly.\n",
      "\n",
      "For example, replace imports like: `from langchain_core.pydantic_v1 import BaseModel`\n",
      "with: `from pydantic import BaseModel`\n",
      "or the v1 compatibility namespace if you are working in a code base that has not been fully upgraded to pydantic 2 yet. \tfrom pydantic.v1 import BaseModel\n",
      "\n",
      "  exec(code_obj, self.user_global_ns, self.user_ns)\n"
     ]
    },
    {
     "data": {
      "text/plain": [
       "True"
      ]
     },
     "execution_count": 1,
     "metadata": {},
     "output_type": "execute_result"
    }
   ],
   "source": [
    "from dotenv import load_dotenv\n",
    "import os\n",
    "import cassio\n",
    "from uuid import uuid4\n",
    "import numpy as np\n",
    "import pandas as pd\n",
    "import json\n",
    "import pandas as pd\n",
    "\n",
    "\n",
    "from typing import Literal,List,Annotated\n",
    "\n",
    "from langchain_core.prompts import ChatPromptTemplate,PromptTemplate\n",
    "from langchain_core.pydantic_v1 import BaseModel, Field\n",
    "from langchain_core.output_parsers import StrOutputParser\n",
    "from langchain_core.messages import AnyMessage,trim_messages,AIMessage,HumanMessage,RemoveMessage\n",
    "from langchain_core.output_parsers import StrOutputParser,JsonOutputParser\n",
    "from langchain_core.documents import Document\n",
    "from langchain_groq import ChatGroq\n",
    "from langchain_openai import ChatOpenAI\n",
    "\n",
    "from langgraph.graph import END, START, StateGraph\n",
    "from langgraph.checkpoint.memory import MemorySaver\n",
    "from langgraph.graph import add_messages\n",
    "\n",
    "from typing_extensions import TypedDict\n",
    "\n",
    "from transformers import BertTokenizer,BertModel\n",
    "import pickle as pkl\n",
    "\n",
    "load_dotenv()"
   ]
  },
  {
   "cell_type": "code",
   "execution_count": 2,
   "metadata": {},
   "outputs": [],
   "source": [
    "unique_id = uuid4().hex[0:8]\n",
    "os.environ[\"LANGCHAIN_TRACING_V2\"] = \"true\"\n",
    "os.environ[\"LANGCHAIN_PROJECT\"] = f\"Tracing Walkthrough - {unique_id}\"\n",
    "os.environ[\"LANGCHAIN_ENDPOINT\"] = \"https://api.smith.langchain.com\"\n",
    "os.environ[\"LANGCHAIN_API_KEY\"] = os.getenv('LANGCHAIN_API_KEY') # Update to your API key\n",
    "os.environ[\"HUGGINGFACEHUB_API_TOKEN\"] = os.getenv('HUGGINGFACEHUB_API_TOKEN')\n",
    "os.environ[\"OPENAI_API_KEY\"] = os.getenv('OPENAI_API_KEY') # Update to your API key if using OpenAI\n",
    "os.environ[\"GROQ_API_KEY\"] = os.getenv('GROQ_API_KEY')\n",
    "# groq_api_key = os.getenv('GROQ_API_KEY')\n"
   ]
  },
  {
   "cell_type": "code",
   "execution_count": 3,
   "metadata": {},
   "outputs": [],
   "source": [
    "from langsmith import Client\n",
    "client = Client()"
   ]
  },
  {
   "cell_type": "markdown",
   "metadata": {},
   "source": [
    "# Connect to the database"
   ]
  },
  {
   "cell_type": "code",
   "execution_count": 4,
   "metadata": {},
   "outputs": [],
   "source": [
    "# ingredients_db = pkl.load(open('Dataset/preprocessed_data_with_embeddings.pkl', 'rb'))\n",
    "ingredients_db = pkl.load(open('Dataset/calories_embedded.pkl', 'rb'))"
   ]
  },
  {
   "cell_type": "code",
   "execution_count": 5,
   "metadata": {},
   "outputs": [
    {
     "data": {
      "text/html": [
       "<div>\n",
       "<style scoped>\n",
       "    .dataframe tbody tr th:only-of-type {\n",
       "        vertical-align: middle;\n",
       "    }\n",
       "\n",
       "    .dataframe tbody tr th {\n",
       "        vertical-align: top;\n",
       "    }\n",
       "\n",
       "    .dataframe thead th {\n",
       "        text-align: right;\n",
       "    }\n",
       "</style>\n",
       "<table border=\"1\" class=\"dataframe\">\n",
       "  <thead>\n",
       "    <tr style=\"text-align: right;\">\n",
       "      <th></th>\n",
       "      <th>FoodCategory</th>\n",
       "      <th>FoodItem</th>\n",
       "      <th>per100grams</th>\n",
       "      <th>Cals_per100grams</th>\n",
       "      <th>embedding</th>\n",
       "    </tr>\n",
       "  </thead>\n",
       "  <tbody>\n",
       "    <tr>\n",
       "      <th>0</th>\n",
       "      <td>CannedFruit</td>\n",
       "      <td>Applesauce</td>\n",
       "      <td>100g</td>\n",
       "      <td>62 cal</td>\n",
       "      <td>[[-0.24007308, 0.09068904, -0.057347823, -0.08...</td>\n",
       "    </tr>\n",
       "    <tr>\n",
       "      <th>1</th>\n",
       "      <td>CannedFruit</td>\n",
       "      <td>Canned Apricots</td>\n",
       "      <td>100g</td>\n",
       "      <td>48 cal</td>\n",
       "      <td>[[-0.20948026, -0.038242195, -0.51229817, 0.26...</td>\n",
       "    </tr>\n",
       "    <tr>\n",
       "      <th>2</th>\n",
       "      <td>CannedFruit</td>\n",
       "      <td>Canned Blackberries</td>\n",
       "      <td>100g</td>\n",
       "      <td>92 cal</td>\n",
       "      <td>[[-0.42622027, 0.15006654, -0.5919996, 0.18029...</td>\n",
       "    </tr>\n",
       "    <tr>\n",
       "      <th>3</th>\n",
       "      <td>CannedFruit</td>\n",
       "      <td>Canned Blueberries</td>\n",
       "      <td>100g</td>\n",
       "      <td>88 cal</td>\n",
       "      <td>[[-0.36144668, 0.17941771, -0.47740045, 0.3089...</td>\n",
       "    </tr>\n",
       "    <tr>\n",
       "      <th>4</th>\n",
       "      <td>CannedFruit</td>\n",
       "      <td>Canned Cherries</td>\n",
       "      <td>100g</td>\n",
       "      <td>54 cal</td>\n",
       "      <td>[[-0.16118407, 0.20291516, -0.28830114, 0.3585...</td>\n",
       "    </tr>\n",
       "  </tbody>\n",
       "</table>\n",
       "</div>"
      ],
      "text/plain": [
       "  FoodCategory             FoodItem per100grams Cals_per100grams  \\\n",
       "0  CannedFruit           Applesauce        100g           62 cal   \n",
       "1  CannedFruit      Canned Apricots        100g           48 cal   \n",
       "2  CannedFruit  Canned Blackberries        100g           92 cal   \n",
       "3  CannedFruit   Canned Blueberries        100g           88 cal   \n",
       "4  CannedFruit      Canned Cherries        100g           54 cal   \n",
       "\n",
       "                                           embedding  \n",
       "0  [[-0.24007308, 0.09068904, -0.057347823, -0.08...  \n",
       "1  [[-0.20948026, -0.038242195, -0.51229817, 0.26...  \n",
       "2  [[-0.42622027, 0.15006654, -0.5919996, 0.18029...  \n",
       "3  [[-0.36144668, 0.17941771, -0.47740045, 0.3089...  \n",
       "4  [[-0.16118407, 0.20291516, -0.28830114, 0.3585...  "
      ]
     },
     "execution_count": 5,
     "metadata": {},
     "output_type": "execute_result"
    }
   ],
   "source": [
    "ingredients_db.head()"
   ]
  },
  {
   "cell_type": "code",
   "execution_count": 6,
   "metadata": {},
   "outputs": [],
   "source": [
    "# connection of Astra DB\n",
    "ASTRA_DB_APPLICATION_TOKEN = os.getenv(\"ASTRA_DB_APPLICATION_TOKEN\")\n",
    "ASTRA_DB_ID = os.getenv(\"ASTRA_DB_ID\")\n",
    "\n",
    "cassio.init(\n",
    "    token = ASTRA_DB_APPLICATION_TOKEN,\n",
    "    database_id = ASTRA_DB_ID\n",
    ")"
   ]
  },
  {
   "cell_type": "code",
   "execution_count": 7,
   "metadata": {},
   "outputs": [],
   "source": [
    "from langchain_huggingface import HuggingFaceEmbeddings\n",
    "embeddings = HuggingFaceEmbeddings(model_name = \"all-MiniLM-L6-v2\")"
   ]
  },
  {
   "cell_type": "code",
   "execution_count": 8,
   "metadata": {},
   "outputs": [],
   "source": [
    "from langchain.vectorstores import Cassandra\n",
    "astra_vector_store = Cassandra(embedding=embeddings,\n",
    "                               table_name = \"CNM_test_table\",\n",
    "                               session=None,\n",
    "                               keyspace=None)"
   ]
  },
  {
   "cell_type": "code",
   "execution_count": 9,
   "metadata": {},
   "outputs": [
    {
     "data": {
      "text/plain": [
       "[Document(id='423043d548c040abbdbc0ebaa6b1221e', metadata={'seq_num': '3978.0', 'source': 'D:\\\\TAMU\\\\SEM 4\\\\CNM\\\\BrokenBasket\\\\Dataset\\\\recipe.json'}, page_content='{\"directions\": [\"Preheat oven to 375\\\\u00b0F. Butter heavy large cookie sheets. Beat vegetable shortening and unsalted butter in large bowl until light. Gradually add white and brown sugars and beat mixture until fluffy. Add eggs 1 at a time, beating well after each addition. Add vanilla pudding mix, vanilla extract, baking soda, water, ground cinnamon, ground nutmeg and salt and mix until well blended. Mix in oats, then flour. Stir in chocolate chips and walnuts.\", \"Drop cookie dough by large rounded spoonfuls (about 3 tablespoons each) onto prepared cookie sheets, spacing 2 inches apart. Bake until cookies appear dry and tops are lightly cracked and soft when pressed, about 12 minutes (do not overbake). Cool cookies 5 minutes on cookie sheets. Transfer cookies to racks and cool. (Store cookies in airtight container.)\"], \"sodium\": 135, \"date\": \"2004-08-20T04:00:00.000Z\", \"calories\": 231, \"categories\": [\"Cookies\", \"Chocolate\", \"Dessert\", \"Bake\", \"Oat\", \"Bon App\\\\u00e9tit\", \"Los Angeles\", \"California\"], \"desc\": null, \"protein\": 3, \"fat\": 13, \"rating\": 4.375, \"title\": \"Chocolate Chip Oatmeal Cookies \", \"ingredients\": [\"1/2 cup solid vegetable shortening\", \"1/2 cup (1 stick) unsalted butter, room temperature\", \"3/4 cup sugar\", \"3/4 cup firmly packed dark brown sugar\", \"2 eggs\", \"1 3.4-ounce package vanilla instant pudding mix\", \"1 tablespoon vanilla extract\", \"1 teaspoon baking soda\", \"1 teaspoon water\", \"1 teaspoon ground cinnamon\", \"1/2 teaspoon ground nutmeg\", \"1/2 teaspoon salt\", \"1 cup old-fashioned oats\", \"2 1/4 cups all purpose flour\", \"1 12-ounce package semisweet chocolate chips\", \"1 1/2 cups chopped walnuts (about 6 ounces)\"]}'),\n",
       " Document(id='5eab8dc74e8f439fb3705088a83be794', metadata={'seq_num': '19730.0', 'source': 'D:\\\\TAMU\\\\SEM 4\\\\CNM\\\\BrokenBasket\\\\Dataset\\\\recipe.json'}, page_content='{\"directions\": [\"Preheat oven to 350\\\\u00b0F.\", \"Coarsely chop dates. In a 3-quart saucepan melt butter over low heat and remove pan from heat. Add brown sugar, stirring until smooth, and sift flour, baking soda, and salt over butter mixture. In a cup lightly beat egg and stir into flour mixture with vanilla, oats, and dates until combined well.\", \"Onto 2 large ungreased baking sheets spoon slightly rounded tablespoons dough about 2 inches apart. Roll dough into balls with floured hands, returning to sheets. Bake cookies in upper and lower thirds of oven, switching position of sheets halfway through baking, until golden brown, about 18 minutes total. Transfer cookies to racks to cool. Cookies keep in an airtight container about 1 week.\"], \"sodium\": 117, \"date\": \"2004-08-20T12:48:48.000Z\", \"calories\": 119, \"categories\": [\"Cookies\", \"Fruit\", \"Dessert\", \"Bake\", \"Vegetarian\", \"Kid-Friendly\", \"Back to School\", \"Date\", \"Oat\", \"Gourmet\", \"Kidney Friendly\", \"Pescatarian\", \"Peanut Free\", \"Tree Nut Free\", \"Soy Free\", \"Kosher\"], \"desc\": \"This recipe can be prepared in 45 minutes or less.\", \"protein\": 2, \"fat\": 4, \"rating\": 3.75, \"title\": \"Oatmeal Date Cookies \", \"ingredients\": [\"1 1/4 cups packed pitted dates (about 10 ounces)\", \"1 stick (1/2 cup) unsalted butter\", \"3/4 cup packed light brown sugar\", \"2/3 cup all-purpose flour\", \"3/4 teaspoon baking soda\", \"3/4 teaspoon salt\", \"1 large egg\", \"1 teaspoon vanilla\", \"1 1/2 cups quick-cooking rolled oats\"]}'),\n",
       " Document(id='b2ce7f42497e4092a9e8d633bf35a5ff', metadata={'seq_num': '2053.0', 'source': 'D:\\\\TAMU\\\\SEM 4\\\\CNM\\\\BrokenBasket\\\\Dataset\\\\recipe.json'}, page_content='{\"directions\": [\"Preheat oven to 425\\\\u00b0F.\", \"In a bowl beat together butter, sugar, and salt until light and fluffy and beat in whites and vanilla until just combined. Sift flour over batter and fold in. Fold in pecans.\", \"Drop batter by rounded teaspoons about 3 inches apart onto well-buttered baking sheets and with the back of a fork pat into 2 1/2-inch rounds. Bake cookies in batches in middle of oven until golden around edges, about 5 minutes. Working quickly, with a metal spatula carefully loosen cookies immediately and transfer to racks to cool completely. (If cookies become too firm to remove from baking sheets, return to over for a few seconds to soften.) Cookies may be made 1 day ahead and kept, layers separated by wax paper, in an airtight container.\"], \"sodium\": 13, \"date\": \"2004-08-20T04:00:00.000Z\", \"categories\": [\"Cookies\", \"Egg\", \"Dessert\", \"Bake\", \"Pecan\", \"Winter\", \"Gourmet\"], \"calories\": 48, \"desc\": null, \"protein\": 1, \"fat\": 4, \"rating\": 3.125, \"title\": \"Pecan Thins \", \"ingredients\": [\"1/2 stick (1/4 cup) unsalted butter, softened\", \"6 tablespoons sugar\", \"1/8 teaspoon salt\", \"2 large egg whites\", \"1/2 teaspoon vanilla\", \"4 tablespoons all-purpose flour\", \"1 cup pecans, chopped fine, toasted lightly, and cooled completely\"]}'),\n",
       " Document(id='d3d5f0587337432ea60c41b2a96d3757', metadata={'seq_num': '2833.0', 'source': 'D:\\\\TAMU\\\\SEM 4\\\\CNM\\\\BrokenBasket\\\\Dataset\\\\recipe.json'}, page_content='{\"directions\": [\"Preheat oven to 375\\\\u00b0F.\", \"Beat together butter and sugars in a bowl with an electric mixer at high speed until fluffy. Add eggs and beat until just blended, then beat in vanilla, baking soda, and salt. Add flour and mix at low speed until just blended. Stir in oats, coconut, chocolate, and almonds.\", \"Arrange 1/4-cup mounds of cookie dough about 3 inches apart on 2 lightly buttered large baking sheets (about 8 cookies per sheet), then gently pat down each mound to about 1/2 inch thick. Bake in upper and lower thirds of oven, switching position and rotating pans halfway through baking, until golden, 15 to 18 minutes total.\", \"Cool cookies on sheets 1 minute, then transfer with a spatula to racks to cool completely. Make more cookies in same manner.\"], \"sodium\": 87, \"date\": \"2004-08-20T12:48:48.000Z\", \"calories\": 316, \"categories\": [\"Cookies\", \"Chocolate\", \"Bake\", \"Coconut\", \"Oat\", \"Gourmet\"], \"desc\": \"Active time: 20 min Start to finish: 1 hr\", \"protein\": 6, \"fat\": 19, \"rating\": 4.375, \"title\": \"Chocolate Chunk Oatmeal Coconut Cookies \", \"ingredients\": [\"2 sticks (1 cup) unsalted butter, softened\", \"1 cup packed brown sugar\", \"6 tablespoons granulated sugar\", \"2 large eggs\", \"1 1/2 teaspoons vanilla\", \"1/2 teaspoon baking soda\", \"1/2 teaspoon salt\", \"1 cup all-purpose flour\", \"2 1/4 cups old-fashioned oats\", \"1 1/2 cups packaged finely shredded unsweetened coconut\", \"12 oz semisweet or bittersweet chocolate (not unsweetened), cut into 1/2-inch chunks (about 2 cups)\", \"3/4 cup almonds with skins (4 oz), toasted, cooled, and chopped\"]}'),\n",
       " Document(id='468a1f26938540c2919223104af20746', metadata={'seq_num': '4421.0', 'source': 'D:\\\\TAMU\\\\SEM 4\\\\CNM\\\\BrokenBasket\\\\Dataset\\\\recipe.json'}, page_content='{\"directions\": [\"Preheat oven to 375\\\\u00b0F. Grease 2 heavy large cookie sheets. Mix first 4 ingredients together in medium bowl. Using electric mixer, cream butter and both sugars in large bowl until light and fluffy. Beat in egg and vanilla. Mix in oatmeal mixture. Stir in remaining ingredients. Drop rounded tablespoons of dough about 2 inches apart onto prepared cookie sheets. Flatten cookies slightly with spoon. Bake until brown, about 10 minutes. Cool 5 minutes on cookie sheets. Transfer cookies to rack and cool completely. (Can be prepared 4 days ahead. Store in airtight container.)\"], \"sodium\": 73, \"date\": \"2004-08-20T04:00:00.000Z\", \"calories\": 159, \"categories\": [\"Cookies\", \"Chocolate\", \"Dessert\", \"Bake\", \"Quick & Easy\", \"Date\", \"Pecan\", \"Fall\", \"Bon App\\\\u00e9tit\", \"St. Louis\", \"Missouri\"], \"desc\": null, \"protein\": 2, \"fat\": 8, \"rating\": 3.75, \"title\": \"Oatmeal, Date, Pecan and Chocolate Chip Cookies \", \"ingredients\": [\"1 1/2 cups old-fashioned oatmeal\", \"1/2 cup all purpose flour\", \"1 teaspoon baking soda\", \"1 teaspoon baking powder\", \"1/2 cup (1 stick) unsalted butter, room temperature\", \"2/3 cup firmly packed dark brown sugar\", \"1/2 cup sugar\", \"1 egg\", \"1 teaspoon vanilla\", \"3/4 cup chopped pitted dates (about 5 ounces)\", \"3/4 cup chopped pecans (about 3 ounces)\", \"2/3 cup semisweet chocolate chips\"]}'),\n",
       " Document(id='060c54bc0ae0491b93bea35b03a36b1c', metadata={'seq_num': '8099.0', 'source': 'D:\\\\TAMU\\\\SEM 4\\\\CNM\\\\BrokenBasket\\\\Dataset\\\\recipe.json'}, page_content='{\"directions\": [\"Bring molasses, brown sugar, and spices to a boil in a 4- to 5-quart heavy saucepan over moderate heat, stirring occasionally, and remove from heat. Stir in baking soda (mixture will foam up), then stir in butter 3 pieces at a time, letting each addition melt before adding next, until all butter is melted. Add egg and stir until combined, then stir in 3 3/4 cups flour and salt.\", \"Preheat oven to 325\\\\u00b0F.\", \"Transfer dough to a lightly floured surface and knead, dusting with as much of remaining 1/4 cup flour as needed to prevent sticking, until soft and easy to handle, 30 seconds to 1 minute. Halve dough, then wrap 1 half in plastic wrap and keep at room temperature.\", \"Roll out remaining dough into a 14-inch round (1/8 inch thick) on a lightly floured surface. Cut out as many cookies as possible with cutters and carefully transfer with offset spatula to 2 buttered large baking sheets, arranging them about 1 inch apart.\", \"Bake cookies in upper and lower thirds of oven, switching position of sheets halfway through baking, until edges are slightly darker, 10 to 12 minutes total (watch carefully toward end of baking; cookies can burn easily). Transfer cookies to racks to cool completely. Make more cookies with remaining dough and scraps (reroll once).\", \"Put icing in pastry bag (if using) and pipe or spread decoratively onto cookies.\"], \"sodium\": 81, \"date\": \"2004-08-20T05:00:00.000Z\", \"calories\": 94, \"categories\": [\"Cookies\", \"Bake\", \"Christmas\", \"Spice\", \"Winter\", \"Clove\", \"Molasses\", \"Gourmet\"], \"desc\": null, \"protein\": 1, \"fat\": 4, \"rating\": 4.375, \"title\": \"Gingerbread Snowflakes \", \"ingredients\": [\"2/3 cup molasses (not robust)\", \"2/3 cup packed dark brown sugar\", \"1 tablespoon ground ginger\", \"1 1/2 teaspoons ground cinnamon\", \"1/2 teaspoon ground allspice\", \"1/2 teaspoon ground cloves\", \"2 teaspoons baking soda\", \"2 sticks (1 cup) unsalted butter, cut into tablespoon pieces\", \"1 large egg, lightly beaten\", \"3 3/4 to 4 cups all-purpose flour\", \"1/2 teaspoon salt\", \"Decorating icing\", \"Special equipment: assorted 2- to 3-inch cookie cutters (preferably snowflake-shaped); a metal offset spatula; a pastry bag fitted with 1/8- to 1/4-inch plain tip (optional)\", \"1 metal offset spatula\", \"1 pastry bag fitted with 1/8- to 1/4-inch plain tip\"]}'),\n",
       " Document(id='28d5f58a6bde4375b98965a3f41b0722', metadata={'seq_num': '12609.0', 'source': 'D:\\\\TAMU\\\\SEM 4\\\\CNM\\\\BrokenBasket\\\\Dataset\\\\recipe.json'}, page_content='{\"directions\": [\"For cookies: Preheat oven to 325\\\\u00b0F. Butter 2 large nonstick cookie sheets. Bring first 5 ingredients to simmer in heavy small saucepan over medium heat, stirring constantly. Remove from heat. Whisk in vanilla, then flour. Cool cookie mixture 10 minutes.\", \"Drop mixture by level tablespoonfuls onto cookie sheets, spacing 6-inches apart and forming 3 cookies on each sheet. Using buttered fingertips, press out each round to 4 1/2-inch diameter.\", \"Bake 1 sheet until cookies are deep brown, about 12 minutes. Cool cookies on sheet just until firm enough to lift without breaking, about 2 minutes. Working quickly, lift 1 cookie from sheet. Drape cookie top side up over inverted 3/4-cup custard dish. Gently flatten cookie on dish bottom; crimp sides to form fluted cup. Repeat with remaining 2 cookies, returning cookie sheet to oven briefly if cookies harden. Repeat baking and molding process with remaining cookies. Cool. Gently remove cookies from dishes.\", \"For fruit: Stir first 3 ingredients in heavy small saucepan over medium heat until sugar dissolves. Increase heat and boil 3 minutes. Refrigerate ginger syrup until cold. (Cookies and syrup can be prepared 1 week ahead. Store cookies at room temperature in airtight container. Keep sauce refrigerated.) Place fruit in bowl. Add half of ginger syrup and toss well.\", \"Place 1 cookie on each of 6 plates. Fill each with 3 scoops of sorbet and spoon fruit and remaining syrup over.\"], \"sodium\": 26, \"date\": \"2004-08-20T04:00:00.000Z\", \"categories\": [\"Cookies\", \"Fruit\", \"Ginger\", \"Dessert\", \"Bake\", \"Frozen Dessert\", \"Blueberry\", \"Strawberry\", \"Lemon\", \"Peach\", \"Summer\", \"Molasses\", \"Bon App\\\\u00e9tit\", \"Vegetarian\", \"Pescatarian\", \"Peanut Free\", \"Tree Nut Free\", \"Soy Free\", \"Kosher\"], \"calories\": 518, \"desc\": null, \"protein\": 2, \"fat\": 8, \"rating\": 4.375, \"title\": \"Molasses Cookie Baskets with Lemon Sorbet and Gingered Fruit \", \"ingredients\": [\"1/4 cup (1/2 stick) unsalted butter\", \"1/4 cup sugar\", \"1/4 cup light unsulfured molasses\", \"1/2 teaspoon grated lemon peel\", \"1/2 teaspoon ground ginger\", \"1 teaspoon vanilla extract\", \"1/2 cup all purpose flour, sifted\", \"1/2 cup sugar\", \"1/2 cup water\", \"1/4 cup minced crystallized ginger\", \"1 1-pint basket strawberries, hulled, quartered\", \"1 1/2-pint basket blueberries\", \"2 peaches, peeled, pitted, sliced\", \"2 pints purchased lemon sorbet\"]}')]"
      ]
     },
     "execution_count": 9,
     "metadata": {},
     "output_type": "execute_result"
    }
   ],
   "source": [
    "recipe_retriever = astra_vector_store.as_retriever(    \n",
    "                                                search_type=\"similarity_score_threshold\",\n",
    "                                                search_kwargs={\"k\": 7, \"score_threshold\": 0.6},\n",
    "                                                )   \n",
    "recipe_retriever.invoke(\"Give me a cookie recipe\")"
   ]
  },
  {
   "cell_type": "markdown",
   "metadata": {},
   "source": [
    "# Langgraph"
   ]
  },
  {
   "cell_type": "markdown",
   "metadata": {},
   "source": [
    "### Datamodel"
   ]
  },
  {
   "cell_type": "code",
   "execution_count": 10,
   "metadata": {},
   "outputs": [],
   "source": [
    "class GeneralRouteQuery(BaseModel):\n",
    "    \"\"\" Route a user query to the most relavent datasource \"\"\"\n",
    "    datasource: Literal[\"food\",\"general\"] = Field(\n",
    "        ...,\n",
    "        description=\"Given a user question choose to route it to general chat or a food\"\n",
    "    )\n",
    "\n",
    "class ToolRouteQuery(BaseModel):\n",
    "    \"\"\" Route a user query to the most relavent datasource \"\"\"\n",
    "    datasource: Literal[\"meal_plan\",\"recipe\"] = Field(\n",
    "        ...,\n",
    "        description=\"Given a user question choose to route it to meal_plan or recipe\"\n",
    "    )\n",
    "\n",
    "class GraphState(TypedDict):\n",
    "    \"\"\"\n",
    "    Represents the state of our graph.\n",
    "\n",
    "    Attributes:\n",
    "        messages: recent message history\n",
    "        preferences: uses' food preferences\n",
    "        documents: list of documents\n",
    "        calorie_goal: user's calorie goal\n",
    "    \"\"\"\n",
    "    messages: Annotated[list[AnyMessage], add_messages]\n",
    "    documents: List[str]\n",
    "    preferences: str\n",
    "    calorie_goal: int\n",
    "    meal_plan: dict\n",
    "    redo: str\n",
    "    current_calories : int"
   ]
  },
  {
   "cell_type": "markdown",
   "metadata": {},
   "source": [
    "### LLM links"
   ]
  },
  {
   "cell_type": "code",
   "execution_count": 11,
   "metadata": {},
   "outputs": [],
   "source": [
    "# llm=ChatGroq(groq_api_key=groq_api_key,model_name='Llama-3.3-70b-Versatile')\n",
    "# chat_llm = ChatGroq(groq_api_key=groq_api_key,model_name='Llama-3.3-70b-Versatile')\n",
    "\n",
    "# structured_llm_general_router=llm.with_structured_output(GeneralRouteQuery)\n",
    "# structured_llm_tool_router=llm.with_structured_output(ToolRouteQuery)\n"
   ]
  },
  {
   "cell_type": "code",
   "execution_count": 12,
   "metadata": {},
   "outputs": [],
   "source": [
    "# from langchain_huggingface import ChatHuggingFace, HuggingFaceEndpoint\n",
    "\n",
    "# llm_link = HuggingFaceEndpoint(\n",
    "#     repo_id=\"mistralai/Mistral-7B-Instruct-v0.3\",\n",
    "#     task=\"text-generation\",\n",
    "#     max_new_tokens=512,\n",
    "#     do_sample=False,\n",
    "#     repetition_penalty=1.03,\n",
    "# )\n",
    "\n",
    "# llm = ChatHuggingFace(llm=llm_link)\n",
    "# chat_llm = ChatHuggingFace(llm=llm_link)\n",
    "\n",
    "\n",
    "# structured_llm_general_router=llm.with_structured_output(GeneralRouteQuery)\n",
    "# structured_llm_tool_router=llm.with_structured_output(ToolRouteQuery)"
   ]
  },
  {
   "cell_type": "code",
   "execution_count": 13,
   "metadata": {},
   "outputs": [
    {
     "name": "stderr",
     "output_type": "stream",
     "text": [
      "d:\\TAMU\\SEM 4\\CNM\\BrokenBasket\\.venv\\Lib\\site-packages\\langchain_openai\\chat_models\\base.py:1624: UserWarning: Received a Pydantic BaseModel V1 schema. This is not supported by method=\"json_schema\". Please use method=\"function_calling\" or specify schema via JSON Schema or Pydantic V2 BaseModel. Overriding to method=\"function_calling\".\n",
      "  warnings.warn(\n"
     ]
    }
   ],
   "source": [
    "llm = ChatOpenAI(model = \"gpt-4o-mini\")\n",
    "chat_llm = ChatOpenAI(model = \"gpt-4o-mini\")\n",
    "\n",
    "structured_llm_general_router=llm.with_structured_output(GeneralRouteQuery)\n",
    "structured_llm_tool_router=llm.with_structured_output(ToolRouteQuery)"
   ]
  },
  {
   "cell_type": "markdown",
   "metadata": {},
   "source": [
    "### Prompts"
   ]
  },
  {
   "cell_type": "code",
   "execution_count": 14,
   "metadata": {},
   "outputs": [],
   "source": [
    "# General router Prompt\n",
    "system = \"\"\"You are an expert at routing a user question to a food or general.\n",
    "The food can tools to take care of meal planning, recipe finding and creation.\n",
    "Use the food for questions on these topics. Otherwise, use general.\"\"\"\n",
    "\n",
    "route_prompt = ChatPromptTemplate.from_messages(\n",
    "    [\n",
    "        (\"system\", system),\n",
    "        (\"human\", \"{messages}\"),\n",
    "    ]\n",
    ")\n",
    "\n",
    "general_router = route_prompt | structured_llm_general_router\n",
    "\n",
    "# print(general_router.invoke({\"messages\": \"what is stardew Valley\"}))\n",
    "# print(general_router.invoke({\"messages\": \"How to make a sweet dessert\"}))"
   ]
  },
  {
   "cell_type": "code",
   "execution_count": 15,
   "metadata": {},
   "outputs": [],
   "source": [
    "# tool router Prompt\n",
    "system = \"\"\"\n",
    "You are an expert at routing a user message to a meal_plan or recipe.\n",
    "the meal_plan has access to tools to generate a meal plan for your weight goals.\n",
    "Use the meal_plan for questions on these topics. \n",
    "If the message has to do with finding or modifying a recipe, use recipe.\n",
    "\"\"\"\n",
    "\n",
    "route_prompt = ChatPromptTemplate.from_messages(\n",
    "    [\n",
    "        (\"system\", system),\n",
    "        (\"human\", \"{messages}\"),\n",
    "    ]\n",
    ")\n",
    "\n",
    "tool_router = route_prompt | structured_llm_tool_router\n",
    "\n",
    "# print(tool_router.invoke({\"messages\": \"how to make butter chicken\"}))\n",
    "# print(tool_router.invoke({\"messages\": \"help me plan the food for the week\"}))"
   ]
  },
  {
   "cell_type": "code",
   "execution_count": null,
   "metadata": {},
   "outputs": [],
   "source": [
    "# General Chat Prompt\n",
    "system = \"\"\"You are a helpful health coach that answers questions to the best of your ability.\n",
    "Here is the information you have about the user:\n",
    "preferences: {preferences} \n",
    "calorie_goal: {calorie_goal}\n",
    "meal_plan: {meal_plan}\n",
    "\"\"\"\n",
    "general_chat_prompt = ChatPromptTemplate.from_messages(\n",
    "    [\n",
    "        (\"system\", system),\n",
    "        (\"human\", \"{messages}\"),\n",
    "    ]\n",
    ")\n",
    "\n",
    "general_chat = general_chat_prompt | chat_llm"
   ]
  },
  {
   "cell_type": "code",
   "execution_count": 17,
   "metadata": {},
   "outputs": [],
   "source": [
    "temp_docs = \"\"\"\n",
    "[Document(id='d61c2d48df544d9ab1ec4f56b13f4aaa', metadata={'language': 'en-US', 'source': 'https://www.loveandlemons.com/wprm_print/best-homemade-brownies', 'title': 'Best Homemade Brownies - Love and Lemons'}, page_content=\"Best Homemade Brownies - Love and Lemons     \\nGo Back\\nPrintRecipe ImageNotes–+\\xa0servingsSmallerNormalLargerBest Homemade BrowniesPrep Time: 5 minutes minsCook Time: 45 minutes minsServes 16 browniesThe ultimate recipe for brownies! They're fudgy, moist, and super chocolaty, with perfect crispy edges. From Weeknight Baking by Michelle Lopez.Equipment8x8 Baking Dish (this is the one I use so they don't overcook)Cooking Spray (I love this avocado oil one from Chosen Foods)Parchment Paper (this makes it so much easier to remove the brownies from the pan)Ingredients1 1/2 cups granulated sugar*3/4 cup all-purpose flour2/3 cup cocoa powder, sifted if lumpy1/2 cup powdered sugar, sifted if lumpy1/2 cup dark chocolate chips3/4 teaspoons sea salt2 large eggs1/2 cup canola oil or extra-virgin olive oil**2 tablespoons water1/2 teaspoon vanillaInstructionsPreheat the oven to 325°F. Lightly spray an 8x8 baking dish (not a 9x9 dish or your brownies will overcook) with cooking spray and line it with parchment paper. Spray the parchment paper.In a medium bowl, combine the sugar, flour, cocoa powder, powdered sugar, chocolate chips, and salt.In a large bowl, whisk together the eggs, olive oil, water, and vanilla.Sprinkle the dry mix over the wet mix and stir until just combined.Pour the batter into the prepared pan (it'll be thick - that's ok) and use a spatula to smooth the top. Bake for 40 to 48 minutes, or until a toothpick comes out with only a few crumbs attached (note: it's better to pull the brownies out early than to leave them in too long). Cool completely before slicing.*** Store in an airtight container at room temperature for up to 3 days. These also freeze well!Notes*If you'd like to reduce the sugar, I've had success with 1 cup granulated sugar instead of 1 1/2 cups.\\n**I like to use olive oil because it's what I keep on hand and I enjoy the pairing of olive oil with chocolate. Keep in mind that you will taste it here. For a more neutral flavor, use canola oil.\\n***When these brownies come out of the oven, they'll be super gooey in the middle. Allow them to cool completely, about 2 hours, before you slice into them to give them a chance to set up. They'll continue to firm up the longer they're out of the oven. If you still prefer a firmer brownie, store them in the fridge.Find it online at https://www.loveandlemons.com/brownies-recipe/\"),\n",
    " Document(id='0a5a899762784e62804702b8cc9a6b95', metadata={'description': \"This easy cake recipe requires just 7 ingredients and tastes like you spent hours making it, even though it's out of the oven in under an hour.\", 'language': 'en', 'source': 'https://www.allrecipes.com/recipe/17481/simple-white-cake/?print', 'title': 'Simple White Cake Recipe'}, page_content=\"Worth the effort\\nVery light, very great. This is my second time trying this recipe and it turned out just as amazing as the first time. Very beginner friendly, today I added some nuts on top. \\n\\n \\n05\\nof 663\\n\\n\\n\\n\\n\\n\\n\\n\\n\\n\\n\\nPhoto by\\xa0\\nSayeh Majzoob\\n\\n\\n\\n\\n\\n\\n\\n\\n\\n\\n\\n\\n\\n\\n\\n\\n\\n04/24/2024\\nSince I was short of time, I swapped butter with high quality sun flower oil, and also reduced the sugar a tiny bit. I made it in less than 10 minutes and baked it for 40 mins. It turned out amazing, served with blueberry jam and some fresh strawberries. Since it is simple bake its taste will surely highly depend on the quality of the ingredients. Use tasty starting materials. I creamed the egg and sugar thourougly. \\n\\n \\n06\\nof 663\\n\\n\\n\\n\\n\\n\\n\\n\\n\\n\\n\\nPhoto by\\xa0\\nPerkyBao1282\\n\\n\\n\\n\\n\\n\\n\\n\\n\\n\\n\\n\\n\\n\\n\\n\\n\\n04/13/2024\\n\\n\\n\\nEasy to follow\\n\\n\\n\\nWorth the effort\\n\\n\\n\\nCrowd-pleaser\\nThis is the third time I'm making this recipe. I love it \\n\\n \\n07\\nof 663\\n\\n\\n\\n\\n\\n\\n\\n\\n\\n\\n\\nPhoto by\\xa0\\nEagerFlour9876\\n\\n\\n\\n\\n\\n\\n\\n\\n\\n\\n\\n\\n\\n\\n\\n\\n\\n02/29/2024\\n\\n\\n\\nA keeper!\\n\\n\\n\\nCrowd-pleaser\\n\\n\\n\\nEasy to follow\\n\\n\\n\\nWorth the effort\\nI LOVED this recipe. It was quick easy and it was just overall great. I loved the flavor and so did my family. The texture and consistency was perfect. We used it for the Leap Day Party cake. I will definitely make this again. \\n\\n \\n08\\nof 663\\n\\n\\n\\n\\n\\n\\n\\n\\n\\n\\n\\nPhoto by\\xa0\\ncatzrule1990\\n\\n\\n\\n\\n\\n\\n\\n\\n\\n\\n\\n\\n\\n\\n\\n\\n\\n02/25/2024\\n\\n\\n\\nWorth the effort\\n\\n\\n\\nEasy to follow\\n\\n\\n\\nGreat flavors\\n\\n\\n\\nA keeper!\\n\\n\\n\\nCrowd-pleaser\\n\\n\\n\\nFamily favorite\\nBeen trying to find a simple vanilla/white cake for a long time that didn't involve egg whites/whipping egg whites. This cake fits the bill! it has a wonderful flavor and texture. Not fragile, but not too dense. Stands up just fine with two layers. It is lovely with or without frosting! I decided to make a buttercream frosting with very subtle strawberry flavor and both the frosting and cake compliment each other very well. I would also imagine that this cake would be perfect to use for strawberry shortcake!Definitely a new keeper recipe for me! Dad and I love it very much. 10/10 \\n\\n \\n09\\nof 663\\n\\n\\n\\n\\n\\n\\n\\n\\n\\n\\n\\nPhoto by\\xa0\\nMintPulp1911\\n\\n\\n\\n\\n\\n\\n\\n\\n\\n\\n\\n\\n\\n\\n\\n\\n\\n01/07/2024\\nI made this cake for my family and they loved it so much. Would definitely recommend \\n\\n \\n10\\nof 663\\n\\n\\n\\n\\n\\n\\n\\n\\n\\n\\n\\nPhoto by\\xa0\\nGoldenParm7351\\n\\n\\n\\n\\n\\n\\n\\n\\n\\n\\n\\n\\n\\n\\n\\n\\n\\n01/02/2024\\nWas very delicious and fluffy. Totally recommend using this recipe. \\n\\n\\n1\\n\\n\\n2\\n\\n\\n3\\n\\n\\n4\\n\\n\\n5\\n\\n\\n\\nNext\\n\\n\\n\\n\\n\\n\\n \\n\\n\\n\\n\\n\\nYou’ll Also Love\\n\\n\\n\\n\\n\\n\\n\\n\\n\\n \\n\\n\\n\\n\\n\\n\\n\\n\\nWedding Cake\\n\\n\\n\\n\\n\\n\\n\\n\\n\\n\\n\\n\\n\\n\\n\\n\\n\\n\\n\\n161\\n\\nRatings\\n\\n\\n \\n\\n\\n\\n\\n\\n\\n\\n\\n\\n\\n \\n\\n\\n\\n\\n\\n\\n\\n\\nEasy Birthday Cake\\n\\n \\n\\n\\n\\n\\n\\n\\n\\n\\n\\n\\n \\n\\n\\n\\n\\n\\n\\n\\n\\nCream Cake\\n\\n\\n\\n\\n\\n\\n\\n\\n\\n\\n\\n\\n\\n\\n\\n\\n\\n\\n\\n177\\n\\nRatings\\n\\n\\n \\n\\n\\n\\n\\n\\n\\n\\n\\n\\n\\n \\n\\n\\n\\n\\n\\n\\n\\n\\nSmash Cake\\n\\n\\n\\n\\n\\n\\n\\n\\n\\n\\n\\n\\n\\n\\n\\n\\n\\n\\n\\n2\\n\\nRatings\\n\\n\\n \\n\\n\\n\\n\\n\\n\\n\\n\\n\\n\\n \\n\\n\\n\\n\\n\\n\\n\\n\\nHeavenly White Cake\\n\\n\\n\\n\\n\\n\\n\\n\\n\\n\\n\\n\\n\\n\\n\\n\\n\\n\\n\\n973\\n\\nRatings\\n\\n\\n \\n\\n\\n\\n\\n\\n\\n\\n\\n\\n\\n \\n\\n\\n\\n\\n\\n\\n\\n\\nNany's White Cake\\n\\n\\n\\n\\n\\n\\n\\n\\n\\n\\n\\n\\n\\n\\n\\n\\n\\n\\n\\n136\\n\\nRatings\\n\\n\\n \\n\\n\\n\\n\\n\\n\\n\\n\\n\\n\\n \\n\\n\\n\\n\\n\\n\\n\\n\\nLori's White Cake\\n\\n\\n\\n\\n\\n\\n\\n\\n\\n\\n\\n\\n\\n\\n\\n\\n\\n\\n\\n28\\n\\nRatings\\n\\n\\n \\n\\n\\n\\n\\n\\n\\n\\n\\n\\n\\n \\n\\n\\n\\n\\n\\n\\n\\n\\nMock Angel Food Cake\\n\\n\\n\\n\\n\\n\\n\\n\\n\\n\\n\\n\\n\\n\\n\\n\\n\\n\\n\\n55\\n\\nRatings\"),\n",
    " Document(id='f221c87e5852447eaca5168f2e4349be', metadata={'description': 'These are THE BEST soft chocolate chip cookies! No chilling required. Just ultra thick, soft, classic chocolate chip cookies!', 'language': 'en-US', 'source': 'https://pinchofyum.com/the-best-soft-chocolate-chip-cookies/print/39213', 'title': 'The Best Soft Chocolate Chip Cookies Recipe - Pinch of Yum'}, page_content='Keywords: chocolate chip cookies, best chocolate chip cookies, soft chocolate chip cookies, easy cookie recipe, small batch cookies\\n\\n\\n\\n\\n\\nDid you make this recipe?\\nTag\\xa0@pinchofyum\\xa0on Instagram so we can admire your masterpiece!\\xa0🌟\\n\\n\\n\\n\\n\\n\\nFind it online: https://pinchofyum.com/the-best-soft-chocolate-chip-cookies'),\n",
    " Document(id='3af43e5c1fe84cd6a2ed6f96cd82bb7b', metadata={'description': 'These are THE BEST soft chocolate chip cookies! No chilling required. Just ultra thick, soft, classic chocolate chip cookies!', 'language': 'en-US', 'source': 'https://pinchofyum.com/the-best-soft-chocolate-chip-cookies/print/39213', 'title': 'The Best Soft Chocolate Chip Cookies Recipe - Pinch of Yum'}, page_content='The Best Soft Chocolate Chip Cookies Recipe - Pinch of Yum\\n\\n\\n\\n\\n\\n\\n\\n\\n\\n\\n\\n\\nThe Best Soft Chocolate Chip Cookies Recipe - Pinch of Yum\\n\\n\\n\\n\\n\\n\\n\\n\\n\\n\\n\\n\\n\\n\\n\\n\\n\\n\\n\\n\\n\\n\\n\\n\\n\\n\\n\\n\\n\\n\\n\\n\\n\\n\\n\\n\\n\\n\\n\\n\\n\\n\\n \\n\\n\\n\\n\\n\\n\\n\\n\\n\\n\\n\\n\\n\\n\\n\\n\\n\\n\\n\\n\\n\\n\\n\\n\\n\\n\\n\\n\\n\\n\\n\\n\\n\\n\\n\\n\\n\\n\\n\\n\\n\\n\\n\\n\\n\\n\\n\\n\\n\\n\\n\\n\\nPrint\\nclock clock iconcutlery cutlery iconflag flag iconfolder folder iconinstagram instagram iconpinterest pinterest iconfacebook facebook iconprint print iconsquares squares iconheart heart iconheart solid heart solid icon\\n\\n\\n \\nThe Best Soft Chocolate Chip Cookies\\n\\n\\n                                                 \\t\\t\\t\\t5 Stars\\t\\t\\t        \\t\\t\\t\\t4 Stars\\t\\t\\t        \\t\\t\\t\\t3 Stars\\t\\t\\t        \\t\\t\\t\\t2 Stars\\t\\t\\t        \\t\\t\\t\\t1 Star\\t\\t\\t  \\n4.5 from 1863 reviews\\n\\n\\n\\n\\n\\t\\t\\t\\t\\t\\t\\t\\t\\t\\t\\t\\t\\t\\tAuthor: Pinch of Yum \\n\\n\\n\\t\\t\\t\\t\\t\\t\\t\\t\\t\\t\\t\\t\\t\\t\\t\\tTotal Time: 20 minutes \\n\\n\\n\\t\\t\\t\\t\\t\\t\\t\\t\\t\\t\\t\\t\\t\\t\\t\\tYield: 12 cookies 1x \\n\\n\\n\\n\\n\\nDescription\\n\\nThese are THE BEST soft chocolate chip cookies! No chilling required. Just ultra thick, soft, classic chocolate chip cookies!\\n\\n\\n\\n\\n\\n\\nIngredients\\n\\n\\n\\nUnits\\nUSM \\n\\nScale\\n1/2x1x2x \\n\\n\\n\\n\\n8 tablespoons of salted butter\\n1/2 cup white sugar (I like to use raw cane sugar with a coarser texture)\\n1/4 cup packed light brown sugar\\n1 teaspoon vanilla\\n1 egg\\n1 1/2 cups all purpose flour (6.75 ounces)\\n1/2 teaspoon baking soda\\n1/4 teaspoon salt (but I always add a little extra)\\n3/4 cup chocolate chips (I use a combination of chocolate chips and chocolate chunks)\\n\\n \\n\\n\\n\\n\\n\\n\\n\\nCook Mode\\n\\n\\t\\t\\t\\tPrevent your screen from going dark\\t\\t\\t\\n\\n\\n\\n\\n\\n\\n\\nInstructions\\n\\n\\n\\nPreheat the oven to 350 degrees. Microwave the butter for about 40 seconds to just barely melt it. It shouldn’t be hot – but it should be almost entirely in liquid form.\\nUsing a stand mixer or electric beaters, beat the butter with the sugars until creamy. Add the vanilla and the egg; beat on low speed until just incorporated – 10-15 seconds or so (if you beat the egg for too long, the cookies will be stiff).\\nAdd the flour, baking soda, and salt. Mix until crumbles form. Use your hands to press the crumbles together into a dough. It should form one large ball that is easy to handle (right at the stage between “wet” dough and “dry” dough). Add the chocolate chips and incorporate with your hands.\\nRoll the dough into 12 large balls (or 9 for HUGELY awesome cookies) and place on a cookie sheet. Bake for 9-11 minutes until the cookies look puffy and dry and just barely golden. Warning, friends: DO NOT OVERBAKE. This advice is probably written on every cookie recipe everywhere, but this is essential for keeping the cookies soft. Take them out even if they look like they’re not done yet (see picture in the post). They’ll be pale and puffy.\\nLet them cool on the pan for a good 30 minutes or so (I mean, okay, eat four or five but then let the rest of them cool). They will sink down and turn into these dense, buttery, soft cookies that are the best in all the land. These should stay soft for many days if kept in an airtight container. I also like to freeze them.\\n\\n\\n\\n\\nEquipment\\n\\nSpatula\\nBuy Now → \\n\\nNonstick Sheet Pan\\nBuy Now → \\n\\nMixing Bowl\\nBuy Now → \\nThe equipment section may contain affiliate links to products we know and love. \\n\\n\\nPrep Time: 10 minsCook Time: 10 minsCategory: DessertMethod: BakeCuisine: American')]\n",
    "\"\"\""
   ]
  },
  {
   "cell_type": "code",
   "execution_count": 18,
   "metadata": {},
   "outputs": [
    {
     "name": "stdout",
     "output_type": "stream",
     "text": [
      "{'0': {'spicy scrambled eggs': {'10': 'olive oil', '50': 'tomato', '2': 'large eggs', '30': 'cilantro'}, 'spicy chickpea salad': {'10': 'lemon juice', '100': 'canned chickpeas', '50': 'red onion', '20': 'fresh parsley', '1': 'red chili flakes'}, 'spicy grilled chicken': {'10': 'olive oil', '200': 'chicken breast', '5': 'salt', '2': 'green chili'}, 'snack spicy nuts': {'50': 'mixed nuts', '5': 'olive oil'}}}\n"
     ]
    }
   ],
   "source": [
    "system = \"\"\"\n",
    "You are an expert at generating a HEALTHY meal plan based on the user's dietary preferences and calorie goals. \n",
    "Make sure to have at least 3 dishes per day (breakfast, lunch, dinner) in the meal plan. You can also add snacks if needed.\n",
    "You can make changes to recipes to fit their calories such as reducing the amount of oil used.\n",
    "\n",
    "The user's preferences are : {preferences}\n",
    "The user's calorie goal for the day : {calorie_goal}\n",
    "\n",
    "You are to take reference from the documents provided below : {documents}\n",
    "\n",
    "\n",
    "Find the number of days that the user wants a meal plan for and generate a meal plan for exactly that many days. \n",
    "\n",
    "For example: \n",
    "if the user says that they want a meal plan for a week, then create a meal plan for 7 days. \n",
    "if the user says that they want a meal plan for today or tomorrow, then create a meal plan for 1 day. \n",
    "if the user says that they want a meal plan for 3 days, then create a meal plan for 3 days.\n",
    "\n",
    "\n",
    "The meal plan should be a JSON in the following format : \n",
    "\n",
    "\"0\" : \n",
    "    \"butter chicken\" : [[5,\"lemon juice\"],[5,\"salt\"],[10,\"Chilli powder\"],[6,\"garam masala\"],[2,\"kasuri methi\"],[2,\"tumeric\"],[3,\"cumin powder\"],[4,\"corrainder powder\"],[20,\"ginger garlic paste\"],[35,\"heavy cream\"],[500,\"chicken\"]],\n",
    "    \"coffee\" : [[10,\"coffee\"],[20,\"milk\"]],\n",
    "    ...\n",
    ",\n",
    "...\n",
    "\n",
    "Where the first key is the day in the form of a number (for example the first day is 0). The value should be a JSON where the key is the name of the dish and the value is a array of ingredients and the amount of it in grams.\n",
    "\n",
    "where the key is the name of the meal and the value is a list of lists where each list is of the form [quantity,ingredient].\n",
    "Quantity should ONLY BE in grams\n",
    "\n",
    "Return the meal plan as a JSON, DO NOT return any other text.\n",
    "Make it so that the output is in 1 line.\n",
    "DO not write any text before or after the brackets\n",
    "\n",
    "\"\"\"\n",
    "\n",
    "generate_meal_plan_prompt = ChatPromptTemplate.from_messages(\n",
    "    [\n",
    "        (\"system\", system),\n",
    "        (\"human\", \"{messages}\"),\n",
    "    ]\n",
    ")\n",
    "\n",
    "generate_meal_plan = generate_meal_plan_prompt | llm | JsonOutputParser()\n",
    "\n",
    "temp_mp = generate_meal_plan.invoke({\"preferences\": \"I like spicy food\", \"calorie_goal\": 2000, \"documents\": temp_docs,\"messages\":\"create a meal plan for today\"})\n",
    "\n",
    "print(temp_mp)\n",
    "\n",
    "# print(output_json)"
   ]
  },
  {
   "cell_type": "code",
   "execution_count": 19,
   "metadata": {},
   "outputs": [],
   "source": [
    "system = \"\"\"\" \n",
    "You are an expert at generating a recipe based on a user's input such as calorie goal and food preferences.\n",
    "The user's preferences are : {preferences}\n",
    "Use the information from the following documents to generate the recipe: {documents}\n",
    "\"\"\"\n",
    "generate_recipe_prompt = ChatPromptTemplate.from_messages(\n",
    "    [\n",
    "        (\"system\", system),\n",
    "        (\"human\", \"{messages}\"),\n",
    "    ]\n",
    ")\n",
    "\n",
    "generate_recipe = generate_recipe_prompt | llm"
   ]
  },
  {
   "cell_type": "markdown",
   "metadata": {},
   "source": [
    "### Helper functions"
   ]
  },
  {
   "cell_type": "code",
   "execution_count": 20,
   "metadata": {},
   "outputs": [],
   "source": [
    "def cosine(a,b):\n",
    "    a = a.reshape(-1)  # Reshape to (768,)\n",
    "    b = b.reshape(-1)\n",
    "    # if a == 0 or b == 0:\n",
    "    #     return 0\n",
    "    return np.dot(a,b)/(np.linalg.norm(a)*np.linalg.norm(b))"
   ]
  },
  {
   "cell_type": "code",
   "execution_count": 21,
   "metadata": {},
   "outputs": [],
   "source": [
    "# Load pre-trained BERT model and tokenizer\n",
    "model_name = 'bert-base-uncased'\n",
    "tokenizer = BertTokenizer.from_pretrained(model_name)\n",
    "model = BertModel.from_pretrained(model_name)\n",
    "\n",
    "# Function to get BERT embeddings\n",
    "def get_bert_embeddings(text):\n",
    "\n",
    "    \n",
    "    inputs = tokenizer(text, return_tensors=\"pt\", padding=True, truncation=True, max_length=50)\n",
    "    outputs = model(**inputs)\n",
    "    embeddings = outputs.last_hidden_state[:, 0, :].detach().numpy()\n",
    "    return embeddings"
   ]
  },
  {
   "cell_type": "markdown",
   "metadata": {},
   "source": [
    "### nodes"
   ]
  },
  {
   "cell_type": "code",
   "execution_count": 22,
   "metadata": {},
   "outputs": [],
   "source": [
    "def trim(state):\n",
    "    if len(state['messages']) > 2:\n",
    "        delete_messages = [RemoveMessage(id=m.id) for m in state['messages'][:-2]]\n",
    "        return {\"messages\": delete_messages}\n",
    "    else:\n",
    "        return {\"messages\": state['messages']}"
   ]
  },
  {
   "cell_type": "code",
   "execution_count": null,
   "metadata": {},
   "outputs": [],
   "source": [
    "def general_chat_bot(state):\n",
    "    response = general_chat.invoke({\"messages\": state[\"messages\"][-1].content, \"preferences\": state[\"preferences\"], \"calorie_goal\": state[\"calorie_goal\"], \"meal_plan\": state[\"meal_plan\"]})\n",
    "    # response = chat_llm.invoke(state[\"messages\"])\n",
    "    return {\"messages\": response}"
   ]
  },
  {
   "cell_type": "code",
   "execution_count": 24,
   "metadata": {},
   "outputs": [],
   "source": [
    "def retrieve_recipes(state):\n",
    "    \"\"\"\n",
    "    Retrieve documents\n",
    "\n",
    "    Args:\n",
    "        state (dict): The current graph state\n",
    "\n",
    "    Returns:\n",
    "        state (dict): New key added to state, documents, that contains retrieved documents\n",
    "    \"\"\"\n",
    "    print(\"---RETRIEVE---\")\n",
    "    print(\"retrieved using the prompt: \",state[\"messages\"][-1].content)\n",
    "    \n",
    "    response = recipe_retriever.invoke(state[\"messages\"][-1].content)\n",
    "    # response = [doc.page_content for doc in response]\n",
    "    # print(\"retrieved: \",response)\n",
    "    return {\"documents\": response}"
   ]
  },
  {
   "cell_type": "code",
   "execution_count": 25,
   "metadata": {},
   "outputs": [],
   "source": [
    "def recipe_generator(state):\n",
    "    \n",
    "    \"\"\"\n",
    "    Generate a recipe\n",
    "\n",
    "    Args:\n",
    "        state (dict): The current graph state\n",
    "\n",
    "    Returns:\n",
    "        state (dict): New key added to state, documents, that contains retrieved documents\n",
    "    \"\"\"\n",
    "    print(\"---GENERATE RECIPE---\")\n",
    "\n",
    "    response = generate_recipe.invoke({\"messages\": state[\"messages\"], \"preferences\": state[\"preferences\"], \"documents\": state[\"documents\"]})\n",
    "    return {\"messages\": response}"
   ]
  },
  {
   "cell_type": "code",
   "execution_count": 26,
   "metadata": {},
   "outputs": [],
   "source": [
    "def general_route(state):\n",
    "    \"\"\"\n",
    "    Route question to general or food.\n",
    "\n",
    "    Args:\n",
    "        state (dict): The current graph state\n",
    "\n",
    "    Returns:\n",
    "        str: Next node to call\n",
    "    \"\"\"\n",
    "\n",
    "    print(\"---ROUTE QUESTION (GENERAL)---\")\n",
    "    message = state[\"messages\"][-1].content\n",
    "    # print(\"message: \",message)\n",
    "    \n",
    "    source = general_router.invoke({\"messages\": message})\n",
    "    # print(\"source: \",source.datasource)\n",
    "    if source.datasource == \"general\":\n",
    "        print(\"---ROUTE QUESTION TO GENERAL CHAT---\")\n",
    "        return \"general_chat_route\"\n",
    "    elif source.datasource == \"food\":\n",
    "        print(\"---ROUTE QUESTION TO FOOD---\")\n",
    "        return \"food_route\"\n",
    "    else:\n",
    "        raise ValueError(f\"Unknown datasource: {source.datasource}\")"
   ]
  },
  {
   "cell_type": "code",
   "execution_count": 27,
   "metadata": {},
   "outputs": [],
   "source": [
    "def tool_route(state):\n",
    "    \"\"\"\n",
    "    Route question to general or food.\n",
    "\n",
    "    Args:\n",
    "        state (dict): The current graph state\n",
    "\n",
    "    Returns:\n",
    "        str: Next node to call\n",
    "    \"\"\"\n",
    "\n",
    "    print(\"---ROUTE QUESTION (TOOLS)---\")\n",
    "    message = state[\"messages\"][-1].content\n",
    "    # print(\"message: \",message)\n",
    "    \n",
    "    source = tool_router.invoke({\"messages\": message})\n",
    "    # print(\"source: \",source.datasource)\n",
    "    if source.datasource == \"meal_plan\":\n",
    "        print(\"---ROUTE QUESTION TO MEAL PLAN---\")\n",
    "        return \"meal_plan_route\"\n",
    "    elif source.datasource == \"recipe\":\n",
    "        print(\"---ROUTE QUESTION TO RECIPE---\")\n",
    "        return \"recipe_route\"\n",
    "    else:\n",
    "        raise ValueError(f\"Unknown datasource: {source.datasource}\")"
   ]
  },
  {
   "cell_type": "code",
   "execution_count": 28,
   "metadata": {},
   "outputs": [],
   "source": [
    "def meal_plan_retriever(state):\n",
    "    \"\"\"\"\n",
    "    Create a meal plan\n",
    "    Args:\n",
    "        state (dict): The current graph state\n",
    "\n",
    "    Returns:\n",
    "        state (dict): The current graph state with the meal plan added\n",
    "    \n",
    "    \"\"\"\n",
    "    print(\"---MEAL PLANNER RETRIEVER---\")\n",
    "    documents = recipe_retriever.invoke(state[\"preferences\"])\n",
    "    return ({\"documents\": documents})"
   ]
  },
  {
   "cell_type": "code",
   "execution_count": 29,
   "metadata": {},
   "outputs": [],
   "source": [
    "def meal_plan_generator(state):\n",
    "    \"\"\"\"\n",
    "    Create a meal plan\n",
    "    Args:\n",
    "        state (dict): The current graph state\n",
    "\n",
    "    Returns:\n",
    "        state (dict): The current graph state with the meal plan added\n",
    "    \n",
    "    \"\"\"\n",
    "    print(\"---MEAL PLANNER GENERATOR---\")  \n",
    "    for i in range(5):\n",
    "        try: \n",
    "            if state[\"redo\"] == False:\n",
    "                meal_plan = generate_meal_plan.invoke({\"preferences\": state[\"preferences\"], \"calorie_goal\": state[\"calorie_goal\"], \"documents\": state[\"documents\"],\"messages\": state[\"messages\"][-1].content})\n",
    "                break\n",
    "            else:\n",
    "                message = state[\"messages\"][-1].content + \" with lower calories, make sure that there are at least 3 meals in a day\"\n",
    "                print(message)\n",
    "                meal_plan = generate_meal_plan.invoke({\"preferences\": state[\"preferences\"], \"calorie_goal\": state[\"calorie_goal\"], \"documents\": state[\"documents\"],\"messages\": message})\n",
    "                break\n",
    "        except:\n",
    "            print(\"---MEAL PLANNER GENERATOR FAILED---\")\n",
    "            print(\"TRY AGAIN\")\n",
    "            if i == 4:\n",
    "                print(\"---FAILED TOO MANY DAMN TIMES---\")\n",
    "    print(\"meal_plan generated for : \",len(meal_plan))\n",
    "\n",
    "    return ({\"meal_plan\": meal_plan})"
   ]
  },
  {
   "cell_type": "code",
   "execution_count": 30,
   "metadata": {},
   "outputs": [],
   "source": [
    "def general(state):\n",
    "    print(\"reached general state\")\n",
    "    return state\n",
    "\n",
    "def food(state):\n",
    "    print(\"reached food state\")\n",
    "    return state"
   ]
  },
  {
   "cell_type": "code",
   "execution_count": 31,
   "metadata": {},
   "outputs": [],
   "source": [
    "def meal_plan_checker(state):\n",
    "    print(\"---CHECK MEAL PLAN---\")\n",
    "    meal_plan = state['meal_plan']\n",
    "    current_calories = 0\n",
    "    calorie_goal = state['calorie_goal'] * len(meal_plan)\n",
    "    print(\"number of days in meal plan : \",len(meal_plan))\n",
    "\n",
    "    for day in meal_plan:\n",
    "        for dish in meal_plan[day]:\n",
    "            for grams, ingredient in meal_plan[day][dish]:\n",
    "                # vectorize ingredient\n",
    "                # print(ingredient)\n",
    "                encoded_input = get_bert_embeddings(ingredient)\n",
    "                # compare to db\n",
    "                most_similar = (0,\"\")\n",
    "                for index,item in enumerate(ingredients_db['embedding']):\n",
    "                    if cosine(item,encoded_input) > most_similar[0]:\n",
    "                        most_similar = (cosine(item,encoded_input),index)\n",
    "\n",
    "                # calculate calories\n",
    "                cal = ingredients_db['Cals_per100grams'][most_similar[1]][:-4]\n",
    "                current_calories += grams * (int(cal)/100)\n",
    "\n",
    "    print(\"calorie goal for \",len(meal_plan),\" days : \",calorie_goal)\n",
    "    print(\"current Calories calcluated : \",current_calories)\n",
    "    print(\"current Calories per day : \", current_calories/len(meal_plan))\n",
    "    if current_calories > calorie_goal:\n",
    "        print(\"REDO ? : True\")\n",
    "        return {\"redo\": True}\n",
    "    else:\n",
    "        print(\"REDO ? : False\")\n",
    "        return {\"redo\": False, \"current_calories\": current_calories}\n"
   ]
  },
  {
   "cell_type": "code",
   "execution_count": 32,
   "metadata": {},
   "outputs": [],
   "source": [
    "def redo_meal_plan(state):\n",
    "    redo = state['redo']\n",
    "    if redo:\n",
    "        return \"redo_meal_plan\"\n",
    "    else:\n",
    "        return \"continue\""
   ]
  },
  {
   "cell_type": "code",
   "execution_count": 33,
   "metadata": {},
   "outputs": [],
   "source": [
    "def display_meal_plan(state):\n",
    "    print(\"---DISPLAY MEAL PLAN---\")\n",
    "    print(\"meal plan: \",state['meal_plan'])\n",
    "    print(\"current calories: \",state['current_calories'])\n",
    "    return state"
   ]
  },
  {
   "cell_type": "code",
   "execution_count": 41,
   "metadata": {},
   "outputs": [],
   "source": [
    "def create_user(state):\n",
    "    preferences = \"I like Indian food, and I am vegetrarian. \"\n",
    "    calorie_goal = 2000\n",
    "    return {\"preferences\":preferences, \"calorie_goal\":calorie_goal,\"redo\": False,\"meal_plan\":{}}"
   ]
  },
  {
   "cell_type": "markdown",
   "metadata": {},
   "source": [
    "### Graph creation"
   ]
  },
  {
   "cell_type": "code",
   "execution_count": 42,
   "metadata": {},
   "outputs": [],
   "source": [
    "workflow = StateGraph(GraphState)\n",
    "\n",
    "workflow.add_node(\"create_user\",create_user)\n",
    "workflow.add_node(\"trim\", trim)\n",
    "workflow.add_node(\"general_router\", general)\n",
    "workflow.add_node(\"general_chat_bot\", general_chat_bot)\n",
    "workflow.add_node(\"tool_router\", food)\n",
    "workflow.add_node(\"retrieve_recipes\", retrieve_recipes)\n",
    "workflow.add_node(\"meal_plan_retriever\", meal_plan_retriever)\n",
    "workflow.add_node(\"generate_meal_plan\", meal_plan_generator)\n",
    "workflow.add_node(\"check_meal_plan\", meal_plan_checker)\n",
    "# workflow.add_node(\"redo_meal_plan_router\", redo_meal_plan)\n",
    "workflow.add_node(\"display_meal_plan\", display_meal_plan)\n",
    "workflow.add_node(\"generate_recipe\", recipe_generator)\n",
    "\n",
    "# workflow.add_edge(START, \"trim\")\n",
    "workflow.add_edge(START,\"create_user\")\n",
    "workflow.add_edge(\"create_user\",\"trim\")\n",
    "workflow.add_edge(\"trim\", \"general_router\")\n",
    "workflow.add_conditional_edges(\n",
    "    \"general_router\",\n",
    "    general_route,\n",
    "    {\n",
    "        \"general_chat_route\": \"general_chat_bot\",\n",
    "        \"food_route\": \"tool_router\",\n",
    "    },\n",
    ")\n",
    "workflow.add_conditional_edges(\n",
    "    \"tool_router\",\n",
    "    tool_route,\n",
    "    {\n",
    "        \"meal_plan_route\": \"meal_plan_retriever\",\n",
    "        \"recipe_route\": \"retrieve_recipes\",\n",
    "    },\n",
    ")\n",
    "workflow.add_edge(\"meal_plan_retriever\", \"generate_meal_plan\")\n",
    "workflow.add_edge(\"generate_meal_plan\", \"check_meal_plan\")\n",
    "\n",
    "workflow.add_conditional_edges(\n",
    "    \"check_meal_plan\",\n",
    "    redo_meal_plan,\n",
    "    {\n",
    "        \"redo_meal_plan\": \"generate_meal_plan\",\n",
    "        \"continue\": \"display_meal_plan\",\n",
    "    },\n",
    ")\n",
    "workflow.add_edge(\"display_meal_plan\", END)\n",
    "workflow.add_edge(\"general_chat_bot\", END)\n",
    "workflow.add_edge(\"retrieve_recipes\", \"generate_recipe\")\n",
    "workflow.add_edge(\"generate_recipe\", END)\n",
    "# workflow.add_edge(\"meal_plan\", END)\n",
    "\n",
    "memory = MemorySaver()\n",
    "app = workflow.compile(checkpointer = memory)"
   ]
  },
  {
   "cell_type": "code",
   "execution_count": 43,
   "metadata": {},
   "outputs": [
    {
     "data": {
      "image/png": "[encoded data removed]",
      "text/plain": [
       "<IPython.core.display.Image object>"
      ]
     },
     "metadata": {},
     "output_type": "display_data"
    }
   ],
   "source": [
    "from IPython.display import Image, display\n",
    "\n",
    "try:\n",
    "    display(Image(app.get_graph().draw_mermaid_png()))\n",
    "except Exception:\n",
    "    # This requires some extra dependencies and is optional\n",
    "    print(\"ERROR :(\")\n",
    "    pass"
   ]
  },
  {
   "cell_type": "markdown",
   "metadata": {},
   "source": [
    "### Chat and testing"
   ]
  },
  {
   "cell_type": "code",
   "execution_count": 44,
   "metadata": {},
   "outputs": [],
   "source": [
    "config = {\"configurable\": {\"thread_id\": \"1\"}}"
   ]
  },
  {
   "cell_type": "code",
   "execution_count": 45,
   "metadata": {},
   "outputs": [],
   "source": [
    "# input_message = [HumanMessage(content=\"Hey\")]\n",
    "# output = app.invoke({\"messages\":input_message},config=config)\n",
    "# output[\"messages\"][-1].pretty_print()"
   ]
  },
  {
   "cell_type": "code",
   "execution_count": 46,
   "metadata": {},
   "outputs": [
    {
     "name": "stdout",
     "output_type": "stream",
     "text": [
      "reached general state\n",
      "---ROUTE QUESTION (GENERAL)---\n",
      "---ROUTE QUESTION TO FOOD---\n",
      "reached food state\n",
      "---ROUTE QUESTION (TOOLS)---\n",
      "---ROUTE QUESTION TO RECIPE---\n",
      "---RETRIEVE---\n",
      "retrieved using the prompt:  Give me a recipe for chicken soup\n",
      "---GENERATE RECIPE---\n",
      "==================================\u001b[1m Ai Message \u001b[0m==================================\n",
      "\n",
      "Based on your preference for Indian vegetarian food, here's a delicious recipe for **Vegetable Curry Soup**, inspired by traditional Indian flavors:\n",
      "\n",
      "### Vegetable Curry Soup\n",
      "\n",
      "#### Ingredients:\n",
      "- 2 tablespoons olive oil\n",
      "- 1 medium onion, chopped\n",
      "- 2 cloves garlic, minced\n",
      "- 1-inch piece of ginger, minced\n",
      "- 2 medium carrots, diced\n",
      "- 1 cup cauliflower florets\n",
      "- 1 cup green beans, chopped\n",
      "- 1 medium potato, diced\n",
      "- 1 can (14 oz) diced tomatoes\n",
      "- 4 cups vegetable broth\n",
      "- 1 can (14 oz) coconut milk\n",
      "- 2 teaspoons curry powder\n",
      "- 1 teaspoon turmeric powder\n",
      "- 1 teaspoon cumin\n",
      "- Salt and pepper to taste\n",
      "- Fresh cilantro for garnish\n",
      "- Lime wedges for serving\n",
      "\n",
      "#### Directions:\n",
      "1. In a large pot, heat the olive oil over medium heat. Add the chopped onion and sauté until translucent, about 5 minutes.\n",
      "2. Stir in the garlic and ginger, cooking for an additional 2 minutes.\n",
      "3. Add the carrots, cauliflower, green beans, and potato to the pot. Cook for about 5 minutes, stirring occasionally.\n",
      "4. Pour in the diced tomatoes with their juice, vegetable broth, and coconut milk. Stir well to combine.\n",
      "5. Add the curry powder, turmeric, cumin, and season with salt and pepper. Bring the mixture to a boil, then reduce the heat and let it simmer for about 20 minutes, or until the vegetables are tender.\n",
      "6. Taste and adjust seasoning as needed.\n",
      "7. Serve hot, garnished with fresh cilantro and lime wedges on the side.\n",
      "\n",
      "This soup is hearty, flavorful, and perfect for a cozy meal. Enjoy your culinary creation!\n",
      "reached general state\n",
      "---ROUTE QUESTION (GENERAL)---\n",
      "---ROUTE QUESTION TO GENERAL CHAT---\n",
      "==================================\u001b[1m Ai Message \u001b[0m==================================\n",
      "\n",
      "Absolutely! To make the **Vegetable Curry Soup** spicier, you can incorporate a few additional ingredients. Here’s the updated recipe with some spice enhancement:\n",
      "\n",
      "### Spicy Vegetable Curry Soup\n",
      "\n",
      "#### Ingredients:\n",
      "- 2 tablespoons olive oil\n",
      "- 1 medium onion, chopped\n",
      "- 2 cloves garlic, minced\n",
      "- 1-inch piece of ginger, minced\n",
      "- 2 medium carrots, diced\n",
      "- 1 cup cauliflower florets\n",
      "- 1 cup green beans, chopped\n",
      "- 1 medium potato, diced\n",
      "- 1 can (14 oz) diced tomatoes\n",
      "- 4 cups vegetable broth\n",
      "- 1 can (14 oz) coconut milk\n",
      "- 2 teaspoons curry powder\n",
      "- 1 teaspoon turmeric powder\n",
      "- 1 teaspoon cumin\n",
      "- 1-2 green chilies, slit (adjust according to your spice preference)\n",
      "- 1 teaspoon red chili powder (adjust to taste)\n",
      "- Salt and pepper to taste\n",
      "- Fresh cilantro for garnish\n",
      "- Lime wedges for serving\n",
      "\n",
      "#### Directions:\n",
      "1. In a large pot, heat the olive oil over medium heat. Add the chopped onion and sauté until translucent, about 5 minutes.\n",
      "2. Stir in the garlic, ginger, and green chilies, cooking for an additional 2 minutes.\n",
      "3. Add the carrots, cauliflower, green beans, and potato to the pot. Cook for about 5 minutes, stirring occasionally.\n",
      "4. Pour in the diced tomatoes with their juice, vegetable broth, and coconut milk. Stir well to combine.\n",
      "5. Add the curry powder, turmeric, cumin, red chili powder, and season with salt and pepper. Bring the mixture to a boil, then reduce the heat and let it simmer for about 20 minutes, or until the vegetables are tender.\n",
      "6. Taste and adjust seasoning as needed.\n",
      "7. Serve hot, garnished with fresh cilantro and lime wedges on the side.\n",
      "\n",
      "Feel free to adjust the number of green chilies and red chili powder based on how spicy you like your dishes. Enjoy your spicy culinary creation!\n"
     ]
    }
   ],
   "source": [
    "# input_message = [HumanMessage(content=\"How to make butter chicken\"),\n",
    "#                  HumanMessage(content=\"Help me createa meal plan for the week\"),\n",
    "#                  HumanMessage(content=\"What is the capital of France\")]\n",
    "\n",
    "input_message = [HumanMessage(content=\"Give me a recipe for chicken soup\"),\n",
    "                 HumanMessage(content=\"Could you make it spicier for me\"),]\n",
    "\n",
    "for input_m in input_message:\n",
    "    output = app.invoke({\"messages\":input_m},config=config)\n",
    "    output[\"messages\"][-1].pretty_print()"
   ]
  }
 ],
 "metadata": {
  "kernelspec": {
   "display_name": ".venv",
   "language": "python",
   "name": "python3"
  },
  "language_info": {
   "codemirror_mode": {
    "name": "ipython",
    "version": 3
   },
   "file_extension": ".py",
   "mimetype": "text/x-python",
   "name": "python",
   "nbconvert_exporter": "python",
   "pygments_lexer": "ipython3",
   "version": "3.11.7"
  }
 },
 "nbformat": 4,
 "nbformat_minor": 2
}
