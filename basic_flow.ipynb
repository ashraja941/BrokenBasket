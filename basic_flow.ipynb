{
 "cells": [
  {
   "cell_type": "markdown",
   "metadata": {},
   "source": [
    "# Handle imports"
   ]
  },
  {
   "cell_type": "code",
   "execution_count": 1,
   "metadata": {},
   "outputs": [
    {
     "name": "stderr",
     "output_type": "stream",
     "text": [
      "d:\\TAMU\\SEM 4\\CNM\\BrokenBasket\\.venv\\Lib\\site-packages\\IPython\\core\\interactiveshell.py:3549: LangChainDeprecationWarning: As of langchain-core 0.3.0, LangChain uses pydantic v2 internally. The langchain_core.pydantic_v1 module was a compatibility shim for pydantic v1, and should no longer be used. Please update the code to import from Pydantic directly.\n",
      "\n",
      "For example, replace imports like: `from langchain_core.pydantic_v1 import BaseModel`\n",
      "with: `from pydantic import BaseModel`\n",
      "or the v1 compatibility namespace if you are working in a code base that has not been fully upgraded to pydantic 2 yet. \tfrom pydantic.v1 import BaseModel\n",
      "\n",
      "  exec(code_obj, self.user_global_ns, self.user_ns)\n",
      "d:\\TAMU\\SEM 4\\CNM\\BrokenBasket\\.venv\\Lib\\site-packages\\tqdm\\auto.py:21: TqdmWarning: IProgress not found. Please update jupyter and ipywidgets. See https://ipywidgets.readthedocs.io/en/stable/user_install.html\n",
      "  from .autonotebook import tqdm as notebook_tqdm\n"
     ]
    },
    {
     "data": {
      "text/plain": [
       "True"
      ]
     },
     "execution_count": 1,
     "metadata": {},
     "output_type": "execute_result"
    }
   ],
   "source": [
    "from dotenv import load_dotenv\n",
    "import os\n",
    "import cassio\n",
    "from uuid import uuid4\n",
    "import numpy as np\n",
    "import pandas as pd\n",
    "import json\n",
    "import pandas as pd\n",
    "\n",
    "\n",
    "from typing import Literal,List,Annotated\n",
    "\n",
    "from langchain_core.prompts import ChatPromptTemplate,PromptTemplate\n",
    "from langchain_core.pydantic_v1 import BaseModel, Field\n",
    "from langchain_core.output_parsers import StrOutputParser\n",
    "from langchain_core.messages import AnyMessage,trim_messages,AIMessage,HumanMessage,RemoveMessage\n",
    "from langchain_core.output_parsers import StrOutputParser,JsonOutputParser\n",
    "from langchain_core.documents import Document\n",
    "\n",
    "\n",
    "from langgraph.graph import END, START, StateGraph\n",
    "from langgraph.checkpoint.memory import MemorySaver\n",
    "from langgraph.graph import add_messages\n",
    "\n",
    "from typing_extensions import TypedDict\n",
    "\n",
    "from transformers import BertTokenizer\n",
    "\n",
    "load_dotenv()"
   ]
  },
  {
   "cell_type": "code",
   "execution_count": 2,
   "metadata": {},
   "outputs": [],
   "source": [
    "unique_id = uuid4().hex[0:8]\n",
    "os.environ[\"LANGCHAIN_TRACING_V2\"] = \"true\"\n",
    "os.environ[\"LANGCHAIN_PROJECT\"] = f\"Tracing Walkthrough - {unique_id}\"\n",
    "os.environ[\"LANGCHAIN_ENDPOINT\"] = \"https://api.smith.langchain.com\"\n",
    "os.environ[\"LANGCHAIN_API_KEY\"] = os.getenv('LANGCHAIN_API_KEY') # Update to your API key"
   ]
  },
  {
   "cell_type": "code",
   "execution_count": 3,
   "metadata": {},
   "outputs": [],
   "source": [
    "from langsmith import Client\n",
    "client = Client()"
   ]
  },
  {
   "cell_type": "markdown",
   "metadata": {},
   "source": [
    "# Connect to the database"
   ]
  },
  {
   "cell_type": "code",
   "execution_count": 4,
   "metadata": {},
   "outputs": [],
   "source": [
    "# connection of Astra DB\n",
    "ASTRA_DB_APPLICATION_TOKEN = os.getenv(\"ASTRA_DB_APPLICATION_TOKEN\")\n",
    "ASTRA_DB_ID = os.getenv(\"ASTRA_DB_ID\")\n",
    "\n",
    "cassio.init(\n",
    "    token = ASTRA_DB_APPLICATION_TOKEN,\n",
    "    database_id = ASTRA_DB_ID\n",
    ")"
   ]
  },
  {
   "cell_type": "code",
   "execution_count": 5,
   "metadata": {},
   "outputs": [],
   "source": [
    "from langchain_huggingface import HuggingFaceEmbeddings\n",
    "embeddings = HuggingFaceEmbeddings(model_name = \"all-MiniLM-L6-v2\")"
   ]
  },
  {
   "cell_type": "code",
   "execution_count": 6,
   "metadata": {},
   "outputs": [],
   "source": [
    "from langchain.vectorstores import Cassandra\n",
    "astra_vector_store = Cassandra(embedding=embeddings,\n",
    "                               table_name = \"CNM_test_table\",\n",
    "                               session=None,\n",
    "                               keyspace=None)"
   ]
  },
  {
   "cell_type": "code",
   "execution_count": 7,
   "metadata": {},
   "outputs": [
    {
     "data": {
      "text/plain": [
       "[Document(id='f221c87e5852447eaca5168f2e4349be', metadata={'description': 'These are THE BEST soft chocolate chip cookies! No chilling required. Just ultra thick, soft, classic chocolate chip cookies!', 'language': 'en-US', 'source': 'https://pinchofyum.com/the-best-soft-chocolate-chip-cookies/print/39213', 'title': 'The Best Soft Chocolate Chip Cookies Recipe - Pinch of Yum'}, page_content='Keywords: chocolate chip cookies, best chocolate chip cookies, soft chocolate chip cookies, easy cookie recipe, small batch cookies\\n\\n\\n\\n\\n\\nDid you make this recipe?\\nTag\\xa0@pinchofyum\\xa0on Instagram so we can admire your masterpiece!\\xa0🌟\\n\\n\\n\\n\\n\\n\\nFind it online: https://pinchofyum.com/the-best-soft-chocolate-chip-cookies'),\n",
       " Document(id='3af43e5c1fe84cd6a2ed6f96cd82bb7b', metadata={'description': 'These are THE BEST soft chocolate chip cookies! No chilling required. Just ultra thick, soft, classic chocolate chip cookies!', 'language': 'en-US', 'source': 'https://pinchofyum.com/the-best-soft-chocolate-chip-cookies/print/39213', 'title': 'The Best Soft Chocolate Chip Cookies Recipe - Pinch of Yum'}, page_content='The Best Soft Chocolate Chip Cookies Recipe - Pinch of Yum\\n\\n\\n\\n\\n\\n\\n\\n\\n\\n\\n\\n\\nThe Best Soft Chocolate Chip Cookies Recipe - Pinch of Yum\\n\\n\\n\\n\\n\\n\\n\\n\\n\\n\\n\\n\\n\\n\\n\\n\\n\\n\\n\\n\\n\\n\\n\\n\\n\\n\\n\\n\\n\\n\\n\\n\\n\\n\\n\\n\\n\\n\\n\\n\\n\\n\\n \\n\\n\\n\\n\\n\\n\\n\\n\\n\\n\\n\\n\\n\\n\\n\\n\\n\\n\\n\\n\\n\\n\\n\\n\\n\\n\\n\\n\\n\\n\\n\\n\\n\\n\\n\\n\\n\\n\\n\\n\\n\\n\\n\\n\\n\\n\\n\\n\\n\\n\\n\\n\\nPrint\\nclock clock iconcutlery cutlery iconflag flag iconfolder folder iconinstagram instagram iconpinterest pinterest iconfacebook facebook iconprint print iconsquares squares iconheart heart iconheart solid heart solid icon\\n\\n\\n \\nThe Best Soft Chocolate Chip Cookies\\n\\n\\n                                                 \\t\\t\\t\\t5 Stars\\t\\t\\t        \\t\\t\\t\\t4 Stars\\t\\t\\t        \\t\\t\\t\\t3 Stars\\t\\t\\t        \\t\\t\\t\\t2 Stars\\t\\t\\t        \\t\\t\\t\\t1 Star\\t\\t\\t  \\n4.5 from 1863 reviews\\n\\n\\n\\n\\n\\t\\t\\t\\t\\t\\t\\t\\t\\t\\t\\t\\t\\t\\tAuthor: Pinch of Yum \\n\\n\\n\\t\\t\\t\\t\\t\\t\\t\\t\\t\\t\\t\\t\\t\\t\\t\\tTotal Time: 20 minutes \\n\\n\\n\\t\\t\\t\\t\\t\\t\\t\\t\\t\\t\\t\\t\\t\\t\\t\\tYield: 12 cookies 1x \\n\\n\\n\\n\\n\\nDescription\\n\\nThese are THE BEST soft chocolate chip cookies! No chilling required. Just ultra thick, soft, classic chocolate chip cookies!\\n\\n\\n\\n\\n\\n\\nIngredients\\n\\n\\n\\nUnits\\nUSM \\n\\nScale\\n1/2x1x2x \\n\\n\\n\\n\\n8 tablespoons of salted butter\\n1/2 cup white sugar (I like to use raw cane sugar with a coarser texture)\\n1/4 cup packed light brown sugar\\n1 teaspoon vanilla\\n1 egg\\n1 1/2 cups all purpose flour (6.75 ounces)\\n1/2 teaspoon baking soda\\n1/4 teaspoon salt (but I always add a little extra)\\n3/4 cup chocolate chips (I use a combination of chocolate chips and chocolate chunks)\\n\\n \\n\\n\\n\\n\\n\\n\\n\\nCook Mode\\n\\n\\t\\t\\t\\tPrevent your screen from going dark\\t\\t\\t\\n\\n\\n\\n\\n\\n\\n\\nInstructions\\n\\n\\n\\nPreheat the oven to 350 degrees. Microwave the butter for about 40 seconds to just barely melt it. It shouldn’t be hot – but it should be almost entirely in liquid form.\\nUsing a stand mixer or electric beaters, beat the butter with the sugars until creamy. Add the vanilla and the egg; beat on low speed until just incorporated – 10-15 seconds or so (if you beat the egg for too long, the cookies will be stiff).\\nAdd the flour, baking soda, and salt. Mix until crumbles form. Use your hands to press the crumbles together into a dough. It should form one large ball that is easy to handle (right at the stage between “wet” dough and “dry” dough). Add the chocolate chips and incorporate with your hands.\\nRoll the dough into 12 large balls (or 9 for HUGELY awesome cookies) and place on a cookie sheet. Bake for 9-11 minutes until the cookies look puffy and dry and just barely golden. Warning, friends: DO NOT OVERBAKE. This advice is probably written on every cookie recipe everywhere, but this is essential for keeping the cookies soft. Take them out even if they look like they’re not done yet (see picture in the post). They’ll be pale and puffy.\\nLet them cool on the pan for a good 30 minutes or so (I mean, okay, eat four or five but then let the rest of them cool). They will sink down and turn into these dense, buttery, soft cookies that are the best in all the land. These should stay soft for many days if kept in an airtight container. I also like to freeze them.\\n\\n\\n\\n\\nEquipment\\n\\nSpatula\\nBuy Now → \\n\\nNonstick Sheet Pan\\nBuy Now → \\n\\nMixing Bowl\\nBuy Now → \\nThe equipment section may contain affiliate links to products we know and love. \\n\\n\\nPrep Time: 10 minsCook Time: 10 minsCategory: DessertMethod: BakeCuisine: American')]"
      ]
     },
     "execution_count": 7,
     "metadata": {},
     "output_type": "execute_result"
    }
   ],
   "source": [
    "recipe_retriever = astra_vector_store.as_retriever(    \n",
    "                                                search_type=\"similarity_score_threshold\",\n",
    "                                                search_kwargs={\"k\": 2, \"score_threshold\": 0.8},\n",
    "                                                )   \n",
    "recipe_retriever.invoke(\"Give me a cookie recipe\")"
   ]
  },
  {
   "cell_type": "code",
   "execution_count": 10,
   "metadata": {},
   "outputs": [],
   "source": [
    "# ingredients_db = pd.read_csv(\"database/food_with_embeddings.csv\")"
   ]
  },
  {
   "cell_type": "markdown",
   "metadata": {},
   "source": [
    "# Langgraph"
   ]
  },
  {
   "cell_type": "markdown",
   "metadata": {},
   "source": [
    "### Datamodel"
   ]
  },
  {
   "cell_type": "code",
   "execution_count": 11,
   "metadata": {},
   "outputs": [],
   "source": [
    "class GeneralRouteQuery(BaseModel):\n",
    "    \"\"\" Route a user query to the most relavent datasource \"\"\"\n",
    "    datasource: Literal[\"food\",\"general\"] = Field(\n",
    "        ...,\n",
    "        description=\"Given a user question choose to route it to general chat or a food\"\n",
    "    )\n",
    "\n",
    "class ToolRouteQuery(BaseModel):\n",
    "    \"\"\" Route a user query to the most relavent datasource \"\"\"\n",
    "    datasource: Literal[\"meal_plan\",\"recipe\"] = Field(\n",
    "        ...,\n",
    "        description=\"Given a user question choose to route it to meal_plan or recipe\"\n",
    "    )\n",
    "\n",
    "class GraphState(TypedDict):\n",
    "    \"\"\"\n",
    "    Represents the state of our graph.\n",
    "\n",
    "    Attributes:\n",
    "        messages: recent message history\n",
    "        preferences: uses' food preferences\n",
    "        documents: list of documents\n",
    "        calorie_goal: user's calorie goal\n",
    "    \"\"\"\n",
    "    messages: Annotated[list[AnyMessage], add_messages]\n",
    "    documents: List[str]\n",
    "    preferences: str\n",
    "    calorie_goal: int\n",
    "    meal_plan: dict\n",
    "    redo: str\n",
    "    current_calories : int"
   ]
  },
  {
   "cell_type": "markdown",
   "metadata": {},
   "source": [
    "### LLM links"
   ]
  },
  {
   "cell_type": "code",
   "execution_count": 12,
   "metadata": {},
   "outputs": [],
   "source": [
    "from langchain_groq import ChatGroq\n",
    "# from google.colab import userdata\n",
    "import os\n",
    "groq_api_key = os.getenv('groq_api_key')\n",
    "# print(groq_api_key)"
   ]
  },
  {
   "cell_type": "code",
   "execution_count": 13,
   "metadata": {},
   "outputs": [],
   "source": [
    "llm=ChatGroq(groq_api_key=groq_api_key,model_name='Llama-3.3-70b-Versatile')\n",
    "chat_llm = ChatGroq(groq_api_key=groq_api_key,model_name='Llama-3.3-70b-Versatile')\n",
    "\n",
    "structured_llm_general_router=llm.with_structured_output(GeneralRouteQuery)\n",
    "structured_llm_tool_router=llm.with_structured_output(ToolRouteQuery)\n"
   ]
  },
  {
   "cell_type": "markdown",
   "metadata": {},
   "source": [
    "### Prompts"
   ]
  },
  {
   "cell_type": "code",
   "execution_count": 14,
   "metadata": {},
   "outputs": [
    {
     "name": "stdout",
     "output_type": "stream",
     "text": [
      "datasource='general'\n",
      "datasource='food'\n"
     ]
    }
   ],
   "source": [
    "# General router Prompt\n",
    "system = \"\"\"You are an expert at routing a user question to a food or general.\n",
    "The food can tools to take care of meal planning, recipe finding and creation.\n",
    "Use the food for questions on these topics. Otherwise, use general.\"\"\"\n",
    "\n",
    "route_prompt = ChatPromptTemplate.from_messages(\n",
    "    [\n",
    "        (\"system\", system),\n",
    "        (\"human\", \"{messages}\"),\n",
    "    ]\n",
    ")\n",
    "\n",
    "general_router = route_prompt | structured_llm_general_router\n",
    "\n",
    "print(general_router.invoke({\"messages\": \"what is stardew Valley\"}))\n",
    "print(general_router.invoke({\"messages\": \"How to make a sweet dessert\"}))"
   ]
  },
  {
   "cell_type": "code",
   "execution_count": 15,
   "metadata": {},
   "outputs": [
    {
     "name": "stdout",
     "output_type": "stream",
     "text": [
      "datasource='recipe'\n",
      "datasource='meal_plan'\n"
     ]
    }
   ],
   "source": [
    "# tool router Prompt\n",
    "system = \"\"\"\n",
    "You are an expert at routing a user message to a meal_plan or recipe.\n",
    "the meal_plan has access to tools to generate a meal plan for your weight goals.\n",
    "Use the meal_plan for questions on these topics. \n",
    "If the message has to do with finding or modifying a recipe, use recipe.\n",
    "\"\"\"\n",
    "\n",
    "route_prompt = ChatPromptTemplate.from_messages(\n",
    "    [\n",
    "        (\"system\", system),\n",
    "        (\"human\", \"{messages}\"),\n",
    "    ]\n",
    ")\n",
    "\n",
    "tool_router = route_prompt | structured_llm_tool_router\n",
    "\n",
    "print(tool_router.invoke({\"messages\": \"how to make butter chicken\"}))\n",
    "print(tool_router.invoke({\"messages\": \"help me plan the food for the week\"}))"
   ]
  },
  {
   "cell_type": "code",
   "execution_count": 16,
   "metadata": {},
   "outputs": [],
   "source": [
    "system = \"\"\"\" \n",
    "You are an expert at generating a meal plan based on a user's input such as calorie goal and food preferences.\n",
    "The user's preferences are : {preferences}\n",
    "The user's calorie goal for the day : {calorie_goal}\n",
    "\n",
    "You are to take reference from the documents provided below : {documents}\n",
    "\n",
    "You are to generate a meal plan for a day include 3 meals. The meal plan should be a JSON in the following format:\n",
    "\n",
    "\"butter chicken\" : [[500,\"chicken\"],[100, \"spices\"],[50, \"onion\"]],\n",
    "\"coffee\" : [[10,\"coffee\"],[20,\"milk\"]],\n",
    "...\n",
    "\n",
    "Please write 3 recipes only. For each recipe for the key write the name of the dish The contents of each recipe should be the list of ingredients used to make the recipe and the quantity.\n",
    "It does not matter for breakfast, lunch and dinner, just output 3 meals pertaining to the calorie goals from the documents provided.\n",
    "\n",
    "where the key is the name of the meal and the value is a list of lists where each list is of the form [quantity,ingredient].\n",
    "Quantity should ONLY BE in grams\n",
    "\n",
    "Return the meal plan as a JSON, DO NOT return any other text.\n",
    "Make it so that the output is in 1 line.\n",
    "DO not write any text before or after the brackets\n",
    "\"\"\"\n",
    "\n",
    "generate_meal_plan_prompt = ChatPromptTemplate.from_messages(\n",
    "    [\n",
    "        (\"system\", system),\n",
    "        # (\"human\", \"{messages}\"),\n",
    "    ]\n",
    ")\n",
    "\n",
    "generate_meal_plan = generate_meal_plan_prompt | llm | JsonOutputParser()\n",
    "\n",
    "# temp_mp = generate_meal_plan.invoke({\"preferences\": \"desserts\", \"calorie_goal\": 2000, \"documents\": temp_docs})\n",
    "\n",
    "# print(temp_mp)\n",
    "\n",
    "# print(output_json)"
   ]
  },
  {
   "cell_type": "markdown",
   "metadata": {},
   "source": [
    "### Helper functions"
   ]
  },
  {
   "cell_type": "code",
   "execution_count": 17,
   "metadata": {},
   "outputs": [],
   "source": [
    "def cosine(a,b):\n",
    "    print(type(a))\n",
    "    print(type(b))\n",
    "    if a == 0 or b == 0:\n",
    "        return 0\n",
    "    return np.dot(a,b)/(np.linalg.norm(a)*np.linalg.norm(b))"
   ]
  },
  {
   "cell_type": "markdown",
   "metadata": {},
   "source": [
    "### nodes"
   ]
  },
  {
   "cell_type": "code",
   "execution_count": 18,
   "metadata": {},
   "outputs": [],
   "source": [
    "def trim(state):\n",
    "    # response = trim_messages(\n",
    "    #     state[\"messages\"],\n",
    "    #     strategy=\"last\",\n",
    "    #     token_counter=len, # each message will be counted as 1 token\n",
    "    #     max_tokens=1,\n",
    "    #     start_on=\"human\",\n",
    "    #     end_on=(\"human\", \"tool\"),\n",
    "    #     include_system=True,\n",
    "    # )\n",
    "    if len(state['messages']) > 2:\n",
    "        delete_messages = [RemoveMessage(id=m.id) for m in state['messages'][:-2]]\n",
    "        return {\"messages\": delete_messages}\n",
    "    else:\n",
    "        return {\"messages\": state['messages']}"
   ]
  },
  {
   "cell_type": "code",
   "execution_count": 19,
   "metadata": {},
   "outputs": [],
   "source": [
    "def general_chat_bot(state):\n",
    "    response = chat_llm.invoke(state[\"messages\"])\n",
    "    return {\"messages\": response}"
   ]
  },
  {
   "cell_type": "code",
   "execution_count": 20,
   "metadata": {},
   "outputs": [],
   "source": [
    "def retrieve_recipes(state):\n",
    "    \"\"\"\n",
    "    Retrieve documents\n",
    "\n",
    "    Args:\n",
    "        state (dict): The current graph state\n",
    "\n",
    "    Returns:\n",
    "        state (dict): New key added to state, documents, that contains retrieved documents\n",
    "    \"\"\"\n",
    "    print(\"---RETRIEVE---\")\n",
    "    print(\"retrieved using the prompt: \",state[\"messages\"][-1].content)\n",
    "    \n",
    "    response = recipe_retriever.invoke(state[\"messages\"][-1].content)\n",
    "    print(\"retrieved: \",response)\n",
    "    return {\"documents\": response}"
   ]
  },
  {
   "cell_type": "code",
   "execution_count": 21,
   "metadata": {},
   "outputs": [],
   "source": [
    "def general_route(state):\n",
    "    \"\"\"\n",
    "    Route question to general or food.\n",
    "\n",
    "    Args:\n",
    "        state (dict): The current graph state\n",
    "\n",
    "    Returns:\n",
    "        str: Next node to call\n",
    "    \"\"\"\n",
    "\n",
    "    print(\"---ROUTE QUESTION (GENERAL)---\")\n",
    "    message = state[\"messages\"][-1].content\n",
    "    # print(\"message: \",message)\n",
    "    \n",
    "    source = general_router.invoke({\"messages\": message})\n",
    "    # print(\"source: \",source.datasource)\n",
    "    if source.datasource == \"general\":\n",
    "        print(\"---ROUTE QUESTION TO GENERAL CHAT---\")\n",
    "        return \"general_chat_route\"\n",
    "    elif source.datasource == \"food\":\n",
    "        print(\"---ROUTE QUESTION TO FOOD---\")\n",
    "        return \"food_route\"\n",
    "    else:\n",
    "        raise ValueError(f\"Unknown datasource: {source.datasource}\")"
   ]
  },
  {
   "cell_type": "code",
   "execution_count": 22,
   "metadata": {},
   "outputs": [],
   "source": [
    "def tool_route(state):\n",
    "    \"\"\"\n",
    "    Route question to general or food.\n",
    "\n",
    "    Args:\n",
    "        state (dict): The current graph state\n",
    "\n",
    "    Returns:\n",
    "        str: Next node to call\n",
    "    \"\"\"\n",
    "\n",
    "    print(\"---ROUTE QUESTION (TOOLS)---\")\n",
    "    message = state[\"messages\"][-1].content\n",
    "    # print(\"message: \",message)\n",
    "    \n",
    "    source = tool_router.invoke({\"messages\": message})\n",
    "    # print(\"source: \",source.datasource)\n",
    "    if source.datasource == \"meal_plan\":\n",
    "        print(\"---ROUTE QUESTION TO MEAL PLAN---\")\n",
    "        return \"meal_plan_route\"\n",
    "    elif source.datasource == \"recipe\":\n",
    "        print(\"---ROUTE QUESTION TO RECIPE---\")\n",
    "        return \"recipe_route\"\n",
    "    else:\n",
    "        raise ValueError(f\"Unknown datasource: {source.datasource}\")"
   ]
  },
  {
   "cell_type": "code",
   "execution_count": 23,
   "metadata": {},
   "outputs": [],
   "source": [
    "def meal_plan_retriever(state):\n",
    "    \"\"\"\"\n",
    "    Create a meal plan\n",
    "    Args:\n",
    "        state (dict): The current graph state\n",
    "\n",
    "    Returns:\n",
    "        state (dict): The current graph state with the meal plan added\n",
    "    \n",
    "    \"\"\"\n",
    "    print(\"---MEAL PLANNER RETRIEVER---\")\n",
    "    documents = recipe_retriever.invoke(state[\"preferences\"])\n",
    "    return ({\"documents\": documents})"
   ]
  },
  {
   "cell_type": "code",
   "execution_count": 24,
   "metadata": {},
   "outputs": [],
   "source": [
    "def meal_plan_generator(state):\n",
    "    \"\"\"\"\n",
    "    Create a meal plan\n",
    "    Args:\n",
    "        state (dict): The current graph state\n",
    "\n",
    "    Returns:\n",
    "        state (dict): The current graph state with the meal plan added\n",
    "    \n",
    "    \"\"\"\n",
    "    print(\"---MEAL PLANNER GENERATOR---\")  \n",
    "    try: \n",
    "        meal_plan = generate_meal_plan.invoke({\"preferences\": state[\"preferences\"], \"calorie_goal\": state[\"calorie_goal\"], \"documents\": state[\"documents\"]})\n",
    "    except:\n",
    "        print(\"---MEAL PLANNER GENERATOR FAILED---\")\n",
    "        print(\"TRY AGAIN\")\n",
    "\n",
    "    return ({\"meal_plan\": meal_plan})"
   ]
  },
  {
   "cell_type": "code",
   "execution_count": 25,
   "metadata": {},
   "outputs": [],
   "source": [
    "def general(state):\n",
    "    print(\"reached general state\")\n",
    "    return state\n",
    "\n",
    "def food(state):\n",
    "    print(\"reached food state\")\n",
    "    return state"
   ]
  },
  {
   "cell_type": "code",
   "execution_count": 26,
   "metadata": {},
   "outputs": [],
   "source": [
    "def meal_plan_checker(state):\n",
    "    print(\"---CREATE MEAL PLAN---\")\n",
    "    meal_plan = state['meal_plan']\n",
    "    current_calories = 0\n",
    "    calorie_goal = state['calorie_goal']\n",
    "\n",
    "    # encoder\n",
    "    tokenizer = BertTokenizer.from_pretrained('bert-base-uncased')\n",
    "\n",
    "    for dish in meal_plan:\n",
    "        for grams, ingredient in meal_plan[dish]:\n",
    "            # vectorize ingredient\n",
    "            encoded_input = tokenizer(ingredient, max_length = 50, return_tensors='pt')\n",
    "\n",
    "            # compare to db\n",
    "            most_similar = (0,\"\")\n",
    "            for index,item in ingredients_db['embedding']:\n",
    "                if cosine(item,encoded_input) > most_similar[0]:\n",
    "                    most_similar = (cosine(item,encoded_input),index)\n",
    "\n",
    "            # calculate calories\n",
    "            current_calories += grams * ingredients_db['calories'][most_similar[1]]\n",
    "\n",
    "    if current_calories > calorie_goal:\n",
    "        return {\"redo\": True}\n",
    "    else: \n",
    "        return {\"redo\": False, \"current_calories\": current_calories} \n"
   ]
  },
  {
   "cell_type": "code",
   "execution_count": 27,
   "metadata": {},
   "outputs": [],
   "source": [
    "def redo_meal_plan(state):\n",
    "    redo = state['redo']\n",
    "    if redo:\n",
    "        return \"redo_meal_plan\"\n",
    "    else:\n",
    "        return \"continue\""
   ]
  },
  {
   "cell_type": "code",
   "execution_count": 28,
   "metadata": {},
   "outputs": [],
   "source": [
    "def display_meal_plan(state):\n",
    "    print(\"---DISPLAY MEAL PLAN---\")\n",
    "    print(\"meal plan: \",state['meal_plan'])\n",
    "    print(\"current calories: \",state['current_calories'])\n",
    "    return state"
   ]
  },
  {
   "cell_type": "markdown",
   "metadata": {},
   "source": [
    "### Graph creation"
   ]
  },
  {
   "cell_type": "code",
   "execution_count": 32,
   "metadata": {},
   "outputs": [],
   "source": [
    "workflow = StateGraph(GraphState)\n",
    "\n",
    "workflow.add_node(\"trim\", trim)\n",
    "workflow.add_node(\"general_router\", general)\n",
    "workflow.add_node(\"general_chat_bot\", general_chat_bot)\n",
    "workflow.add_node(\"tool_router\", food)\n",
    "workflow.add_node(\"retrieve_recipes\", retrieve_recipes)\n",
    "workflow.add_node(\"meal_plan_retriever\", meal_plan_retriever)\n",
    "workflow.add_node(\"generate_meal_plan\", meal_plan_generator)\n",
    "workflow.add_node(\"check_meal_plan\", meal_plan_checker)\n",
    "# workflow.add_node(\"redo_meal_plan_router\", redo_meal_plan)\n",
    "workflow.add_node(\"display_meal_plan\", display_meal_plan)\n",
    "\n",
    "workflow.add_edge(START, \"trim\")\n",
    "workflow.add_edge(\"trim\", \"general_router\")\n",
    "workflow.add_conditional_edges(\n",
    "    \"general_router\",\n",
    "    general_route,\n",
    "    {\n",
    "        \"general_chat_route\": \"general_chat_bot\",\n",
    "        \"food_route\": \"tool_router\",\n",
    "    },\n",
    ")\n",
    "workflow.add_conditional_edges(\n",
    "    \"tool_router\",\n",
    "    tool_route,\n",
    "    {\n",
    "        \"meal_plan_route\": \"meal_plan_retriever\",\n",
    "        \"recipe_route\": \"retrieve_recipes\",\n",
    "    },\n",
    ")\n",
    "workflow.add_edge(\"meal_plan_retriever\", \"generate_meal_plan\")\n",
    "workflow.add_edge(\"generate_meal_plan\", \"check_meal_plan\")\n",
    "\n",
    "workflow.add_conditional_edges(\n",
    "    \"check_meal_plan\",\n",
    "    redo_meal_plan,\n",
    "    {\n",
    "        \"redo_meal_plan\": \"generate_meal_plan\",\n",
    "        \"continue\": \"display_meal_plan\",\n",
    "    },\n",
    ")\n",
    "workflow.add_edge(\"display_meal_plan\", END)\n",
    "workflow.add_edge(\"general_chat_bot\", END)\n",
    "workflow.add_edge(\"retrieve_recipes\", END)\n",
    "# workflow.add_edge(\"meal_plan\", END)\n",
    "\n",
    "memory = MemorySaver()\n",
    "app = workflow.compile(checkpointer = memory)"
   ]
  },
  {
   "cell_type": "code",
   "execution_count": 33,
   "metadata": {},
   "outputs": [
    {
     "data": {
      "image/png": "[encoded data removed]",
      "text/plain": [
       "<IPython.core.display.Image object>"
      ]
     },
     "metadata": {},
     "output_type": "display_data"
    }
   ],
   "source": [
    "from IPython.display import Image, display\n",
    "\n",
    "try:\n",
    "    display(Image(app.get_graph().draw_mermaid_png()))\n",
    "except Exception:\n",
    "    # This requires some extra dependencies and is optional\n",
    "    pass"
   ]
  },
  {
   "cell_type": "markdown",
   "metadata": {},
   "source": [
    "### Chat and testing"
   ]
  },
  {
   "cell_type": "code",
   "execution_count": null,
   "metadata": {},
   "outputs": [],
   "source": [
    "config = {\"configurable\": {\"thread_id\": \"1\"}}"
   ]
  },
  {
   "cell_type": "code",
   "execution_count": null,
   "metadata": {},
   "outputs": [],
   "source": [
    "# input_message = [HumanMessage(content=\"Hey\")]\n",
    "# output = app.invoke({\"messages\":input_message},config=config)\n",
    "# output[\"messages\"][-1].pretty_print()"
   ]
  },
  {
   "cell_type": "code",
   "execution_count": null,
   "metadata": {},
   "outputs": [
    {
     "name": "stdout",
     "output_type": "stream",
     "text": [
      "reached general state\n",
      "---ROUTE QUESTION (GENERAL)---\n",
      "message:  How to make butter chicken\n",
      "source:  food\n",
      "---ROUTE QUESTION TO FOOD---\n",
      "reached food state\n",
      "---ROUTE QUESTION (TOOLS)---\n",
      "message:  How to make butter chicken\n",
      "source:  recipe\n",
      "---ROUTE QUESTION TO RECIPE---\n",
      "---RETRIEVE---\n",
      "retrieved using the prompt:  How to make butter chicken\n",
      "retrieved:  [Document(id='0a5a899762784e62804702b8cc9a6b95', metadata={'description': \"This easy cake recipe requires just 7 ingredients and tastes like you spent hours making it, even though it's out of the oven in under an hour.\", 'language': 'en', 'source': 'https://www.allrecipes.com/recipe/17481/simple-white-cake/?print', 'title': 'Simple White Cake Recipe'}, page_content=\"Worth the effort\\nVery light, very great. This is my second time trying this recipe and it turned out just as amazing as the first time. Very beginner friendly, today I added some nuts on top. \\n\\n \\n05\\nof 663\\n\\n\\n\\n\\n\\n\\n\\n\\n\\n\\n\\nPhoto by\\xa0\\nSayeh Majzoob\\n\\n\\n\\n\\n\\n\\n\\n\\n\\n\\n\\n\\n\\n\\n\\n\\n\\n04/24/2024\\nSince I was short of time, I swapped butter with high quality sun flower oil, and also reduced the sugar a tiny bit. I made it in less than 10 minutes and baked it for 40 mins. It turned out amazing, served with blueberry jam and some fresh strawberries. Since it is simple bake its taste will surely highly depend on the quality of the ingredients. Use tasty starting materials. I creamed the egg and sugar thourougly. \\n\\n \\n06\\nof 663\\n\\n\\n\\n\\n\\n\\n\\n\\n\\n\\n\\nPhoto by\\xa0\\nPerkyBao1282\\n\\n\\n\\n\\n\\n\\n\\n\\n\\n\\n\\n\\n\\n\\n\\n\\n\\n04/13/2024\\n\\n\\n\\nEasy to follow\\n\\n\\n\\nWorth the effort\\n\\n\\n\\nCrowd-pleaser\\nThis is the third time I'm making this recipe. I love it \\n\\n \\n07\\nof 663\\n\\n\\n\\n\\n\\n\\n\\n\\n\\n\\n\\nPhoto by\\xa0\\nEagerFlour9876\\n\\n\\n\\n\\n\\n\\n\\n\\n\\n\\n\\n\\n\\n\\n\\n\\n\\n02/29/2024\\n\\n\\n\\nA keeper!\\n\\n\\n\\nCrowd-pleaser\\n\\n\\n\\nEasy to follow\\n\\n\\n\\nWorth the effort\\nI LOVED this recipe. It was quick easy and it was just overall great. I loved the flavor and so did my family. The texture and consistency was perfect. We used it for the Leap Day Party cake. I will definitely make this again. \\n\\n \\n08\\nof 663\\n\\n\\n\\n\\n\\n\\n\\n\\n\\n\\n\\nPhoto by\\xa0\\ncatzrule1990\\n\\n\\n\\n\\n\\n\\n\\n\\n\\n\\n\\n\\n\\n\\n\\n\\n\\n02/25/2024\\n\\n\\n\\nWorth the effort\\n\\n\\n\\nEasy to follow\\n\\n\\n\\nGreat flavors\\n\\n\\n\\nA keeper!\\n\\n\\n\\nCrowd-pleaser\\n\\n\\n\\nFamily favorite\\nBeen trying to find a simple vanilla/white cake for a long time that didn't involve egg whites/whipping egg whites. This cake fits the bill! it has a wonderful flavor and texture. Not fragile, but not too dense. Stands up just fine with two layers. It is lovely with or without frosting! I decided to make a buttercream frosting with very subtle strawberry flavor and both the frosting and cake compliment each other very well. I would also imagine that this cake would be perfect to use for strawberry shortcake!Definitely a new keeper recipe for me! Dad and I love it very much. 10/10 \\n\\n \\n09\\nof 663\\n\\n\\n\\n\\n\\n\\n\\n\\n\\n\\n\\nPhoto by\\xa0\\nMintPulp1911\\n\\n\\n\\n\\n\\n\\n\\n\\n\\n\\n\\n\\n\\n\\n\\n\\n\\n01/07/2024\\nI made this cake for my family and they loved it so much. Would definitely recommend \\n\\n \\n10\\nof 663\\n\\n\\n\\n\\n\\n\\n\\n\\n\\n\\n\\nPhoto by\\xa0\\nGoldenParm7351\\n\\n\\n\\n\\n\\n\\n\\n\\n\\n\\n\\n\\n\\n\\n\\n\\n\\n01/02/2024\\nWas very delicious and fluffy. Totally recommend using this recipe. \\n\\n\\n1\\n\\n\\n2\\n\\n\\n3\\n\\n\\n4\\n\\n\\n5\\n\\n\\n\\nNext\\n\\n\\n\\n\\n\\n\\n \\n\\n\\n\\n\\n\\nYou’ll Also Love\\n\\n\\n\\n\\n\\n\\n\\n\\n\\n \\n\\n\\n\\n\\n\\n\\n\\n\\nWedding Cake\\n\\n\\n\\n\\n\\n\\n\\n\\n\\n\\n\\n\\n\\n\\n\\n\\n\\n\\n\\n161\\n\\nRatings\\n\\n\\n \\n\\n\\n\\n\\n\\n\\n\\n\\n\\n\\n \\n\\n\\n\\n\\n\\n\\n\\n\\nEasy Birthday Cake\\n\\n \\n\\n\\n\\n\\n\\n\\n\\n\\n\\n\\n \\n\\n\\n\\n\\n\\n\\n\\n\\nCream Cake\\n\\n\\n\\n\\n\\n\\n\\n\\n\\n\\n\\n\\n\\n\\n\\n\\n\\n\\n\\n177\\n\\nRatings\\n\\n\\n \\n\\n\\n\\n\\n\\n\\n\\n\\n\\n\\n \\n\\n\\n\\n\\n\\n\\n\\n\\nSmash Cake\\n\\n\\n\\n\\n\\n\\n\\n\\n\\n\\n\\n\\n\\n\\n\\n\\n\\n\\n\\n2\\n\\nRatings\\n\\n\\n \\n\\n\\n\\n\\n\\n\\n\\n\\n\\n\\n \\n\\n\\n\\n\\n\\n\\n\\n\\nHeavenly White Cake\\n\\n\\n\\n\\n\\n\\n\\n\\n\\n\\n\\n\\n\\n\\n\\n\\n\\n\\n\\n973\\n\\nRatings\\n\\n\\n \\n\\n\\n\\n\\n\\n\\n\\n\\n\\n\\n \\n\\n\\n\\n\\n\\n\\n\\n\\nNany's White Cake\\n\\n\\n\\n\\n\\n\\n\\n\\n\\n\\n\\n\\n\\n\\n\\n\\n\\n\\n\\n136\\n\\nRatings\\n\\n\\n \\n\\n\\n\\n\\n\\n\\n\\n\\n\\n\\n \\n\\n\\n\\n\\n\\n\\n\\n\\nLori's White Cake\\n\\n\\n\\n\\n\\n\\n\\n\\n\\n\\n\\n\\n\\n\\n\\n\\n\\n\\n\\n28\\n\\nRatings\\n\\n\\n \\n\\n\\n\\n\\n\\n\\n\\n\\n\\n\\n \\n\\n\\n\\n\\n\\n\\n\\n\\nMock Angel Food Cake\\n\\n\\n\\n\\n\\n\\n\\n\\n\\n\\n\\n\\n\\n\\n\\n\\n\\n\\n\\n55\\n\\nRatings\"), Document(id='d61c2d48df544d9ab1ec4f56b13f4aaa', metadata={'language': 'en-US', 'source': 'https://www.loveandlemons.com/wprm_print/best-homemade-brownies', 'title': 'Best Homemade Brownies - Love and Lemons'}, page_content=\"Best Homemade Brownies - Love and Lemons     \\nGo Back\\nPrintRecipe ImageNotes–+\\xa0servingsSmallerNormalLargerBest Homemade BrowniesPrep Time: 5 minutes minsCook Time: 45 minutes minsServes 16 browniesThe ultimate recipe for brownies! They're fudgy, moist, and super chocolaty, with perfect crispy edges. From Weeknight Baking by Michelle Lopez.Equipment8x8 Baking Dish (this is the one I use so they don't overcook)Cooking Spray (I love this avocado oil one from Chosen Foods)Parchment Paper (this makes it so much easier to remove the brownies from the pan)Ingredients1 1/2 cups granulated sugar*3/4 cup all-purpose flour2/3 cup cocoa powder, sifted if lumpy1/2 cup powdered sugar, sifted if lumpy1/2 cup dark chocolate chips3/4 teaspoons sea salt2 large eggs1/2 cup canola oil or extra-virgin olive oil**2 tablespoons water1/2 teaspoon vanillaInstructionsPreheat the oven to 325°F. Lightly spray an 8x8 baking dish (not a 9x9 dish or your brownies will overcook) with cooking spray and line it with parchment paper. Spray the parchment paper.In a medium bowl, combine the sugar, flour, cocoa powder, powdered sugar, chocolate chips, and salt.In a large bowl, whisk together the eggs, olive oil, water, and vanilla.Sprinkle the dry mix over the wet mix and stir until just combined.Pour the batter into the prepared pan (it'll be thick - that's ok) and use a spatula to smooth the top. Bake for 40 to 48 minutes, or until a toothpick comes out with only a few crumbs attached (note: it's better to pull the brownies out early than to leave them in too long). Cool completely before slicing.*** Store in an airtight container at room temperature for up to 3 days. These also freeze well!Notes*If you'd like to reduce the sugar, I've had success with 1 cup granulated sugar instead of 1 1/2 cups.\\n**I like to use olive oil because it's what I keep on hand and I enjoy the pairing of olive oil with chocolate. Keep in mind that you will taste it here. For a more neutral flavor, use canola oil.\\n***When these brownies come out of the oven, they'll be super gooey in the middle. Allow them to cool completely, about 2 hours, before you slice into them to give them a chance to set up. They'll continue to firm up the longer they're out of the oven. If you still prefer a firmer brownie, store them in the fridge.Find it online at https://www.loveandlemons.com/brownies-recipe/\"), Document(id='2499643945b44e0489751448f046c998', metadata={'description': \"This easy cake recipe requires just 7 ingredients and tastes like you spent hours making it, even though it's out of the oven in under an hour.\", 'language': 'en', 'source': 'https://www.allrecipes.com/recipe/17481/simple-white-cake/?print', 'title': 'Simple White Cake Recipe'}, page_content=\"Soups, Stews & Chili\\n \\n\\n Comfort Food\\n \\n\\n Main Dishes\\n \\n\\n Sheet Pan Dinners\\n \\n\\n View All\\n \\n\\n\\n\\n Meals\\n\\n\\n\\n Breakfast & Brunch\\n \\n\\n Lunch\\n \\n\\n Healthy\\n \\n\\n Appetizers & Snacks\\n \\n\\n Salads\\n \\n\\n Side Dishes\\n \\n\\n Soups\\n \\n\\n Bread\\n \\n\\n Drinks\\n \\n\\n Desserts\\n \\n\\n View All\\n \\n\\n\\n\\n Ingredients\\n\\n\\n\\n Chicken\\n \\n\\n Beef\\n \\n\\n Pork\\n \\n\\n Seafood\\n \\n\\n Pasta\\n \\n\\n Fruits\\n \\n\\n Vegetables\\n \\n\\n View All\\n \\n\\n\\n\\n Occasions\\n\\n\\n\\n St. Patrick's Day\\n \\n\\n Recipes for Nowruz\\n \\n\\n Ramadan\\n \\n\\n Recipes for Lent\\n \\n\\n View All\\n \\n\\n\\n\\n Cuisines\\n\\n\\n\\n Mexican\\n \\n\\n Italian\\n \\n\\n Chinese\\n \\n\\n Indian\\n \\n\\n German\\n \\n\\n Greek\\n \\n\\n Filipino\\n \\n\\n Japanese\\n \\n\\n View All\\n \\n\\n\\n\\n Kitchen Tips\\n\\n\\n\\n Instant Pot\\n \\n\\n Air Fryer\\n \\n\\n Slow Cooker\\n \\n\\n Our Favorite Products\\n \\n\\n BBQ & Grilling\\n \\n\\n Cooking by Equipment\\n \\n\\n Ingredient Substitutions\\n \\n\\n View All\\n \\n\\n\\n\\n News\\n\\n\\n\\n Celebrity & Entertainment\\n \\n\\n Fast Food\\n \\n\\n Grocery\\n \\n\\n Recalls\\n \\n\\n Trends\\n \\n\\n View All\\n \\n\\n\\n\\n Features\\n\\n\\n\\n Dinner Fix\\n \\n\\n Sweet Spot\\n \\n\\n In the Kitchen\\n \\n\\n\\n\\n\\n\\n About Us\\n\\n\\n\\n The Allrecipes Allstars\\n \\n\\n How to Add a Recipe\\n \\n\\n\\nGET THE MAGAZINE\\n\\n\\n\\n\\n\\n\\n\\nRecipes\\n\\n\\n\\nDesserts\\n\\n\\n\\nCakes\\n\\n\\n\\nWhite Cake Recipes\\n\\nSimple White Cake\\n\\n\\n\\n\\n\\n\\n\\n\\n\\n\\n\\n\\n\\n\\n\\n\\n\\n4.3\\n(4,401)\\n3,655 Reviews\\n663 Photos\\nThis simple cake recipe was sent home from our children's school. It is the easiest, best-tasting cake I've ever made. It's great to make with the kids, especially for cupcakes. Use your favorite frosting on top of this delicious cake.\\n\\nSubmitted by\\nSCOTTOSMAN\\n\\nUpdated on November 11, 2023\\n\\n\\n\\nTested by\\n Allrecipes Test Kitchen\\n \\n\\n\\n\\nTested by\\nAllrecipes Test Kitchen\\n \\nThe Allrecipes Test Kitchen staff are a team of culinary pros who make and vet recipes using only equipment you'd find in a home kitchen. Staff credentials vary but include training at the Culinary Institute of America; kitchen stints in fine dining restaurants; and countless hours in the test kitchen itself.\\n\\n\\n\\nMeet the Allrecipes Test Kitchen\\n\\n\\n\\n\\n \\n \\nSave\\n\\n\\n\\n\\n\\n\\n\\n\\nRate\\n\\n\\n\\n\\n\\n \\nPrint\\n\\n\\n\\n\\n\\n\\n\\n\\n\\n\\nShare\\n\\n\\n\\n\\n\\n \\n\\n\\n\\n\\n\\n\\n\\n\\n\\n\\n\\n\\n\\n\\n\\n\\n\\n\\n\\n\\n\\n\\n\\n\\n\\n\\n\\n\\n \\n\\n \\n\\n Add Photo\\n\\n\\n\\n\\n663\\n\\n\\n\\n\\n\\n\\n663\\n\\n\\n\\n663\\n\\n\\n\\n663\\n\\n\\n\\n \\n\\nPrep Time:\\n10 mins\\n\\n\\nCook Time:\\n30 mins\\n\\n\\nTotal Time:\\n40 mins\\n\\n\\nServings:\\n12 \\n\\n\\nYield:\\n1 9-inch square cake\\n\\n\\nJump to Nutrition Facts\\n\\n\\n\\n\\n\\n \\n\\n\\n\\nCook Mode\\n(Keep screen awake)\\n\\nIngredients\\n \\n\\n\\n\\n\\n\\n\\n1x\\n\\n\\n\\n\\n\\n\\n\\n\\n2x\\n\\n\\n\\n\\n\\n\\n\\n\\n4x\\n\\n\\n\\n \\n\\n\\n\\nOops! Something went wrong. Our team is working on it.\\n\\n\\n\\nOriginal recipe (1X) yields 12 servings\\n \\n\\n1 cup white sugar\\n\\n\\n½ cup unsalted butter\\n\\n\\n2 large eggs\\n\\n\\n2 teaspoons vanilla extract\\n\\n\\n1 ½ cups all-purpose flour\\n\\n\\n1 ¾ teaspoons baking powder\\n\\n\\n½ cup milk\\n\\n\\n\\nDirections\\n\\n\\n Gather all ingredients. Preheat the oven to 350 degrees F (175 degrees C). Grease and flour a 9-inch square cake pan.\\n\\n \\n\\n\\n\\n\\n\\n \\n Dotdash Meredith Food Studios\\n\\n\\n\\n\\n Cream sugar and butter together in a mixing bowl. Add eggs, one at a time, beating briefly after each addition. Mix in vanilla.\\n\\n \\n\\n\\n\\n\\n\\n \\n Dotdash Meredith Food Studios\\n\\n\\n\\n\\n Combine flour and baking powder in a separate bowl. Add to the wet ingredients and mix well. Add milk and stir until smooth.\\n\\n \\n\\n\\n\\n\\n\\n \\n Dotdash Meredith Food Studios\\n\\n\\n\\n\\n Pour batter into the prepared cake pan.\\n\\n \\n\\n\\n\\n\\n\\n \\n Dotdash Meredith Food Studios\"), Document(id='7676af0bc650499b8e0d6de5e3542bd6', metadata={'description': \"This easy cake recipe requires just 7 ingredients and tastes like you spent hours making it, even though it's out of the oven in under an hour.\", 'language': 'en', 'source': 'https://www.allrecipes.com/recipe/17481/simple-white-cake/?print', 'title': 'Simple White Cake Recipe'}, page_content=\"Bake in the preheated oven until the top springs back when lightly touched, 30 to 40 minutes.\\n\\n \\n\\n\\n\\n\\n\\n \\n Dotdash Meredith Food Studios\\n\\n\\n\\n\\n Remove from the oven and cool completely. Frost and enjoy!\\n\\n \\n\\n\\n\\n\\n\\n \\n DOTDASH MEREDITH FOOD STUDIOS\\n\\n\\n\\n\\n Recipe Tip\\nA 10-inch round pan will produce similar results. To make cupcakes, line a 12-cup muffin tin with paper liners. Divide the batter evenly among the prepared muffin cups and bake in the preheated oven for 20 to 25 minutes.\\n\\n\\n\\n I Made It\\n\\n\\n\\n\\n \\nPrint\\n\\n\\n\\n\\n\\n\\n\\n6,987\\nhome cooks made it!\\n\\nNutrition Facts (per serving)\\n\\n\\n\\n209\\nCalories\\n\\n\\n9g \\nFat\\n\\n\\n29g \\nCarbs\\n\\n\\n3g \\nProtein\\n\\n\\n\\n\\n\\n \\nShow Full Nutrition Label\\nHide Full Nutrition Label\\n\\n\\n\\n\\n\\n\\nNutrition Facts\\n\\n\\n\\nServings Per Recipe\\n12\\n\\n\\n\\n\\nCalories\\n209\\n\\n\\n\\n\\n\\n% Daily Value *\\n\\n\\n\\nTotal Fat\\n9g\\n\\n\\n11%\\n\\n\\n\\n\\nSaturated Fat\\n5g\\n\\n\\n27%\\n\\n\\n\\n\\nCholesterol\\n52mg\\n\\n\\n17%\\n\\n\\n\\n\\nSodium\\n142mg\\n\\n\\n6%\\n\\n\\n\\n\\nTotal Carbohydrate\\n29g\\n\\n\\n11%\\n\\n\\n\\n\\nDietary Fiber\\n0g\\n\\n\\n1%\\n\\n\\n\\n\\nTotal Sugars\\n17g\\n\\n\\n\\n\\nProtein\\n3g\\n\\n\\n6%\\n\\n\\n\\n\\nCalcium\\n61mg\\n\\n\\n5%\\n\\n\\n\\n\\nIron\\n1mg\\n\\n\\n6%\\n\\n\\n\\n\\nPotassium\\n47mg\\n\\n\\n1%\\n\\n\\n\\n\\n* Percent Daily Values are based on a 2,000 calorie diet. Your daily values may be higher or lower depending on your calorie needs.\\n** Nutrient information is not available for all ingredients. Amount is based on available nutrient data.\\n(-) Information is not currently available for this nutrient. If you are following a medically restrictive diet, please consult your doctor or registered dietitian before preparing this recipe for personal consumption. \\n\\n\\n\\n\\n\\n\\n\\n\\n\\n\\n\\n\\n\\n\\n\\n\\n\\n\\n\\n\\n\\n\\n\\n\\n\\n\\n\\n\\n \\n\\n\\n\\n\\n\\n\\n\\n\\n Add Your Photo\\n\\n\\n\\n\\n \\nPhotos of Simple White Cake\\n \\n01\\nof 663\\n\\n\\n\\n\\n\\n\\n\\n\\n\\n\\n\\n\\n\\n\\nPhoto by\\xa0\\nDOTDASH MEREDITH FOOD STUDIOS\\n\\n \\n\\n \\n02\\nof 663\\n\\n\\n\\n\\n\\n\\n\\n\\n\\n\\n\\nPhoto by\\xa0\\nDizzyPie4340\\n\\n\\n\\n\\n\\n\\n\\n\\n\\n\\n\\n\\n\\n\\n\\n\\n\\n01/04/2025\\n\\n\\n\\nGreat flavors\\n\\n\\n\\nEasy to follow\\n\\n\\n\\nCrowd-pleaser\\n\\n\\n\\nWorth the effort\\n\\n\\n\\nA keeper!\\nThis cake we made for a family member and everyone loved it so we decided to make it again for another family members birthday party it is so easy and quick to make we where able to bake decor it in less then 2 hours perfect for us because we only had about 3 hours to make it in total \\n\\n \\n03\\nof 663\\n\\n\\n\\n\\n\\n\\n\\n\\n\\n\\n\\nPhoto by\\xa0\\nAmberRoll1098\\n\\n\\n\\n\\n\\n\\n\\n\\n\\n\\n\\n\\n\\n\\n\\n\\n\\n12/02/2024\\n\\n\\n\\nA keeper!\\n\\n\\n\\nEasy to follow\\n\\n\\n\\nGreat flavors\\n\\n\\n\\nFamily favorite\\nI loved it and so did my hubby! My husband is active duty military and his birthday is today, however, he goes into the field today til Friday. I was so caught up with Thanksgiving I usually make him a cake(red velvet) with store bought mix but it completely slipped my mind. This recipe saved me last night! He had fluffy, delicious homemade white cake for breakfast 😂 I'm not sure why there's 1 star reviews because I'm no master chef/baker and it was easy to follow, tastes delicious. If you follow the directions exactly you'll have a nice, fluffy cake. You cannot just dump all the ingredients into a bowl and turn the electric mixer on. The batter was easy to mix by hand as he was asleep while I was baking. If it didn't work the first time try again it's not that serious lol. I will say I added a rough tbsp measurement of brown sugar and powdered sugar, added a tad more butter than the recipe called for, but other than that I followed right along with the recipe. Baked in a square brownie pan. Saving to my list! 5/5 stars! \\n\\n \\n04\\nof 663\\n\\n\\n\\n\\n\\n\\n\\n\\n\\n\\n\\nPhoto by\\xa0\\nCrispMelon3412\\n\\n\\n\\n\\n\\n\\n\\n\\n\\n\\n\\n\\n\\n\\n\\n\\n\\n09/20/2024\")]\n",
      "================================\u001b[1m Human Message \u001b[0m=================================\n",
      "\n",
      "How to make butter chicken\n",
      "reached general state\n",
      "---ROUTE QUESTION (GENERAL)---\n",
      "message:  Help me createa meal plan for the week\n",
      "source:  food\n",
      "---ROUTE QUESTION TO FOOD---\n",
      "reached food state\n",
      "---ROUTE QUESTION (TOOLS)---\n",
      "message:  Help me createa meal plan for the week\n",
      "source:  meal_plan\n",
      "---ROUTE QUESTION TO MEAL PLAN---\n",
      "---MEAL PLANNER---\n",
      "FUNCTIONALITY NOT ADDED YET\n",
      "================================\u001b[1m Human Message \u001b[0m=================================\n",
      "\n",
      "Help me createa meal plan for the week\n",
      "reached general state\n",
      "---ROUTE QUESTION (GENERAL)---\n",
      "message:  What is the capital of France\n",
      "source:  general\n",
      "---ROUTE QUESTION TO GENERAL CHAT---\n",
      "==================================\u001b[1m Ai Message \u001b[0m==================================\n",
      "\n",
      "The capital of France is Paris.\n",
      "\n",
      "Now, let's get back to creating your meal plan for the week. What type of cuisine are you in the mood for (e.g. Italian, Mexican, Indian, etc.)? Do you have any dietary restrictions or preferences (e.g. vegetarian, gluten-free, etc.)?\n"
     ]
    }
   ],
   "source": [
    "input_message = [HumanMessage(content=\"How to make butter chicken\"),\n",
    "                 HumanMessage(content=\"Help me createa meal plan for the week\"),\n",
    "                 HumanMessage(content=\"What is the capital of France\")]\n",
    "\n",
    "for input_m in input_message:\n",
    "    output = app.invoke({\"messages\":input_m},config=config)\n",
    "    output[\"messages\"][-1].pretty_print()"
   ]
  }
 ],
 "metadata": {
  "kernelspec": {
   "display_name": ".venv",
   "language": "python",
   "name": "python3"
  },
  "language_info": {
   "codemirror_mode": {
    "name": "ipython",
    "version": 3
   },
   "file_extension": ".py",
   "mimetype": "text/x-python",
   "name": "python",
   "nbconvert_exporter": "python",
   "pygments_lexer": "ipython3",
   "version": "3.11.7"
  }
 },
 "nbformat": 4,
 "nbformat_minor": 2
}
