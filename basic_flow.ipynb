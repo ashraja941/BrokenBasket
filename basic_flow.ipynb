{
 "cells": [
  {
   "cell_type": "markdown",
   "metadata": {},
   "source": [
    "# Handle imports"
   ]
  },
  {
   "cell_type": "code",
   "execution_count": null,
   "metadata": {},
   "outputs": [
    {
     "data": {
      "text/plain": [
       "True"
      ]
     },
     "execution_count": 40,
     "metadata": {},
     "output_type": "execute_result"
    }
   ],
   "source": [
    "from dotenv import load_dotenv\n",
    "import os\n",
    "import cassio\n",
    "from uuid import uuid4\n",
    "import numpy as np\n",
    "import pandas as pd\n",
    "import json\n",
    "import pandas as pd\n",
    "\n",
    "\n",
    "from typing import Literal,List,Annotated\n",
    "\n",
    "from langchain_core.prompts import ChatPromptTemplate,PromptTemplate\n",
    "from langchain_core.pydantic_v1 import BaseModel, Field\n",
    "from langchain_core.output_parsers import StrOutputParser\n",
    "from langchain_core.messages import AnyMessage,trim_messages,AIMessage,HumanMessage,RemoveMessage\n",
    "from langchain_core.output_parsers import StrOutputParser,JsonOutputParser\n",
    "from langchain_core.documents import Document\n",
    "\n",
    "\n",
    "from langgraph.graph import END, START, StateGraph\n",
    "from langgraph.checkpoint.memory import MemorySaver\n",
    "from langgraph.graph import add_messages\n",
    "\n",
    "from typing_extensions import TypedDict\n",
    "\n",
    "from transformers import BertTokenizer,BertModel\n",
    "\n",
    "\n",
    "load_dotenv()"
   ]
  },
  {
   "cell_type": "code",
   "execution_count": 41,
   "metadata": {},
   "outputs": [],
   "source": [
    "unique_id = uuid4().hex[0:8]\n",
    "os.environ[\"LANGCHAIN_TRACING_V2\"] = \"true\"\n",
    "os.environ[\"LANGCHAIN_PROJECT\"] = f\"Tracing Walkthrough - {unique_id}\"\n",
    "os.environ[\"LANGCHAIN_ENDPOINT\"] = \"https://api.smith.langchain.com\"\n",
    "os.environ[\"LANGCHAIN_API_KEY\"] = os.getenv('LANGCHAIN_API_KEY') # Update to your API key"
   ]
  },
  {
   "cell_type": "code",
   "execution_count": 42,
   "metadata": {},
   "outputs": [],
   "source": [
    "from langsmith import Client\n",
    "client = Client()"
   ]
  },
  {
   "cell_type": "code",
   "execution_count": null,
   "metadata": {},
   "outputs": [],
   "source": []
  },
  {
   "cell_type": "markdown",
   "metadata": {},
   "source": [
    "# Connect to the database"
   ]
  },
  {
   "cell_type": "code",
   "execution_count": 43,
   "metadata": {},
   "outputs": [],
   "source": [
    "# connection of Astra DB\n",
    "ASTRA_DB_APPLICATION_TOKEN = os.getenv(\"ASTRA_DB_APPLICATION_TOKEN\")\n",
    "ASTRA_DB_ID = os.getenv(\"ASTRA_DB_ID\")\n",
    "\n",
    "cassio.init(\n",
    "    token = ASTRA_DB_APPLICATION_TOKEN,\n",
    "    database_id = ASTRA_DB_ID\n",
    ")"
   ]
  },
  {
   "cell_type": "code",
   "execution_count": 44,
   "metadata": {},
   "outputs": [],
   "source": [
    "from langchain_huggingface import HuggingFaceEmbeddings\n",
    "embeddings = HuggingFaceEmbeddings(model_name = \"all-MiniLM-L6-v2\")"
   ]
  },
  {
   "cell_type": "code",
   "execution_count": 45,
   "metadata": {},
   "outputs": [],
   "source": [
    "from langchain.vectorstores import Cassandra\n",
    "astra_vector_store = Cassandra(embedding=embeddings,\n",
    "                               table_name = \"CNM_test_table\",\n",
    "                               session=None,\n",
    "                               keyspace=None)"
   ]
  },
  {
   "cell_type": "code",
   "execution_count": 46,
   "metadata": {},
   "outputs": [
    {
     "data": {
      "text/plain": [
       "[Document(id='f221c87e5852447eaca5168f2e4349be', metadata={'description': 'These are THE BEST soft chocolate chip cookies! No chilling required. Just ultra thick, soft, classic chocolate chip cookies!', 'language': 'en-US', 'source': 'https://pinchofyum.com/the-best-soft-chocolate-chip-cookies/print/39213', 'title': 'The Best Soft Chocolate Chip Cookies Recipe - Pinch of Yum'}, page_content='Keywords: chocolate chip cookies, best chocolate chip cookies, soft chocolate chip cookies, easy cookie recipe, small batch cookies\\n\\n\\n\\n\\n\\nDid you make this recipe?\\nTag\\xa0@pinchofyum\\xa0on Instagram so we can admire your masterpiece!\\xa0🌟\\n\\n\\n\\n\\n\\n\\nFind it online: https://pinchofyum.com/the-best-soft-chocolate-chip-cookies'),\n",
       " Document(id='3af43e5c1fe84cd6a2ed6f96cd82bb7b', metadata={'description': 'These are THE BEST soft chocolate chip cookies! No chilling required. Just ultra thick, soft, classic chocolate chip cookies!', 'language': 'en-US', 'source': 'https://pinchofyum.com/the-best-soft-chocolate-chip-cookies/print/39213', 'title': 'The Best Soft Chocolate Chip Cookies Recipe - Pinch of Yum'}, page_content='The Best Soft Chocolate Chip Cookies Recipe - Pinch of Yum\\n\\n\\n\\n\\n\\n\\n\\n\\n\\n\\n\\n\\nThe Best Soft Chocolate Chip Cookies Recipe - Pinch of Yum\\n\\n\\n\\n\\n\\n\\n\\n\\n\\n\\n\\n\\n\\n\\n\\n\\n\\n\\n\\n\\n\\n\\n\\n\\n\\n\\n\\n\\n\\n\\n\\n\\n\\n\\n\\n\\n\\n\\n\\n\\n\\n\\n \\n\\n\\n\\n\\n\\n\\n\\n\\n\\n\\n\\n\\n\\n\\n\\n\\n\\n\\n\\n\\n\\n\\n\\n\\n\\n\\n\\n\\n\\n\\n\\n\\n\\n\\n\\n\\n\\n\\n\\n\\n\\n\\n\\n\\n\\n\\n\\n\\n\\n\\n\\n\\nPrint\\nclock clock iconcutlery cutlery iconflag flag iconfolder folder iconinstagram instagram iconpinterest pinterest iconfacebook facebook iconprint print iconsquares squares iconheart heart iconheart solid heart solid icon\\n\\n\\n \\nThe Best Soft Chocolate Chip Cookies\\n\\n\\n                                                 \\t\\t\\t\\t5 Stars\\t\\t\\t        \\t\\t\\t\\t4 Stars\\t\\t\\t        \\t\\t\\t\\t3 Stars\\t\\t\\t        \\t\\t\\t\\t2 Stars\\t\\t\\t        \\t\\t\\t\\t1 Star\\t\\t\\t  \\n4.5 from 1863 reviews\\n\\n\\n\\n\\n\\t\\t\\t\\t\\t\\t\\t\\t\\t\\t\\t\\t\\t\\tAuthor: Pinch of Yum \\n\\n\\n\\t\\t\\t\\t\\t\\t\\t\\t\\t\\t\\t\\t\\t\\t\\t\\tTotal Time: 20 minutes \\n\\n\\n\\t\\t\\t\\t\\t\\t\\t\\t\\t\\t\\t\\t\\t\\t\\t\\tYield: 12 cookies 1x \\n\\n\\n\\n\\n\\nDescription\\n\\nThese are THE BEST soft chocolate chip cookies! No chilling required. Just ultra thick, soft, classic chocolate chip cookies!\\n\\n\\n\\n\\n\\n\\nIngredients\\n\\n\\n\\nUnits\\nUSM \\n\\nScale\\n1/2x1x2x \\n\\n\\n\\n\\n8 tablespoons of salted butter\\n1/2 cup white sugar (I like to use raw cane sugar with a coarser texture)\\n1/4 cup packed light brown sugar\\n1 teaspoon vanilla\\n1 egg\\n1 1/2 cups all purpose flour (6.75 ounces)\\n1/2 teaspoon baking soda\\n1/4 teaspoon salt (but I always add a little extra)\\n3/4 cup chocolate chips (I use a combination of chocolate chips and chocolate chunks)\\n\\n \\n\\n\\n\\n\\n\\n\\n\\nCook Mode\\n\\n\\t\\t\\t\\tPrevent your screen from going dark\\t\\t\\t\\n\\n\\n\\n\\n\\n\\n\\nInstructions\\n\\n\\n\\nPreheat the oven to 350 degrees. Microwave the butter for about 40 seconds to just barely melt it. It shouldn’t be hot – but it should be almost entirely in liquid form.\\nUsing a stand mixer or electric beaters, beat the butter with the sugars until creamy. Add the vanilla and the egg; beat on low speed until just incorporated – 10-15 seconds or so (if you beat the egg for too long, the cookies will be stiff).\\nAdd the flour, baking soda, and salt. Mix until crumbles form. Use your hands to press the crumbles together into a dough. It should form one large ball that is easy to handle (right at the stage between “wet” dough and “dry” dough). Add the chocolate chips and incorporate with your hands.\\nRoll the dough into 12 large balls (or 9 for HUGELY awesome cookies) and place on a cookie sheet. Bake for 9-11 minutes until the cookies look puffy and dry and just barely golden. Warning, friends: DO NOT OVERBAKE. This advice is probably written on every cookie recipe everywhere, but this is essential for keeping the cookies soft. Take them out even if they look like they’re not done yet (see picture in the post). They’ll be pale and puffy.\\nLet them cool on the pan for a good 30 minutes or so (I mean, okay, eat four or five but then let the rest of them cool). They will sink down and turn into these dense, buttery, soft cookies that are the best in all the land. These should stay soft for many days if kept in an airtight container. I also like to freeze them.\\n\\n\\n\\n\\nEquipment\\n\\nSpatula\\nBuy Now → \\n\\nNonstick Sheet Pan\\nBuy Now → \\n\\nMixing Bowl\\nBuy Now → \\nThe equipment section may contain affiliate links to products we know and love. \\n\\n\\nPrep Time: 10 minsCook Time: 10 minsCategory: DessertMethod: BakeCuisine: American')]"
      ]
     },
     "execution_count": 46,
     "metadata": {},
     "output_type": "execute_result"
    }
   ],
   "source": [
    "recipe_retriever = astra_vector_store.as_retriever(    \n",
    "                                                search_type=\"similarity_score_threshold\",\n",
    "                                                search_kwargs={\"k\": 2, \"score_threshold\": 0.8},\n",
    "                                                )   \n",
    "recipe_retriever.invoke(\"Give me a cookie recipe\")"
   ]
  },
  {
   "cell_type": "code",
   "execution_count": 47,
   "metadata": {},
   "outputs": [],
   "source": [
    "# ingredients_db = pd.read_csv(\"database/food_with_embeddings.csv\")"
   ]
  },
  {
   "cell_type": "markdown",
   "metadata": {},
   "source": [
    "# Langgraph"
   ]
  },
  {
   "cell_type": "markdown",
   "metadata": {},
   "source": [
    "### Datamodel"
   ]
  },
  {
   "cell_type": "code",
   "execution_count": 48,
   "metadata": {},
   "outputs": [],
   "source": [
    "class GeneralRouteQuery(BaseModel):\n",
    "    \"\"\" Route a user query to the most relavent datasource \"\"\"\n",
    "    datasource: Literal[\"food\",\"general\"] = Field(\n",
    "        ...,\n",
    "        description=\"Given a user question choose to route it to general chat or a food\"\n",
    "    )\n",
    "\n",
    "class ToolRouteQuery(BaseModel):\n",
    "    \"\"\" Route a user query to the most relavent datasource \"\"\"\n",
    "    datasource: Literal[\"meal_plan\",\"recipe\"] = Field(\n",
    "        ...,\n",
    "        description=\"Given a user question choose to route it to meal_plan or recipe\"\n",
    "    )\n",
    "\n",
    "class GraphState(TypedDict):\n",
    "    \"\"\"\n",
    "    Represents the state of our graph.\n",
    "\n",
    "    Attributes:\n",
    "        messages: recent message history\n",
    "        preferences: uses' food preferences\n",
    "        documents: list of documents\n",
    "        calorie_goal: user's calorie goal\n",
    "    \"\"\"\n",
    "    messages: Annotated[list[AnyMessage], add_messages]\n",
    "    documents: List[str]\n",
    "    preferences: str\n",
    "    calorie_goal: int\n",
    "    meal_plan: dict\n",
    "    redo: str\n",
    "    current_calories : int"
   ]
  },
  {
   "cell_type": "markdown",
   "metadata": {},
   "source": [
    "### LLM links"
   ]
  },
  {
   "cell_type": "code",
   "execution_count": 49,
   "metadata": {},
   "outputs": [],
   "source": [
    "from langchain_groq import ChatGroq\n",
    "# from google.colab import userdata\n",
    "import os\n",
    "groq_api_key = os.getenv('groq_api_key')\n",
    "# print(groq_api_key)"
   ]
  },
  {
   "cell_type": "code",
   "execution_count": 50,
   "metadata": {},
   "outputs": [],
   "source": [
    "llm=ChatGroq(groq_api_key=groq_api_key,model_name='Llama-3.3-70b-Versatile')\n",
    "chat_llm = ChatGroq(groq_api_key=groq_api_key,model_name='Llama-3.3-70b-Versatile')\n",
    "\n",
    "structured_llm_general_router=llm.with_structured_output(GeneralRouteQuery)\n",
    "structured_llm_tool_router=llm.with_structured_output(ToolRouteQuery)\n"
   ]
  },
  {
   "cell_type": "markdown",
   "metadata": {},
   "source": [
    "### Prompts"
   ]
  },
  {
   "cell_type": "code",
   "execution_count": 51,
   "metadata": {},
   "outputs": [
    {
     "name": "stdout",
     "output_type": "stream",
     "text": [
      "datasource='general'\n",
      "datasource='food'\n"
     ]
    }
   ],
   "source": [
    "# General router Prompt\n",
    "system = \"\"\"You are an expert at routing a user question to a food or general.\n",
    "The food can tools to take care of meal planning, recipe finding and creation.\n",
    "Use the food for questions on these topics. Otherwise, use general.\"\"\"\n",
    "\n",
    "route_prompt = ChatPromptTemplate.from_messages(\n",
    "    [\n",
    "        (\"system\", system),\n",
    "        (\"human\", \"{messages}\"),\n",
    "    ]\n",
    ")\n",
    "\n",
    "general_router = route_prompt | structured_llm_general_router\n",
    "\n",
    "print(general_router.invoke({\"messages\": \"what is stardew Valley\"}))\n",
    "print(general_router.invoke({\"messages\": \"How to make a sweet dessert\"}))"
   ]
  },
  {
   "cell_type": "code",
   "execution_count": 52,
   "metadata": {},
   "outputs": [
    {
     "name": "stdout",
     "output_type": "stream",
     "text": [
      "datasource='recipe'\n",
      "datasource='meal_plan'\n"
     ]
    }
   ],
   "source": [
    "# tool router Prompt\n",
    "system = \"\"\"\n",
    "You are an expert at routing a user message to a meal_plan or recipe.\n",
    "the meal_plan has access to tools to generate a meal plan for your weight goals.\n",
    "Use the meal_plan for questions on these topics. \n",
    "If the message has to do with finding or modifying a recipe, use recipe.\n",
    "\"\"\"\n",
    "\n",
    "route_prompt = ChatPromptTemplate.from_messages(\n",
    "    [\n",
    "        (\"system\", system),\n",
    "        (\"human\", \"{messages}\"),\n",
    "    ]\n",
    ")\n",
    "\n",
    "tool_router = route_prompt | structured_llm_tool_router\n",
    "\n",
    "print(tool_router.invoke({\"messages\": \"how to make butter chicken\"}))\n",
    "print(tool_router.invoke({\"messages\": \"help me plan the food for the week\"}))"
   ]
  },
  {
   "cell_type": "code",
   "execution_count": 53,
   "metadata": {},
   "outputs": [],
   "source": [
    "# General Chat Prompt\n",
    "system = \"\"\"You are a helpful health coach that answers questions to the best of your ability.\n",
    "Here is the information you have about the user:\n",
    "preferences: {preferences} \n",
    "calorie_goal: {calorie_goal}\n",
    "meal_plan: {meal_plan}\n",
    "\"\"\"\n",
    "general_chat_prompt = ChatPromptTemplate.from_messages(\n",
    "    [\n",
    "        (\"system\", system),\n",
    "        (\"human\", \"{messages}\"),\n",
    "    ]\n",
    ")\n",
    "\n",
    "general_chat = general_chat_prompt | chat_llm"
   ]
  },
  {
   "cell_type": "code",
   "execution_count": 54,
   "metadata": {},
   "outputs": [],
   "source": [
    "system = \"\"\"\" \n",
    "You are an expert at generating a meal plan based on a user's input such as calorie goal and food preferences.\n",
    "The user's preferences are : {preferences}\n",
    "The user's calorie goal for the day : {calorie_goal}\n",
    "\n",
    "You are to take reference from the documents provided below : {documents}\n",
    "\n",
    "You are to generate a meal plan for a day include 3 meals. The meal plan should be a JSON in the following format:\n",
    "\n",
    "\"butter chicken\" : [[500,\"chicken\"],[100, \"spices\"],[50, \"onion\"]],\n",
    "\"coffee\" : [[10,\"coffee\"],[20,\"milk\"]],\n",
    "...\n",
    "\n",
    "Please write 3 recipes only. For each recipe for the key write the name of the dish The contents of each recipe should be the list of ingredients used to make the recipe and the quantity.\n",
    "It does not matter for breakfast, lunch and dinner, just output 3 meals pertaining to the calorie goals from the documents provided.\n",
    "\n",
    "where the key is the name of the meal and the value is a list of lists where each list is of the form [quantity,ingredient].\n",
    "Quantity should ONLY BE in grams\n",
    "\n",
    "Return the meal plan as a JSON, DO NOT return any other text.\n",
    "Make it so that the output is in 1 line.\n",
    "DO not write any text before or after the brackets\n",
    "\"\"\"\n",
    "\n",
    "generate_meal_plan_prompt = ChatPromptTemplate.from_messages(\n",
    "    [\n",
    "        (\"system\", system),\n",
    "        # (\"human\", \"{messages}\"),\n",
    "    ]\n",
    ")\n",
    "\n",
    "generate_meal_plan = generate_meal_plan_prompt | llm | JsonOutputParser()\n",
    "\n",
    "# temp_mp = generate_meal_plan.invoke({\"preferences\": \"desserts\", \"calorie_goal\": 2000, \"documents\": temp_docs})\n",
    "\n",
    "# print(temp_mp)\n",
    "\n",
    "# print(output_json)"
   ]
  },
  {
   "cell_type": "code",
   "execution_count": 55,
   "metadata": {},
   "outputs": [],
   "source": [
    "system = \"\"\"\" \n",
    "You are an expert at generating a recipe based on a user's input such as calorie goal and food preferences.\n",
    "The user's preferences are : {preferences}\n",
    "Use the information from the following documents to generate the recipe: {documents}\n",
    "\"\"\"\n",
    "generate_recipe_prompt = ChatPromptTemplate.from_messages(\n",
    "    [\n",
    "        (\"system\", system),\n",
    "        (\"human\", \"{messages}\"),\n",
    "    ]\n",
    ")\n",
    "\n",
    "generate_recipe = generate_recipe_prompt | llm"
   ]
  },
  {
   "cell_type": "markdown",
   "metadata": {},
   "source": [
    "### Helper functions"
   ]
  },
  {
   "cell_type": "code",
   "execution_count": null,
   "metadata": {},
   "outputs": [],
   "source": [
    "def cosine(a,b):\n",
    "    a = a.reshape(-1)  # Reshape to (768,)\n",
    "    b = b.reshape(-1)\n",
    "    # if a == 0 or b == 0:\n",
    "    #     return 0\n",
    "    return np.dot(a,b)/(np.linalg.norm(a)*np.linalg.norm(b))"
   ]
  },
  {
   "cell_type": "code",
   "execution_count": null,
   "metadata": {},
   "outputs": [],
   "source": [
    "# Load pre-trained BERT model and tokenizer\n",
    "model_name = 'bert-base-uncased'\n",
    "tokenizer = BertTokenizer.from_pretrained(model_name)\n",
    "model = BertModel.from_pretrained(model_name)\n",
    "\n",
    "# Function to get BERT embeddings\n",
    "def get_bert_embeddings(text):\n",
    "    inputs = tokenizer(text, return_tensors=\"pt\", padding=True, truncation=True, max_length=50)\n",
    "    outputs = model(**inputs)\n",
    "    embeddings = outputs.last_hidden_state[:, 0, :].detach().numpy()\n",
    "    return embeddings"
   ]
  },
  {
   "cell_type": "markdown",
   "metadata": {},
   "source": [
    "### nodes"
   ]
  },
  {
   "cell_type": "code",
   "execution_count": 57,
   "metadata": {},
   "outputs": [],
   "source": [
    "def trim(state):\n",
    "    # response = trim_messages(\n",
    "    #     state[\"messages\"],\n",
    "    #     strategy=\"last\",\n",
    "    #     token_counter=len, # each message will be counted as 1 token\n",
    "    #     max_tokens=1,\n",
    "    #     start_on=\"human\",\n",
    "    #     end_on=(\"human\", \"tool\"),\n",
    "    #     include_system=True,\n",
    "    # )\n",
    "    if len(state['messages']) > 2:\n",
    "        delete_messages = [RemoveMessage(id=m.id) for m in state['messages'][:-2]]\n",
    "        return {\"messages\": delete_messages}\n",
    "    else:\n",
    "        return {\"messages\": state['messages']}"
   ]
  },
  {
   "cell_type": "code",
   "execution_count": 58,
   "metadata": {},
   "outputs": [],
   "source": [
    "def general_chat_bot(state):\n",
    "    response = general_chat.invoke({\"messages\": state[\"messages\"], \"preferences\": state[\"preferences\"], \"calorie_goal\": state[\"calorie_goal\"], \"meal_plan\": state[\"meal_plan\"]})\n",
    "    # response = chat_llm.invoke(state[\"messages\"])\n",
    "    return {\"messages\": response}"
   ]
  },
  {
   "cell_type": "code",
   "execution_count": 59,
   "metadata": {},
   "outputs": [],
   "source": [
    "def retrieve_recipes(state):\n",
    "    \"\"\"\n",
    "    Retrieve documents\n",
    "\n",
    "    Args:\n",
    "        state (dict): The current graph state\n",
    "\n",
    "    Returns:\n",
    "        state (dict): New key added to state, documents, that contains retrieved documents\n",
    "    \"\"\"\n",
    "    print(\"---RETRIEVE---\")\n",
    "    print(\"retrieved using the prompt: \",state[\"messages\"][-1].content)\n",
    "    \n",
    "    response = recipe_retriever.invoke(state[\"messages\"][-1].content)\n",
    "    # print(\"retrieved: \",response)\n",
    "    return {\"documents\": response}"
   ]
  },
  {
   "cell_type": "code",
   "execution_count": null,
   "metadata": {},
   "outputs": [],
   "source": [
    "def recipe_generator(state):\n",
    "    \n",
    "    \"\"\"\n",
    "    Generate a recipe\n",
    "\n",
    "    Args:\n",
    "        state (dict): The current graph state\n",
    "\n",
    "    Returns:\n",
    "        state (dict): New key added to state, documents, that contains retrieved documents\n",
    "    \"\"\"\n",
    "    print(\"---GENERATE RECIPE---\")\n",
    "\n",
    "    response = generate_recipe.invoke({\"messages\": state[\"messages\"], \"preferences\": state[\"preferences\"], \"documents\": state[\"documents\"]})\n",
    "    return {\"messages\": response}"
   ]
  },
  {
   "cell_type": "code",
   "execution_count": 61,
   "metadata": {},
   "outputs": [],
   "source": [
    "def general_route(state):\n",
    "    \"\"\"\n",
    "    Route question to general or food.\n",
    "\n",
    "    Args:\n",
    "        state (dict): The current graph state\n",
    "\n",
    "    Returns:\n",
    "        str: Next node to call\n",
    "    \"\"\"\n",
    "\n",
    "    print(\"---ROUTE QUESTION (GENERAL)---\")\n",
    "    message = state[\"messages\"][-1].content\n",
    "    # print(\"message: \",message)\n",
    "    \n",
    "    source = general_router.invoke({\"messages\": message})\n",
    "    # print(\"source: \",source.datasource)\n",
    "    if source.datasource == \"general\":\n",
    "        print(\"---ROUTE QUESTION TO GENERAL CHAT---\")\n",
    "        return \"general_chat_route\"\n",
    "    elif source.datasource == \"food\":\n",
    "        print(\"---ROUTE QUESTION TO FOOD---\")\n",
    "        return \"food_route\"\n",
    "    else:\n",
    "        raise ValueError(f\"Unknown datasource: {source.datasource}\")"
   ]
  },
  {
   "cell_type": "code",
   "execution_count": 62,
   "metadata": {},
   "outputs": [],
   "source": [
    "def tool_route(state):\n",
    "    \"\"\"\n",
    "    Route question to general or food.\n",
    "\n",
    "    Args:\n",
    "        state (dict): The current graph state\n",
    "\n",
    "    Returns:\n",
    "        str: Next node to call\n",
    "    \"\"\"\n",
    "\n",
    "    print(\"---ROUTE QUESTION (TOOLS)---\")\n",
    "    message = state[\"messages\"][-1].content\n",
    "    # print(\"message: \",message)\n",
    "    \n",
    "    source = tool_router.invoke({\"messages\": message})\n",
    "    # print(\"source: \",source.datasource)\n",
    "    if source.datasource == \"meal_plan\":\n",
    "        print(\"---ROUTE QUESTION TO MEAL PLAN---\")\n",
    "        return \"meal_plan_route\"\n",
    "    elif source.datasource == \"recipe\":\n",
    "        print(\"---ROUTE QUESTION TO RECIPE---\")\n",
    "        return \"recipe_route\"\n",
    "    else:\n",
    "        raise ValueError(f\"Unknown datasource: {source.datasource}\")"
   ]
  },
  {
   "cell_type": "code",
   "execution_count": 63,
   "metadata": {},
   "outputs": [],
   "source": [
    "def meal_plan_retriever(state):\n",
    "    \"\"\"\"\n",
    "    Create a meal plan\n",
    "    Args:\n",
    "        state (dict): The current graph state\n",
    "\n",
    "    Returns:\n",
    "        state (dict): The current graph state with the meal plan added\n",
    "    \n",
    "    \"\"\"\n",
    "    print(\"---MEAL PLANNER RETRIEVER---\")\n",
    "    documents = recipe_retriever.invoke(state[\"preferences\"])\n",
    "    return ({\"documents\": documents})"
   ]
  },
  {
   "cell_type": "code",
   "execution_count": 64,
   "metadata": {},
   "outputs": [],
   "source": [
    "def meal_plan_generator(state):\n",
    "    \"\"\"\"\n",
    "    Create a meal plan\n",
    "    Args:\n",
    "        state (dict): The current graph state\n",
    "\n",
    "    Returns:\n",
    "        state (dict): The current graph state with the meal plan added\n",
    "    \n",
    "    \"\"\"\n",
    "    print(\"---MEAL PLANNER GENERATOR---\")  \n",
    "    try: \n",
    "        meal_plan = generate_meal_plan.invoke({\"preferences\": state[\"preferences\"], \"calorie_goal\": state[\"calorie_goal\"], \"documents\": state[\"documents\"]})\n",
    "    except:\n",
    "        print(\"---MEAL PLANNER GENERATOR FAILED---\")\n",
    "        print(\"TRY AGAIN\")\n",
    "\n",
    "    return ({\"meal_plan\": meal_plan})"
   ]
  },
  {
   "cell_type": "code",
   "execution_count": 65,
   "metadata": {},
   "outputs": [],
   "source": [
    "def general(state):\n",
    "    print(\"reached general state\")\n",
    "    return state\n",
    "\n",
    "def food(state):\n",
    "    print(\"reached food state\")\n",
    "    return state"
   ]
  },
  {
   "cell_type": "code",
   "execution_count": null,
   "metadata": {},
   "outputs": [],
   "source": [
    "def meal_plan_checker(state):\n",
    "    print(\"---CREATE MEAL PLAN---\")\n",
    "    meal_plan = state['meal_plan']\n",
    "    current_calories = 0\n",
    "    calorie_goal = 2000\n",
    "\n",
    "    for dish in meal_plan:\n",
    "        for grams, ingredient in meal_plan[dish]:\n",
    "            # vectorize ingredient\n",
    "            # print(ingredient)\n",
    "            encoded_input = get_bert_embeddings(ingredient)\n",
    "            # compare to db\n",
    "            most_similar = (0,\"\")\n",
    "            for index,item in enumerate(ingredients_db['embedding']):\n",
    "                if cosine(item,encoded_input) > most_similar[0]:\n",
    "                    most_similar = (cosine(item,encoded_input),index)\n",
    "\n",
    "            # calculate calories\n",
    "            current_calories += grams * ingredients_db['Data.Carbohydrate'][most_similar[1]]\n",
    "\n",
    "    print(current_calories)\n",
    "    if current_calories > calorie_goal:\n",
    "        return {\"redo\": True}\n",
    "    else:\n",
    "        return {\"redo\": False, \"current_calories\": current_calories}\n"
   ]
  },
  {
   "cell_type": "code",
   "execution_count": 67,
   "metadata": {},
   "outputs": [],
   "source": [
    "def redo_meal_plan(state):\n",
    "    redo = state['redo']\n",
    "    if redo:\n",
    "        return \"redo_meal_plan\"\n",
    "    else:\n",
    "        return \"continue\""
   ]
  },
  {
   "cell_type": "code",
   "execution_count": 68,
   "metadata": {},
   "outputs": [],
   "source": [
    "def display_meal_plan(state):\n",
    "    print(\"---DISPLAY MEAL PLAN---\")\n",
    "    print(\"meal plan: \",state['meal_plan'])\n",
    "    print(\"current calories: \",state['current_calories'])\n",
    "    return state"
   ]
  },
  {
   "cell_type": "markdown",
   "metadata": {},
   "source": [
    "### Graph creation"
   ]
  },
  {
   "cell_type": "code",
   "execution_count": 79,
   "metadata": {},
   "outputs": [],
   "source": [
    "workflow = StateGraph(GraphState)\n",
    "\n",
    "workflow.add_node(\"trim\", trim)\n",
    "workflow.add_node(\"general_router\", general)\n",
    "workflow.add_node(\"general_chat_bot\", general_chat_bot)\n",
    "workflow.add_node(\"tool_router\", food)\n",
    "workflow.add_node(\"retrieve_recipes\", retrieve_recipes)\n",
    "workflow.add_node(\"meal_plan_retriever\", meal_plan_retriever)\n",
    "workflow.add_node(\"generate_meal_plan\", meal_plan_generator)\n",
    "workflow.add_node(\"check_meal_plan\", meal_plan_checker)\n",
    "# workflow.add_node(\"redo_meal_plan_router\", redo_meal_plan)\n",
    "workflow.add_node(\"display_meal_plan\", display_meal_plan)\n",
    "workflow.add_node(\"generate_recipe\", recipe_generator)\n",
    "\n",
    "workflow.add_edge(START, \"trim\")\n",
    "workflow.add_edge(\"trim\", \"general_router\")\n",
    "workflow.add_conditional_edges(\n",
    "    \"general_router\",\n",
    "    general_route,\n",
    "    {\n",
    "        \"general_chat_route\": \"general_chat_bot\",\n",
    "        \"food_route\": \"tool_router\",\n",
    "    },\n",
    ")\n",
    "workflow.add_conditional_edges(\n",
    "    \"tool_router\",\n",
    "    tool_route,\n",
    "    {\n",
    "        \"meal_plan_route\": \"meal_plan_retriever\",\n",
    "        \"recipe_route\": \"retrieve_recipes\",\n",
    "    },\n",
    ")\n",
    "workflow.add_edge(\"meal_plan_retriever\", \"generate_meal_plan\")\n",
    "workflow.add_edge(\"generate_meal_plan\", \"check_meal_plan\")\n",
    "\n",
    "workflow.add_conditional_edges(\n",
    "    \"check_meal_plan\",\n",
    "    redo_meal_plan,\n",
    "    {\n",
    "        \"redo_meal_plan\": \"generate_meal_plan\",\n",
    "        \"continue\": \"display_meal_plan\",\n",
    "    },\n",
    ")\n",
    "workflow.add_edge(\"display_meal_plan\", END)\n",
    "workflow.add_edge(\"general_chat_bot\", END)\n",
    "workflow.add_edge(\"retrieve_recipes\", \"generate_recipe\")\n",
    "workflow.add_edge(\"generate_recipe\", END)\n",
    "# workflow.add_edge(\"meal_plan\", END)\n",
    "\n",
    "memory = MemorySaver()\n",
    "app = workflow.compile(checkpointer = memory)"
   ]
  },
  {
   "cell_type": "code",
   "execution_count": 80,
   "metadata": {},
   "outputs": [
    {
     "data": {
      "image/png": "[encoded data removed]",
      "text/plain": [
       "<IPython.core.display.Image object>"
      ]
     },
     "metadata": {},
     "output_type": "display_data"
    }
   ],
   "source": [
    "from IPython.display import Image, display\n",
    "\n",
    "try:\n",
    "    display(Image(app.get_graph().draw_mermaid_png()))\n",
    "except Exception:\n",
    "    # This requires some extra dependencies and is optional\n",
    "    pass"
   ]
  },
  {
   "cell_type": "markdown",
   "metadata": {},
   "source": [
    "### Chat and testing"
   ]
  },
  {
   "cell_type": "code",
   "execution_count": 71,
   "metadata": {},
   "outputs": [],
   "source": [
    "config = {\"configurable\": {\"thread_id\": \"1\"}}"
   ]
  },
  {
   "cell_type": "code",
   "execution_count": 72,
   "metadata": {},
   "outputs": [],
   "source": [
    "# input_message = [HumanMessage(content=\"Hey\")]\n",
    "# output = app.invoke({\"messages\":input_message},config=config)\n",
    "# output[\"messages\"][-1].pretty_print()"
   ]
  },
  {
   "cell_type": "code",
   "execution_count": 73,
   "metadata": {},
   "outputs": [
    {
     "name": "stdout",
     "output_type": "stream",
     "text": [
      "reached general state\n",
      "---ROUTE QUESTION (GENERAL)---\n",
      "---ROUTE QUESTION TO FOOD---\n",
      "reached food state\n",
      "---ROUTE QUESTION (TOOLS)---\n"
     ]
    },
    {
     "name": "stderr",
     "output_type": "stream",
     "text": [
      "No relevant docs were retrieved using the relevance score threshold 0.8\n"
     ]
    },
    {
     "name": "stdout",
     "output_type": "stream",
     "text": [
      "---ROUTE QUESTION TO RECIPE---\n",
      "---RETRIEVE---\n",
      "retrieved using the prompt:  How to make butter chicken\n",
      "---GENERATE RECIPE---\n"
     ]
    },
    {
     "ename": "KeyError",
     "evalue": "'preferences'",
     "output_type": "error",
     "traceback": [
      "\u001b[31m---------------------------------------------------------------------------\u001b[39m",
      "\u001b[31mKeyError\u001b[39m                                  Traceback (most recent call last)",
      "\u001b[36mCell\u001b[39m\u001b[36m \u001b[39m\u001b[32mIn[73]\u001b[39m\u001b[32m, line 6\u001b[39m\n\u001b[32m      1\u001b[39m input_message = [HumanMessage(content=\u001b[33m\"\u001b[39m\u001b[33mHow to make butter chicken\u001b[39m\u001b[33m\"\u001b[39m),\n\u001b[32m      2\u001b[39m                  HumanMessage(content=\u001b[33m\"\u001b[39m\u001b[33mHelp me createa meal plan for the week\u001b[39m\u001b[33m\"\u001b[39m),\n\u001b[32m      3\u001b[39m                  HumanMessage(content=\u001b[33m\"\u001b[39m\u001b[33mWhat is the capital of France\u001b[39m\u001b[33m\"\u001b[39m)]\n\u001b[32m      5\u001b[39m \u001b[38;5;28;01mfor\u001b[39;00m input_m \u001b[38;5;129;01min\u001b[39;00m input_message:\n\u001b[32m----> \u001b[39m\u001b[32m6\u001b[39m     output = \u001b[43mapp\u001b[49m\u001b[43m.\u001b[49m\u001b[43minvoke\u001b[49m\u001b[43m(\u001b[49m\u001b[43m{\u001b[49m\u001b[33;43m\"\u001b[39;49m\u001b[33;43mmessages\u001b[39;49m\u001b[33;43m\"\u001b[39;49m\u001b[43m:\u001b[49m\u001b[43minput_m\u001b[49m\u001b[43m}\u001b[49m\u001b[43m,\u001b[49m\u001b[43mconfig\u001b[49m\u001b[43m=\u001b[49m\u001b[43mconfig\u001b[49m\u001b[43m)\u001b[49m\n\u001b[32m      7\u001b[39m     output[\u001b[33m\"\u001b[39m\u001b[33mmessages\u001b[39m\u001b[33m\"\u001b[39m][-\u001b[32m1\u001b[39m].pretty_print()\n",
      "\u001b[36mFile \u001b[39m\u001b[32md:\\TAMU\\SEM 4\\CNM\\BrokenBasket\\.venv\\Lib\\site-packages\\langgraph\\pregel\\__init__.py:2669\u001b[39m, in \u001b[36mPregel.invoke\u001b[39m\u001b[34m(self, input, config, stream_mode, output_keys, interrupt_before, interrupt_after, debug, **kwargs)\u001b[39m\n\u001b[32m   2667\u001b[39m \u001b[38;5;28;01melse\u001b[39;00m:\n\u001b[32m   2668\u001b[39m     chunks = []\n\u001b[32m-> \u001b[39m\u001b[32m2669\u001b[39m \u001b[43m\u001b[49m\u001b[38;5;28;43;01mfor\u001b[39;49;00m\u001b[43m \u001b[49m\u001b[43mchunk\u001b[49m\u001b[43m \u001b[49m\u001b[38;5;129;43;01min\u001b[39;49;00m\u001b[43m \u001b[49m\u001b[38;5;28;43mself\u001b[39;49m\u001b[43m.\u001b[49m\u001b[43mstream\u001b[49m\u001b[43m(\u001b[49m\n\u001b[32m   2670\u001b[39m \u001b[43m    \u001b[49m\u001b[38;5;28;43minput\u001b[39;49m\u001b[43m,\u001b[49m\n\u001b[32m   2671\u001b[39m \u001b[43m    \u001b[49m\u001b[43mconfig\u001b[49m\u001b[43m,\u001b[49m\n\u001b[32m   2672\u001b[39m \u001b[43m    \u001b[49m\u001b[43mstream_mode\u001b[49m\u001b[43m=\u001b[49m\u001b[43mstream_mode\u001b[49m\u001b[43m,\u001b[49m\n\u001b[32m   2673\u001b[39m \u001b[43m    \u001b[49m\u001b[43moutput_keys\u001b[49m\u001b[43m=\u001b[49m\u001b[43moutput_keys\u001b[49m\u001b[43m,\u001b[49m\n\u001b[32m   2674\u001b[39m \u001b[43m    \u001b[49m\u001b[43minterrupt_before\u001b[49m\u001b[43m=\u001b[49m\u001b[43minterrupt_before\u001b[49m\u001b[43m,\u001b[49m\n\u001b[32m   2675\u001b[39m \u001b[43m    \u001b[49m\u001b[43minterrupt_after\u001b[49m\u001b[43m=\u001b[49m\u001b[43minterrupt_after\u001b[49m\u001b[43m,\u001b[49m\n\u001b[32m   2676\u001b[39m \u001b[43m    \u001b[49m\u001b[43mdebug\u001b[49m\u001b[43m=\u001b[49m\u001b[43mdebug\u001b[49m\u001b[43m,\u001b[49m\n\u001b[32m   2677\u001b[39m \u001b[43m    \u001b[49m\u001b[43m*\u001b[49m\u001b[43m*\u001b[49m\u001b[43mkwargs\u001b[49m\u001b[43m,\u001b[49m\n\u001b[32m   2678\u001b[39m \u001b[43m\u001b[49m\u001b[43m)\u001b[49m\u001b[43m:\u001b[49m\n\u001b[32m   2679\u001b[39m \u001b[43m    \u001b[49m\u001b[38;5;28;43;01mif\u001b[39;49;00m\u001b[43m \u001b[49m\u001b[43mstream_mode\u001b[49m\u001b[43m \u001b[49m\u001b[43m==\u001b[49m\u001b[43m \u001b[49m\u001b[33;43m\"\u001b[39;49m\u001b[33;43mvalues\u001b[39;49m\u001b[33;43m\"\u001b[39;49m\u001b[43m:\u001b[49m\n\u001b[32m   2680\u001b[39m \u001b[43m        \u001b[49m\u001b[43mlatest\u001b[49m\u001b[43m \u001b[49m\u001b[43m=\u001b[49m\u001b[43m \u001b[49m\u001b[43mchunk\u001b[49m\n",
      "\u001b[36mFile \u001b[39m\u001b[32md:\\TAMU\\SEM 4\\CNM\\BrokenBasket\\.venv\\Lib\\site-packages\\langgraph\\pregel\\__init__.py:2323\u001b[39m, in \u001b[36mPregel.stream\u001b[39m\u001b[34m(self, input, config, stream_mode, output_keys, interrupt_before, interrupt_after, debug, subgraphs)\u001b[39m\n\u001b[32m   2317\u001b[39m     \u001b[38;5;66;03m# Similarly to Bulk Synchronous Parallel / Pregel model\u001b[39;00m\n\u001b[32m   2318\u001b[39m     \u001b[38;5;66;03m# computation proceeds in steps, while there are channel updates.\u001b[39;00m\n\u001b[32m   2319\u001b[39m     \u001b[38;5;66;03m# Channel updates from step N are only visible in step N+1\u001b[39;00m\n\u001b[32m   2320\u001b[39m     \u001b[38;5;66;03m# channels are guaranteed to be immutable for the duration of the step,\u001b[39;00m\n\u001b[32m   2321\u001b[39m     \u001b[38;5;66;03m# with channel updates applied only at the transition between steps.\u001b[39;00m\n\u001b[32m   2322\u001b[39m     \u001b[38;5;28;01mwhile\u001b[39;00m loop.tick(input_keys=\u001b[38;5;28mself\u001b[39m.input_channels):\n\u001b[32m-> \u001b[39m\u001b[32m2323\u001b[39m \u001b[43m        \u001b[49m\u001b[38;5;28;43;01mfor\u001b[39;49;00m\u001b[43m \u001b[49m\u001b[43m_\u001b[49m\u001b[43m \u001b[49m\u001b[38;5;129;43;01min\u001b[39;49;00m\u001b[43m \u001b[49m\u001b[43mrunner\u001b[49m\u001b[43m.\u001b[49m\u001b[43mtick\u001b[49m\u001b[43m(\u001b[49m\n\u001b[32m   2324\u001b[39m \u001b[43m            \u001b[49m\u001b[43mloop\u001b[49m\u001b[43m.\u001b[49m\u001b[43mtasks\u001b[49m\u001b[43m.\u001b[49m\u001b[43mvalues\u001b[49m\u001b[43m(\u001b[49m\u001b[43m)\u001b[49m\u001b[43m,\u001b[49m\n\u001b[32m   2325\u001b[39m \u001b[43m            \u001b[49m\u001b[43mtimeout\u001b[49m\u001b[43m=\u001b[49m\u001b[38;5;28;43mself\u001b[39;49m\u001b[43m.\u001b[49m\u001b[43mstep_timeout\u001b[49m\u001b[43m,\u001b[49m\n\u001b[32m   2326\u001b[39m \u001b[43m            \u001b[49m\u001b[43mretry_policy\u001b[49m\u001b[43m=\u001b[49m\u001b[38;5;28;43mself\u001b[39;49m\u001b[43m.\u001b[49m\u001b[43mretry_policy\u001b[49m\u001b[43m,\u001b[49m\n\u001b[32m   2327\u001b[39m \u001b[43m            \u001b[49m\u001b[43mget_waiter\u001b[49m\u001b[43m=\u001b[49m\u001b[43mget_waiter\u001b[49m\u001b[43m,\u001b[49m\n\u001b[32m   2328\u001b[39m \u001b[43m        \u001b[49m\u001b[43m)\u001b[49m\u001b[43m:\u001b[49m\n\u001b[32m   2329\u001b[39m \u001b[43m            \u001b[49m\u001b[38;5;66;43;03m# emit output\u001b[39;49;00m\n\u001b[32m   2330\u001b[39m \u001b[43m            \u001b[49m\u001b[38;5;28;43;01myield from\u001b[39;49;00m\u001b[43m \u001b[49m\u001b[43moutput\u001b[49m\u001b[43m(\u001b[49m\u001b[43m)\u001b[49m\n\u001b[32m   2331\u001b[39m \u001b[38;5;66;03m# emit output\u001b[39;00m\n",
      "\u001b[36mFile \u001b[39m\u001b[32md:\\TAMU\\SEM 4\\CNM\\BrokenBasket\\.venv\\Lib\\site-packages\\langgraph\\pregel\\runner.py:146\u001b[39m, in \u001b[36mPregelRunner.tick\u001b[39m\u001b[34m(self, tasks, reraise, timeout, retry_policy, get_waiter)\u001b[39m\n\u001b[32m    144\u001b[39m t = tasks[\u001b[32m0\u001b[39m]\n\u001b[32m    145\u001b[39m \u001b[38;5;28;01mtry\u001b[39;00m:\n\u001b[32m--> \u001b[39m\u001b[32m146\u001b[39m     \u001b[43mrun_with_retry\u001b[49m\u001b[43m(\u001b[49m\n\u001b[32m    147\u001b[39m \u001b[43m        \u001b[49m\u001b[43mt\u001b[49m\u001b[43m,\u001b[49m\n\u001b[32m    148\u001b[39m \u001b[43m        \u001b[49m\u001b[43mretry_policy\u001b[49m\u001b[43m,\u001b[49m\n\u001b[32m    149\u001b[39m \u001b[43m        \u001b[49m\u001b[43mconfigurable\u001b[49m\u001b[43m=\u001b[49m\u001b[43m{\u001b[49m\n\u001b[32m    150\u001b[39m \u001b[43m            \u001b[49m\u001b[43mCONFIG_KEY_CALL\u001b[49m\u001b[43m:\u001b[49m\u001b[43m \u001b[49m\u001b[43mpartial\u001b[49m\u001b[43m(\u001b[49m\n\u001b[32m    151\u001b[39m \u001b[43m                \u001b[49m\u001b[43m_call\u001b[49m\u001b[43m,\u001b[49m\n\u001b[32m    152\u001b[39m \u001b[43m                \u001b[49m\u001b[43mweakref\u001b[49m\u001b[43m.\u001b[49m\u001b[43mref\u001b[49m\u001b[43m(\u001b[49m\u001b[43mt\u001b[49m\u001b[43m)\u001b[49m\u001b[43m,\u001b[49m\n\u001b[32m    153\u001b[39m \u001b[43m                \u001b[49m\u001b[43mretry\u001b[49m\u001b[43m=\u001b[49m\u001b[43mretry_policy\u001b[49m\u001b[43m,\u001b[49m\n\u001b[32m    154\u001b[39m \u001b[43m                \u001b[49m\u001b[43mfutures\u001b[49m\u001b[43m=\u001b[49m\u001b[43mweakref\u001b[49m\u001b[43m.\u001b[49m\u001b[43mref\u001b[49m\u001b[43m(\u001b[49m\u001b[43mfutures\u001b[49m\u001b[43m)\u001b[49m\u001b[43m,\u001b[49m\n\u001b[32m    155\u001b[39m \u001b[43m                \u001b[49m\u001b[43mschedule_task\u001b[49m\u001b[43m=\u001b[49m\u001b[38;5;28;43mself\u001b[39;49m\u001b[43m.\u001b[49m\u001b[43mschedule_task\u001b[49m\u001b[43m,\u001b[49m\n\u001b[32m    156\u001b[39m \u001b[43m                \u001b[49m\u001b[43msubmit\u001b[49m\u001b[43m=\u001b[49m\u001b[38;5;28;43mself\u001b[39;49m\u001b[43m.\u001b[49m\u001b[43msubmit\u001b[49m\u001b[43m,\u001b[49m\n\u001b[32m    157\u001b[39m \u001b[43m                \u001b[49m\u001b[43mreraise\u001b[49m\u001b[43m=\u001b[49m\u001b[43mreraise\u001b[49m\u001b[43m,\u001b[49m\n\u001b[32m    158\u001b[39m \u001b[43m            \u001b[49m\u001b[43m)\u001b[49m\u001b[43m,\u001b[49m\n\u001b[32m    159\u001b[39m \u001b[43m        \u001b[49m\u001b[43m}\u001b[49m\u001b[43m,\u001b[49m\n\u001b[32m    160\u001b[39m \u001b[43m    \u001b[49m\u001b[43m)\u001b[49m\n\u001b[32m    161\u001b[39m     \u001b[38;5;28mself\u001b[39m.commit(t, \u001b[38;5;28;01mNone\u001b[39;00m)\n\u001b[32m    162\u001b[39m \u001b[38;5;28;01mexcept\u001b[39;00m \u001b[38;5;167;01mException\u001b[39;00m \u001b[38;5;28;01mas\u001b[39;00m exc:\n",
      "\u001b[36mFile \u001b[39m\u001b[32md:\\TAMU\\SEM 4\\CNM\\BrokenBasket\\.venv\\Lib\\site-packages\\langgraph\\pregel\\retry.py:40\u001b[39m, in \u001b[36mrun_with_retry\u001b[39m\u001b[34m(task, retry_policy, configurable)\u001b[39m\n\u001b[32m     38\u001b[39m     task.writes.clear()\n\u001b[32m     39\u001b[39m     \u001b[38;5;66;03m# run the task\u001b[39;00m\n\u001b[32m---> \u001b[39m\u001b[32m40\u001b[39m     \u001b[38;5;28;01mreturn\u001b[39;00m \u001b[43mtask\u001b[49m\u001b[43m.\u001b[49m\u001b[43mproc\u001b[49m\u001b[43m.\u001b[49m\u001b[43minvoke\u001b[49m\u001b[43m(\u001b[49m\u001b[43mtask\u001b[49m\u001b[43m.\u001b[49m\u001b[43minput\u001b[49m\u001b[43m,\u001b[49m\u001b[43m \u001b[49m\u001b[43mconfig\u001b[49m\u001b[43m)\u001b[49m\n\u001b[32m     41\u001b[39m \u001b[38;5;28;01mexcept\u001b[39;00m ParentCommand \u001b[38;5;28;01mas\u001b[39;00m exc:\n\u001b[32m     42\u001b[39m     ns: \u001b[38;5;28mstr\u001b[39m = config[CONF][CONFIG_KEY_CHECKPOINT_NS]\n",
      "\u001b[36mFile \u001b[39m\u001b[32md:\\TAMU\\SEM 4\\CNM\\BrokenBasket\\.venv\\Lib\\site-packages\\langgraph\\utils\\runnable.py:600\u001b[39m, in \u001b[36mRunnableSeq.invoke\u001b[39m\u001b[34m(self, input, config, **kwargs)\u001b[39m\n\u001b[32m    596\u001b[39m config = patch_config(\n\u001b[32m    597\u001b[39m     config, callbacks=run_manager.get_child(\u001b[33mf\u001b[39m\u001b[33m\"\u001b[39m\u001b[33mseq:step:\u001b[39m\u001b[38;5;132;01m{\u001b[39;00mi\u001b[38;5;250m \u001b[39m+\u001b[38;5;250m \u001b[39m\u001b[32m1\u001b[39m\u001b[38;5;132;01m}\u001b[39;00m\u001b[33m\"\u001b[39m)\n\u001b[32m    598\u001b[39m )\n\u001b[32m    599\u001b[39m \u001b[38;5;28;01mif\u001b[39;00m i == \u001b[32m0\u001b[39m:\n\u001b[32m--> \u001b[39m\u001b[32m600\u001b[39m     \u001b[38;5;28minput\u001b[39m = \u001b[43mstep\u001b[49m\u001b[43m.\u001b[49m\u001b[43minvoke\u001b[49m\u001b[43m(\u001b[49m\u001b[38;5;28;43minput\u001b[39;49m\u001b[43m,\u001b[49m\u001b[43m \u001b[49m\u001b[43mconfig\u001b[49m\u001b[43m,\u001b[49m\u001b[43m \u001b[49m\u001b[43m*\u001b[49m\u001b[43m*\u001b[49m\u001b[43mkwargs\u001b[49m\u001b[43m)\u001b[49m\n\u001b[32m    601\u001b[39m \u001b[38;5;28;01melse\u001b[39;00m:\n\u001b[32m    602\u001b[39m     \u001b[38;5;28minput\u001b[39m = step.invoke(\u001b[38;5;28minput\u001b[39m, config)\n",
      "\u001b[36mFile \u001b[39m\u001b[32md:\\TAMU\\SEM 4\\CNM\\BrokenBasket\\.venv\\Lib\\site-packages\\langgraph\\utils\\runnable.py:365\u001b[39m, in \u001b[36mRunnableCallable.invoke\u001b[39m\u001b[34m(self, input, config, **kwargs)\u001b[39m\n\u001b[32m    363\u001b[39m \u001b[38;5;28;01melse\u001b[39;00m:\n\u001b[32m    364\u001b[39m     \u001b[38;5;28;01mwith\u001b[39;00m set_config_context(config) \u001b[38;5;28;01mas\u001b[39;00m context:\n\u001b[32m--> \u001b[39m\u001b[32m365\u001b[39m         ret = \u001b[43mcontext\u001b[49m\u001b[43m.\u001b[49m\u001b[43mrun\u001b[49m\u001b[43m(\u001b[49m\u001b[38;5;28;43mself\u001b[39;49m\u001b[43m.\u001b[49m\u001b[43mfunc\u001b[49m\u001b[43m,\u001b[49m\u001b[43m \u001b[49m\u001b[43m*\u001b[49m\u001b[43margs\u001b[49m\u001b[43m,\u001b[49m\u001b[43m \u001b[49m\u001b[43m*\u001b[49m\u001b[43m*\u001b[49m\u001b[43mkwargs\u001b[49m\u001b[43m)\u001b[49m\n\u001b[32m    366\u001b[39m \u001b[38;5;28;01mif\u001b[39;00m \u001b[38;5;28misinstance\u001b[39m(ret, Runnable) \u001b[38;5;129;01mand\u001b[39;00m \u001b[38;5;28mself\u001b[39m.recurse:\n\u001b[32m    367\u001b[39m     \u001b[38;5;28;01mreturn\u001b[39;00m ret.invoke(\u001b[38;5;28minput\u001b[39m, config)\n",
      "\u001b[36mCell\u001b[39m\u001b[36m \u001b[39m\u001b[32mIn[60]\u001b[39m\u001b[32m, line 14\u001b[39m, in \u001b[36mrecipe_generator\u001b[39m\u001b[34m(state)\u001b[39m\n\u001b[32m      3\u001b[39m \u001b[38;5;250m\u001b[39m\u001b[33;03m\"\"\"\u001b[39;00m\n\u001b[32m      4\u001b[39m \u001b[33;03mGenerate a recipe\u001b[39;00m\n\u001b[32m      5\u001b[39m \n\u001b[32m   (...)\u001b[39m\u001b[32m     10\u001b[39m \u001b[33;03m    state (dict): New key added to state, documents, that contains retrieved documents\u001b[39;00m\n\u001b[32m     11\u001b[39m \u001b[33;03m\"\"\"\u001b[39;00m\n\u001b[32m     12\u001b[39m \u001b[38;5;28mprint\u001b[39m(\u001b[33m\"\u001b[39m\u001b[33m---GENERATE RECIPE---\u001b[39m\u001b[33m\"\u001b[39m)\n\u001b[32m---> \u001b[39m\u001b[32m14\u001b[39m response = generate_recipe.invoke({\u001b[33m\"\u001b[39m\u001b[33mmessages\u001b[39m\u001b[33m\"\u001b[39m: state[\u001b[33m\"\u001b[39m\u001b[33mmessages\u001b[39m\u001b[33m\"\u001b[39m], \u001b[33m\"\u001b[39m\u001b[33mpreferences\u001b[39m\u001b[33m\"\u001b[39m: \u001b[43mstate\u001b[49m\u001b[43m[\u001b[49m\u001b[33;43m\"\u001b[39;49m\u001b[33;43mpreferences\u001b[39;49m\u001b[33;43m\"\u001b[39;49m\u001b[43m]\u001b[49m, \u001b[33m\"\u001b[39m\u001b[33mdocuments\u001b[39m\u001b[33m\"\u001b[39m: state[\u001b[33m\"\u001b[39m\u001b[33mdocuments\u001b[39m\u001b[33m\"\u001b[39m]})\n\u001b[32m     15\u001b[39m \u001b[38;5;66;03m# print(\"generated: \",response)\u001b[39;00m\n\u001b[32m     16\u001b[39m \u001b[38;5;28;01mreturn\u001b[39;00m {\u001b[33m\"\u001b[39m\u001b[33mmeal_plan\u001b[39m\u001b[33m\"\u001b[39m: response}\n",
      "\u001b[31mKeyError\u001b[39m: 'preferences'",
      "During task with name 'generate_recipe' and id 'fb6e31cb-7a56-8815-49a7-1c695a945e6a'"
     ]
    }
   ],
   "source": [
    "input_message = [HumanMessage(content=\"How to make butter chicken\"),\n",
    "                 HumanMessage(content=\"Help me createa meal plan for the week\"),\n",
    "                 HumanMessage(content=\"What is the capital of France\")]\n",
    "\n",
    "for input_m in input_message:\n",
    "    output = app.invoke({\"messages\":input_m},config=config)\n",
    "    output[\"messages\"][-1].pretty_print()"
   ]
  }
 ],
 "metadata": {
  "kernelspec": {
   "display_name": ".venv",
   "language": "python",
   "name": "python3"
  },
  "language_info": {
   "codemirror_mode": {
    "name": "ipython",
    "version": 3
   },
   "file_extension": ".py",
   "mimetype": "text/x-python",
   "name": "python",
   "nbconvert_exporter": "python",
   "pygments_lexer": "ipython3",
   "version": "3.11.7"
  }
 },
 "nbformat": 4,
 "nbformat_minor": 2
}
